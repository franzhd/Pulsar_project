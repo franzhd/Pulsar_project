{
 "cells": [
  {
   "cell_type": "code",
   "execution_count": 1,
   "metadata": {},
   "outputs": [],
   "source": [
    "import numpy as np\n",
    "import scipy\n",
    "import numpy \n",
    "import matplotlib.pyplot as plt\n",
    "from scipy import linalg, special, stats\n",
    "from numpy import genfromtxt\n",
    "import ML_support as ml\n",
    "from scipy.optimize import fmin_l_bfgs_b"
   ]
  },
  {
   "cell_type": "code",
   "execution_count": 2,
   "metadata": {},
   "outputs": [],
   "source": [
    "Data, labels = ml.loadFile('../Train.txt')\n",
    "n, m = sum(labels == 1), sum(labels == 0)\n",
    "#print('Prima ', n/m)\n",
    "numpy.random.seed(0)\n",
    "indexes = numpy.random.permutation(1200)\n",
    "Data_s = Data[:, indexes]\n",
    "label_s = labels[indexes]\n",
    "ns, ms = sum(label_s == 1), sum(label_s == 0)\n",
    "#print('Dopo :', ns/ms)"
   ]
  },
  {
   "cell_type": "code",
   "execution_count": 3,
   "metadata": {},
   "outputs": [],
   "source": [
    "(DTR, LTR), (DTE, LTE) = ml.split_db_2to1(Data_s, label_s, seed=42)\n",
    "n1, n0 = sum(LTR == 1), sum(LTR == 0)"
   ]
  },
  {
   "cell_type": "code",
   "execution_count": 4,
   "metadata": {},
   "outputs": [],
   "source": [
    "def L_dual_wrapper(H_hat):\n",
    "    def L_dual(alpha):\n",
    "        one_vect = numpy.ones((len(alpha)), dtype='int32')\n",
    "        L_d = 1/2 * numpy.dot( alpha.T, numpy.dot( H_hat, alpha ) ) - numpy.dot( alpha.T, one_vect )\n",
    "        grad_L_d = numpy.dot( H_hat, alpha ) - one_vect\n",
    "\n",
    "        v = numpy.array((L_d, grad_L_d), dtype=object)\n",
    "\n",
    "        return v\n",
    "    return L_dual\n",
    "\n",
    "def radialSVM(DTR, LTR, DTE, params):\n",
    "    K, C, gamma = params[0], params[1], params[2]\n",
    "    \n",
    "    x0 = numpy.zeros((DTR.shape[1]), dtype='int32')\n",
    "    H_hat = ml.compute_H_hat2(DTR, LTR, K**2, None, None, gamma)\n",
    "\n",
    "    boundaries = []\n",
    "    for i in range(DTR.shape[1]):\n",
    "        boundaries.append((0, C))\n",
    "\n",
    "    alpha, f, dictionary = fmin_l_bfgs_b(L_dual_wrapper(H_hat), x0, bounds=boundaries, factr=1.0)\n",
    "\n",
    "    S = ml.compute_score(alpha, DTR, LTR, DTE, K**2, None, None, gamma)\n",
    "    \n",
    "   \n",
    "    return list(S)"
   ]
  },
  {
   "cell_type": "code",
   "execution_count": 5,
   "metadata": {},
   "outputs": [],
   "source": [
    "def kfold(D, L, fold, params, app):\n",
    "    error = 0\n",
    "    N = int(D.shape[1]/fold) #numero di elementi per ogni fold\n",
    "    numpy.random.seed(0) #imposto il seed del generatore di numeri casuali -> in tal modo genererò la stessa sequenza di numeri casuali aventi seed uguale\n",
    "    indexes = numpy.random.permutation(D.shape[1]) #genero una sequenza di numeri casuali che vanno da 0 al num_di_campioni\n",
    "    \n",
    "    LTE_final = []\n",
    "    llr_final = []\n",
    "    for j in range(fold):\n",
    "        test_indexes = indexes[(j*N):((j+1)*N)] #selezioni gli indici che identificano i campioni (casuali) del test set\n",
    "        if(j > 0): #se il test set non è preso dalla prima fold (--> il test set è una fold intermedia o l'ultima fold)\n",
    "            left_indexes = indexes[0:(j*N)] #allora prendo tutti gli indici che stanno a sinistra di tale fold\n",
    "        else: #se il test set è preso dalla prima fold\n",
    "            right_indexes = indexes[((j+1)*N):] #prendo tutti gli indici a destra della prima fold\n",
    "\n",
    "        if(j == 0): #se il test set è preso dalla prima fold\n",
    "            train_indexes = right_indexes #assegno agli indici di training quelli che stanno a destra della prima fold\n",
    "        elif(j == fold-1): #se il test set è preso dall'ultima fold\n",
    "            train_indexes = left_indexes #assegno agli indici di training quelli che stanno a sinistra dell'ultima fold\n",
    "        else: #in questo caso il test set è preso da una fold intermedia\n",
    "            train_indexes = numpy.hstack((left_indexes, right_indexes)) #pertanto assegno agli indici di training quelli appartenenti alle fold di sinistra e di destra\n",
    "\n",
    "        DTR = D[:, train_indexes]  #definisco insieme di training e di testing\n",
    "        LTR = L[train_indexes]\n",
    "        DTE = D[:, test_indexes]\n",
    "        LTE = L[test_indexes]\n",
    "        LTE_final.extend(LTE)\n",
    "        llr_final.extend(radialSVM(DTR, LTR, DTE, params))\n",
    "        \n",
    "    CM = ml.compute_optimal_B_decision(app, llr_final, LTE_final)\n",
    "\n",
    "    app_bayes_risk=ml.compute_Bayes_risk(CM, app)\n",
    "    DCF = ml.compute_norm_Bayes(app_bayes_risk, app)\n",
    "    \n",
    "    minDCF, _= ml.compute_min_DCF(llr_final, app, LTE_final)\n",
    "    \n",
    "    error = 1-(CM[0, 0]+CM[1,1])/(len(LTE_final))\n",
    "\n",
    "    print(\"\\-/ \\-/ \\-/ \\-/ \\-/ \")\n",
    "    print(\"Radial Basis SVM error:\", error)\n",
    "    print(f'{app} DCF:{round(DCF, 3)} minDCF: {round(minDCF,3)}')\n",
    "    print(\"/-\\ /-\\ /-\\ /-\\ /-\\ \")"
   ]
  },
  {
   "cell_type": "code",
   "execution_count": 6,
   "metadata": {},
   "outputs": [
    {
     "name": "stdout",
     "output_type": "stream",
     "text": [
      "\\-/ \\-/ \\-/ \\-/ \\-/ \n",
      "Radial Basis SVM error: 0.015350140056022421\n",
      "[0.5, 1, 1] DCF:0.1 minDCF: 0.1\n",
      "/-\\ /-\\ /-\\ /-\\ /-\\ \n",
      "\\-/ \\-/ \\-/ \\-/ \\-/ \n",
      "Radial Basis SVM error: 0.022296918767507057\n",
      "[0.5, 1, 1] DCF:0.187 minDCF: 0.105\n",
      "/-\\ /-\\ /-\\ /-\\ /-\\ \n"
     ]
    }
   ],
   "source": [
    "kfold(Data, labels, 5, [0, 1, 1], [0.5, 1, 1])\n",
    "kfold(Data, labels, 5, [0, 1, 10], [0.5, 1, 1])"
   ]
  },
  {
   "cell_type": "code",
   "execution_count": 7,
   "metadata": {},
   "outputs": [
    {
     "name": "stdout",
     "output_type": "stream",
     "text": [
      "\\-/ \\-/ \\-/ \\-/ \\-/ \n",
      "Radial Basis SVM error: 0.039887955182072776\n",
      "[0.5, 1, 1] DCF:0.434 minDCF: 0.219\n",
      "/-\\ /-\\ /-\\ /-\\ /-\\ \n",
      "\\-/ \\-/ \\-/ \\-/ \\-/ \n",
      "Radial Basis SVM error: 0.05859943977591031\n",
      "[0.5, 1, 1] DCF:0.637 minDCF: 0.583\n",
      "/-\\ /-\\ /-\\ /-\\ /-\\ \n"
     ]
    }
   ],
   "source": [
    "kfold(Data, labels, 5, [1, 1, 1], [0.5, 1, 1])\n",
    "kfold(Data, labels, 5, [1, 1, 10], [0.5, 1, 1])"
   ]
  },
  {
   "cell_type": "code",
   "execution_count": 8,
   "metadata": {},
   "outputs": [],
   "source": [
    "data_g = ml.gaussianize(Data)\n",
    "data_z = ml.z_normalization(Data)"
   ]
  },
  {
   "cell_type": "code",
   "execution_count": 9,
   "metadata": {},
   "outputs": [
    {
     "name": "stdout",
     "output_type": "stream",
     "text": [
      "\\-/ \\-/ \\-/ \\-/ \\-/ \n",
      "Radial Basis SVM error: 0.018039215686274535\n",
      "[0.5, 1, 1] DCF:0.158 minDCF: 0.115\n",
      "/-\\ /-\\ /-\\ /-\\ /-\\ \n",
      "\\-/ \\-/ \\-/ \\-/ \\-/ \n",
      "Radial Basis SVM error: 0.02061624649859939\n",
      "[0.5, 1, 1] DCF:0.21 minDCF: 0.069\n",
      "/-\\ /-\\ /-\\ /-\\ /-\\ \n",
      "\\-/ \\-/ \\-/ \\-/ \\-/ \n",
      "Radial Basis SVM error: 0.01837535014005598\n",
      "[0.5, 1, 1] DCF:0.168 minDCF: 0.102\n",
      "/-\\ /-\\ /-\\ /-\\ /-\\ \n",
      "\\-/ \\-/ \\-/ \\-/ \\-/ \n",
      "Radial Basis SVM error: 0.02061624649859939\n",
      "[0.5, 1, 1] DCF:0.21 minDCF: 0.069\n",
      "/-\\ /-\\ /-\\ /-\\ /-\\ \n"
     ]
    }
   ],
   "source": [
    "kfold(data_g, labels, 5, [0, 1, 1], [0.5, 1, 1])\n",
    "kfold(data_g, labels, 5, [1, 1, 10], [0.5, 1, 1])\n",
    "kfold(data_g, labels, 5, [1, 1, 1], [0.5, 1, 1])\n",
    "kfold(data_g, labels, 5, [1, 1, 10], [0.5, 1, 1]) "
   ]
  },
  {
   "cell_type": "code",
   "execution_count": 10,
   "metadata": {
    "scrolled": true
   },
   "outputs": [
    {
     "name": "stdout",
     "output_type": "stream",
     "text": [
      "\\-/ \\-/ \\-/ \\-/ \\-/ \n",
      "Radial Basis SVM error: 0.01837535014005598\n",
      "[0.5, 1, 1] DCF:0.17 minDCF: 0.105\n",
      "/-\\ /-\\ /-\\ /-\\ /-\\ \n",
      "\\-/ \\-/ \\-/ \\-/ \\-/ \n",
      "Radial Basis SVM error: 0.03540616246498596\n",
      "[0.5, 1, 1] DCF:0.383 minDCF: 0.093\n",
      "/-\\ /-\\ /-\\ /-\\ /-\\ \n",
      "\\-/ \\-/ \\-/ \\-/ \\-/ \n",
      "Radial Basis SVM error: 0.018599439775910387\n",
      "[0.5, 1, 1] DCF:0.174 minDCF: 0.104\n",
      "/-\\ /-\\ /-\\ /-\\ /-\\ \n",
      "\\-/ \\-/ \\-/ \\-/ \\-/ \n",
      "Radial Basis SVM error: 0.03540616246498596\n",
      "[0.5, 1, 1] DCF:0.383 minDCF: 0.093\n",
      "/-\\ /-\\ /-\\ /-\\ /-\\ \n"
     ]
    }
   ],
   "source": [
    "+kfold(data_z, labels, 5, [0, 1, 1], [0.5, 1, 1])\n",
    "kfold(data_z, labels, 5, [1, 1, 10], [0.5, 1, 1])\n",
    "kfold(data_z, labels, 5, [1, 1, 1], [0.5, 1, 1])\n",
    "kfold(data_z, labels, 5, [1, 1, 10], [0.5, 1, 1])"
   ]
  },
  {
   "cell_type": "code",
   "execution_count": 11,
   "metadata": {},
   "outputs": [
    {
     "name": "stdout",
     "output_type": "stream",
     "text": [
      "\\-/ \\-/ \\-/ \\-/ \\-/ \n",
      "Radial Basis SVM error: 0.9052100840336135\n",
      "[0.9, 1, 1] DCF:0.997 minDCF: 0.616\n",
      "/-\\ /-\\ /-\\ /-\\ /-\\ \n",
      "\\-/ \\-/ \\-/ \\-/ \\-/ \n",
      "Radial Basis SVM error: 0.9080112044817927\n",
      "[0.9, 1, 1] DCF:1.0 minDCF: 0.379\n",
      "/-\\ /-\\ /-\\ /-\\ /-\\ \n",
      "\\-/ \\-/ \\-/ \\-/ \\-/ \n",
      "Radial Basis SVM error: 0.9037535014005602\n",
      "[0.9, 1, 1] DCF:0.995 minDCF: 0.564\n",
      "/-\\ /-\\ /-\\ /-\\ /-\\ \n",
      "\\-/ \\-/ \\-/ \\-/ \\-/ \n",
      "Radial Basis SVM error: 0.9080112044817927\n",
      "[0.9, 1, 1] DCF:1.0 minDCF: 0.379\n",
      "/-\\ /-\\ /-\\ /-\\ /-\\ \n"
     ]
    }
   ],
   "source": [
    "kfold(data_g, labels, 5, [0, 1, 1], [0.9, 1, 1])\n",
    "kfold(data_g, labels, 5, [1, 1, 10], [0.9, 1, 1])\n",
    "kfold(data_g, labels, 5, [1, 1, 1], [0.9, 1, 1])\n",
    "kfold(data_g, labels, 5, [1, 1, 10], [0.9, 1, 1])"
   ]
  },
  {
   "cell_type": "code",
   "execution_count": 12,
   "metadata": {},
   "outputs": [
    {
     "name": "stdout",
     "output_type": "stream",
     "text": [
      "\\-/ \\-/ \\-/ \\-/ \\-/ \n",
      "Radial Basis SVM error: 0.9080112044817927\n",
      "[0.9, 1, 1] DCF:1.0 minDCF: 0.608\n",
      "/-\\ /-\\ /-\\ /-\\ /-\\ \n",
      "\\-/ \\-/ \\-/ \\-/ \\-/ \n",
      "Radial Basis SVM error: 0.9080112044817927\n",
      "[0.9, 1, 1] DCF:1.0 minDCF: 0.325\n",
      "/-\\ /-\\ /-\\ /-\\ /-\\ \n",
      "\\-/ \\-/ \\-/ \\-/ \\-/ \n",
      "Radial Basis SVM error: 0.9080112044817927\n",
      "[0.9, 1, 1] DCF:1.0 minDCF: 0.613\n",
      "/-\\ /-\\ /-\\ /-\\ /-\\ \n",
      "\\-/ \\-/ \\-/ \\-/ \\-/ \n",
      "Radial Basis SVM error: 0.9080112044817927\n",
      "[0.9, 1, 1] DCF:1.0 minDCF: 0.325\n",
      "/-\\ /-\\ /-\\ /-\\ /-\\ \n"
     ]
    }
   ],
   "source": [
    "kfold(data_z, labels, 5, [0, 1, 1], [0.9, 1, 1])\n",
    "kfold(data_z, labels, 5, [1, 1, 10], [0.9, 1, 1])\n",
    "kfold(data_z, labels, 5, [1, 1, 1], [0.9, 1, 1])\n",
    "kfold(data_z, labels, 5, [1, 1, 10], [0.9, 1, 1])"
   ]
  },
  {
   "cell_type": "code",
   "execution_count": 13,
   "metadata": {},
   "outputs": [
    {
     "name": "stdout",
     "output_type": "stream",
     "text": [
      "\\-/ \\-/ \\-/ \\-/ \\-/ \n",
      "Radial Basis SVM error: 0.9080112044817927\n",
      "[0.9, 1, 1] DCF:1.0 minDCF: 0.312\n",
      "/-\\ /-\\ /-\\ /-\\ /-\\ \n",
      "\\-/ \\-/ \\-/ \\-/ \\-/ \n",
      "Radial Basis SVM error: 0.7454341736694678\n",
      "[0.9, 1, 1] DCF:2.631 minDCF: 0.8\n",
      "/-\\ /-\\ /-\\ /-\\ /-\\ \n",
      "\\-/ \\-/ \\-/ \\-/ \\-/ \n",
      "Radial Basis SVM error: 0.9080112044817927\n",
      "[0.9, 1, 1] DCF:1.0 minDCF: 0.351\n",
      "/-\\ /-\\ /-\\ /-\\ /-\\ \n",
      "\\-/ \\-/ \\-/ \\-/ \\-/ \n",
      "Radial Basis SVM error: 0.7454341736694678\n",
      "[0.9, 1, 1] DCF:2.631 minDCF: 0.8\n",
      "/-\\ /-\\ /-\\ /-\\ /-\\ \n"
     ]
    }
   ],
   "source": [
    "kfold(Data, labels, 5, [0, 1, 1], [0.9, 1, 1])\n",
    "kfold(Data, labels, 5, [1, 1, 10], [0.9, 1, 1])\n",
    "kfold(Data, labels, 5, [1, 1, 1], [0.9, 1, 1])\n",
    "kfold(Data, labels, 5, [1, 1, 10], [0.9, 1, 1])"
   ]
  },
  {
   "cell_type": "code",
   "execution_count": 15,
   "metadata": {},
   "outputs": [
    {
     "name": "stdout",
     "output_type": "stream",
     "text": [
      "\\-/ \\-/ \\-/ \\-/ \\-/ \n",
      "Radial Basis SVM error: 0.09198879551820727\n",
      "[0.1, 1, 1] DCF:1.0 minDCF: 0.192\n",
      "/-\\ /-\\ /-\\ /-\\ /-\\ \n",
      "\\-/ \\-/ \\-/ \\-/ \\-/ \n",
      "Radial Basis SVM error: 0.09198879551820727\n",
      "[0.1, 1, 1] DCF:1.0 minDCF: 0.138\n",
      "/-\\ /-\\ /-\\ /-\\ /-\\ \n",
      "\\-/ \\-/ \\-/ \\-/ \\-/ \n",
      "Radial Basis SVM error: 0.09198879551820727\n",
      "[0.1, 1, 1] DCF:1.0 minDCF: 0.187\n",
      "/-\\ /-\\ /-\\ /-\\ /-\\ \n",
      "\\-/ \\-/ \\-/ \\-/ \\-/ \n",
      "Radial Basis SVM error: 0.09198879551820727\n",
      "[0.1, 1, 1] DCF:1.0 minDCF: 0.13\n",
      "/-\\ /-\\ /-\\ /-\\ /-\\ \n"
     ]
    }
   ],
   "source": [
    "kfold(data_g, labels, 5, [0, 1, 1], [0.1, 1, 1])\n",
    "kfold(data_g, labels, 5, [1, 1, 10], [0.1, 1, 1])\n",
    "kfold(data_g, labels, 5, [1, 1, 1], [0.1, 1, 1])\n",
    "kfold(data_g, labels, 5, [0, 1, 10], [0.1, 1, 1])"
   ]
  },
  {
   "cell_type": "code",
   "execution_count": 16,
   "metadata": {},
   "outputs": [
    {
     "name": "stdout",
     "output_type": "stream",
     "text": [
      "\\-/ \\-/ \\-/ \\-/ \\-/ \n",
      "Radial Basis SVM error: 0.09198879551820727\n",
      "[0.1, 1, 1] DCF:1.0 minDCF: 0.195\n",
      "/-\\ /-\\ /-\\ /-\\ /-\\ \n",
      "\\-/ \\-/ \\-/ \\-/ \\-/ \n",
      "Radial Basis SVM error: 0.09198879551820727\n",
      "[0.1, 1, 1] DCF:1.0 minDCF: 0.147\n",
      "/-\\ /-\\ /-\\ /-\\ /-\\ \n",
      "\\-/ \\-/ \\-/ \\-/ \\-/ \n",
      "Radial Basis SVM error: 0.09198879551820727\n",
      "[0.1, 1, 1] DCF:1.0 minDCF: 0.185\n",
      "/-\\ /-\\ /-\\ /-\\ /-\\ \n",
      "\\-/ \\-/ \\-/ \\-/ \\-/ \n",
      "Radial Basis SVM error: 0.09198879551820727\n",
      "[0.1, 1, 1] DCF:1.0 minDCF: 0.138\n",
      "/-\\ /-\\ /-\\ /-\\ /-\\ \n"
     ]
    }
   ],
   "source": [
    "kfold(data_z, labels, 5, [0, 1, 1], [0.1, 1, 1])\n",
    "kfold(data_z, labels, 5, [1, 1, 10], [0.1, 1, 1])\n",
    "kfold(data_z, labels, 5, [1, 1, 1], [0.1, 1, 1])\n",
    "kfold(data_z, labels, 5, [0, 1, 10], [0.1, 1, 1])"
   ]
  },
  {
   "cell_type": "code",
   "execution_count": 17,
   "metadata": {},
   "outputs": [
    {
     "name": "stdout",
     "output_type": "stream",
     "text": [
      "\\-/ \\-/ \\-/ \\-/ \\-/ \n",
      "Radial Basis SVM error: 0.09198879551820727\n",
      "[0.1, 1, 1] DCF:1.0 minDCF: 0.16\n",
      "/-\\ /-\\ /-\\ /-\\ /-\\ \n",
      "\\-/ \\-/ \\-/ \\-/ \\-/ \n",
      "Radial Basis SVM error: 0.09198879551820727\n",
      "[0.1, 1, 1] DCF:1.0 minDCF: 0.637\n",
      "/-\\ /-\\ /-\\ /-\\ /-\\ \n",
      "\\-/ \\-/ \\-/ \\-/ \\-/ \n",
      "Radial Basis SVM error: 0.09198879551820727\n",
      "[0.1, 1, 1] DCF:1.0 minDCF: 0.405\n",
      "/-\\ /-\\ /-\\ /-\\ /-\\ \n",
      "\\-/ \\-/ \\-/ \\-/ \\-/ \n",
      "Radial Basis SVM error: 0.09198879551820727\n",
      "[0.1, 1, 1] DCF:1.0 minDCF: 0.237\n",
      "/-\\ /-\\ /-\\ /-\\ /-\\ \n"
     ]
    }
   ],
   "source": [
    "kfold(Data, labels, 5, [0, 1, 1], [0.1, 1, 1])\n",
    "kfold(Data, labels, 5, [1, 1, 10], [0.1, 1, 1])\n",
    "kfold(Data, labels, 5, [1, 1, 1], [0.1, 1, 1])\n",
    "kfold(Data, labels, 5, [0, 1, 10], [0.1, 1, 1])"
   ]
  },
  {
   "cell_type": "code",
   "execution_count": 18,
   "metadata": {},
   "outputs": [
    {
     "name": "stdout",
     "output_type": "stream",
     "text": [
      "\\-/ \\-/ \\-/ \\-/ \\-/ \n",
      "Radial Basis SVM error: 0.012997198879551863\n",
      "[0.5, 1, 1] DCF:0.095 minDCF: 0.095\n",
      "/-\\ /-\\ /-\\ /-\\ /-\\ \n",
      "\\-/ \\-/ \\-/ \\-/ \\-/ \n",
      "Radial Basis SVM error: 0.012885154061624604\n",
      "[0.5, 1, 1] DCF:0.121 minDCF: 0.103\n",
      "/-\\ /-\\ /-\\ /-\\ /-\\ \n",
      "\\-/ \\-/ \\-/ \\-/ \\-/ \n",
      "Radial Basis SVM error: 0.9080112044817927\n",
      "[0.9, 1, 1] DCF:1.0 minDCF: 0.373\n",
      "/-\\ /-\\ /-\\ /-\\ /-\\ \n",
      "\\-/ \\-/ \\-/ \\-/ \\-/ \n",
      "Radial Basis SVM error: 0.9080112044817927\n",
      "[0.9, 1, 1] DCF:1.0 minDCF: 0.34\n",
      "/-\\ /-\\ /-\\ /-\\ /-\\ \n",
      "\\-/ \\-/ \\-/ \\-/ \\-/ \n",
      "Radial Basis SVM error: 0.7454341736694678\n",
      "[0.9, 1, 1] DCF:2.631 minDCF: 0.8\n",
      "/-\\ /-\\ /-\\ /-\\ /-\\ \n"
     ]
    }
   ],
   "source": [
    "kfold(data_g, labels, 5, [0, 1, 10], [0.5, 1, 1]) \n",
    "kfold(data_z, labels, 5, [0, 1, 10], [0.5, 1, 1])\n",
    "kfold(data_g, labels, 5, [0, 1, 10], [0.9, 1, 1])\n",
    "kfold(data_z, labels, 5, [0, 1, 10], [0.9, 1, 1])\n",
    "kfold(Data, labels, 5, [1, 1, 10], [0.9, 1, 1])"
   ]
  },
  {
   "cell_type": "code",
   "execution_count": 19,
   "metadata": {},
   "outputs": [
    {
     "name": "stdout",
     "output_type": "stream",
     "text": [
      "ciao\n"
     ]
    }
   ],
   "source": [
    "print('ciao')"
   ]
  },
  {
   "cell_type": "code",
   "execution_count": null,
   "metadata": {},
   "outputs": [],
   "source": []
  },
  {
   "cell_type": "code",
   "execution_count": null,
   "metadata": {},
   "outputs": [],
   "source": []
  }
 ],
 "metadata": {
  "kernelspec": {
   "display_name": "Python 3",
   "language": "python",
   "name": "python3"
  },
  "language_info": {
   "codemirror_mode": {
    "name": "ipython",
    "version": 3
   },
   "file_extension": ".py",
   "mimetype": "text/x-python",
   "name": "python",
   "nbconvert_exporter": "python",
   "pygments_lexer": "ipython3",
   "version": "3.8.5"
  }
 },
 "nbformat": 4,
 "nbformat_minor": 5
}
