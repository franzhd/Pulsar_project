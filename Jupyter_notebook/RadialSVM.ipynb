{
 "cells": [
  {
   "cell_type": "code",
   "execution_count": 2,
   "id": "mobile-leonard",
   "metadata": {},
   "outputs": [
    {
     "name": "stderr",
     "output_type": "stream",
     "text": [
      "\n",
      "Bad key \"text.kerning_factor\" on line 4 in\n",
      "/opt/anaconda3/envs/bigdatalab_cpu_202101/lib/python3.7/site-packages/matplotlib/mpl-data/stylelib/_classic_test_patch.mplstyle.\n",
      "You probably need to get an updated matplotlibrc file from\n",
      "https://github.com/matplotlib/matplotlib/blob/v3.1.2/matplotlibrc.template\n",
      "or from the matplotlib source distribution\n"
     ]
    }
   ],
   "source": [
    "import numpy as np\n",
    "import scipy\n",
    "import numpy \n",
    "import matplotlib.pyplot as plt\n",
    "from scipy import linalg, special, stats\n",
    "from numpy import genfromtxt\n",
    "import ML_support as ml\n",
    "from scipy.optimize import fmin_l_bfgs_b"
   ]
  },
  {
   "cell_type": "code",
   "execution_count": 3,
   "id": "another-biodiversity",
   "metadata": {},
   "outputs": [],
   "source": [
    "Data, labels = ml.loadFile('./Train.txt')\n",
    "n, m = sum(labels == 1), sum(labels == 0)\n",
    "#print('Prima ', n/m)\n",
    "numpy.random.seed(0)\n",
    "indexes = numpy.random.permutation(1200)\n",
    "Data_s = Data[:, indexes]\n",
    "label_s = labels[indexes]\n",
    "ns, ms = sum(label_s == 1), sum(label_s == 0)\n",
    "#print('Dopo :', ns/ms)"
   ]
  },
  {
   "cell_type": "code",
   "execution_count": 4,
   "id": "colored-slovak",
   "metadata": {},
   "outputs": [],
   "source": [
    "(DTR, LTR), (DTE, LTE) = ml.split_db_2to1(Data_s, label_s, seed=42)\n",
    "n1, n0 = sum(LTR == 1), sum(LTR == 0)"
   ]
  },
  {
   "cell_type": "code",
   "execution_count": 9,
   "id": "covered-shadow",
   "metadata": {},
   "outputs": [],
   "source": [
    "def L_dual_wrapper(H_hat):\n",
    "    def L_dual(alpha):\n",
    "        one_vect = numpy.ones((len(alpha)), dtype='int32')\n",
    "        L_d = 1/2 * numpy.dot( alpha.T, numpy.dot( H_hat, alpha ) ) - numpy.dot( alpha.T, one_vect )\n",
    "        grad_L_d = numpy.dot( H_hat, alpha ) - one_vect\n",
    "\n",
    "        v = numpy.array((L_d, grad_L_d), dtype=object)\n",
    "\n",
    "        return v\n",
    "    return L_dual\n",
    "\n",
    "def radialSVM(DTR, LTR, DTE, params):\n",
    "    K, C, gamma = params[0], params[1], params[2]\n",
    "    \n",
    "    x0 = numpy.zeros((DTR.shape[1]), dtype='int32')\n",
    "    H_hat = ml.compute_H_hat2(DTR, LTR, K**2, None, None, gamma)\n",
    "\n",
    "    boundaries = []\n",
    "    for i in range(DTR.shape[1]):\n",
    "        boundaries.append((0, C))\n",
    "\n",
    "    alpha, f, dictionary = fmin_l_bfgs_b(L_dual_wrapper(H_hat), x0, bounds=boundaries, factr=1.0)\n",
    "\n",
    "    S = ml.compute_score(alpha, DTR, LTR, DTE, K**2, None, None, gamma)\n",
    "\n",
    "    return list(S)"
   ]
  },
  {
   "cell_type": "code",
   "execution_count": 10,
   "id": "needed-democrat",
   "metadata": {},
   "outputs": [],
   "source": [
    "def kfold(D, L, fold, params, app):\n",
    "    error = 0\n",
    "    N = int(D.shape[1]/fold) #numero di elementi per ogni fold\n",
    "    numpy.random.seed(0) #imposto il seed del generatore di numeri casuali -> in tal modo genererò la stessa sequenza di numeri casuali aventi seed uguale\n",
    "    indexes = numpy.random.permutation(D.shape[1]) #genero una sequenza di numeri casuali che vanno da 0 al num_di_campioni\n",
    "    \n",
    "    LTE_final = []\n",
    "    llr_final = []\n",
    "    for j in range(fold):\n",
    "        test_indexes = indexes[(j*N):((j+1)*N)] #selezioni gli indici che identificano i campioni (casuali) del test set\n",
    "        if(j > 0): #se il test set non è preso dalla prima fold (--> il test set è una fold intermedia o l'ultima fold)\n",
    "            left_indexes = indexes[0:(j*N)] #allora prendo tutti gli indici che stanno a sinistra di tale fold\n",
    "        else: #se il test set è preso dalla prima fold\n",
    "            right_indexes = indexes[((j+1)*N):] #prendo tutti gli indici a destra della prima fold\n",
    "\n",
    "        if(j == 0): #se il test set è preso dalla prima fold\n",
    "            train_indexes = right_indexes #assegno agli indici di training quelli che stanno a destra della prima fold\n",
    "        elif(j == fold-1): #se il test set è preso dall'ultima fold\n",
    "            train_indexes = left_indexes #assegno agli indici di training quelli che stanno a sinistra dell'ultima fold\n",
    "        else: #in questo caso il test set è preso da una fold intermedia\n",
    "            train_indexes = numpy.hstack((left_indexes, right_indexes)) #pertanto assegno agli indici di training quelli appartenenti alle fold di sinistra e di destra\n",
    "\n",
    "        DTR = D[:, train_indexes]  #definisco insieme di training e di testing\n",
    "        LTR = L[train_indexes]\n",
    "        DTE = D[:, test_indexes]\n",
    "        LTE = L[test_indexes]\n",
    "        LTE_final.extend(LTE)\n",
    "        llr_final.extend(radialSVM(DTR, LTR, DTE, params))\n",
    "        \n",
    "    CM = ml.compute_optimal_B_decision(app, llr_final, LTE_final)\n",
    "    sensitivity = (1-ml.compute_FNR(CM)) # TPR\n",
    "    specificity = (1-ml.compute_FPR(CM)) # TNR\n",
    "        \n",
    "    app_bayes_risk=ml.compute_Bayes_risk(CM, app)\n",
    "    DCF = ml.compute_norm_Bayes(app_bayes_risk, app)\n",
    "\n",
    "    minDCF= ml.compute_min_DCF(llr_final, app, LTE_final)\n",
    "    error = 1-(CM[0, 0]+CM[1,1])/(len(LTE_final))\n",
    "\n",
    "    print(\"\\-/ \\-/ \\-/ \\-/ \\-/ \")\n",
    "    print(\"Radial Basis SVM error:\", error)\n",
    "    print(app,\"DCF:\", DCF, \"minDCF:\", minDCF)\n",
    "    print('Sensitivity (TPR):', sensitivity, ' Specificity (TNR): ', specificity)\n",
    "    print('CM\\n', CM)\n",
    "    print(\"/-\\ /-\\ /-\\ /-\\ /-\\ \")"
   ]
  },
  {
   "cell_type": "code",
   "execution_count": 11,
   "id": "korean-escape",
   "metadata": {},
   "outputs": [
    {
     "name": "stdout",
     "output_type": "stream",
     "text": [
      "\\-/ \\-/ \\-/ \\-/ \\-/ \n",
      "Radial Basis SVM error: 0.015350140056022421\n",
      "[0.5, 1, 1] DCF: 0.10009718362866174 minDCF: 0.10009718362866174\n",
      "Sensitivity (TPR): 0.9074299634591961  Specificity (TNR):  0.9924728529121422\n",
      "CM\n",
      " [[8043.   76.]\n",
      " [  61.  745.]]\n",
      "/-\\ /-\\ /-\\ /-\\ /-\\ \n",
      "\\-/ \\-/ \\-/ \\-/ \\-/ \n",
      "Radial Basis SVM error: 0.022184873949579798\n",
      "[0.5, 1, 1] DCF: 0.18534312764752495 minDCF: 0.1051764034662662\n",
      "Sensitivity (TPR): 0.8209500609013398  Specificity (TNR):  0.9937068114511353\n",
      "CM\n",
      " [[8053.  147.]\n",
      " [  51.  674.]]\n",
      "/-\\ /-\\ /-\\ /-\\ /-\\ \n"
     ]
    }
   ],
   "source": [
    "kfold(Data, labels, 5, [0, 1, 1], [0.5, 1, 1])\n",
    "kfold(Data, labels, 5, [0, 1, 10], [0.5, 1, 1])"
   ]
  },
  {
   "cell_type": "code",
   "execution_count": 12,
   "id": "martial-birth",
   "metadata": {},
   "outputs": [
    {
     "name": "stdout",
     "output_type": "stream",
     "text": [
      "\\-/ \\-/ \\-/ \\-/ \\-/ \n",
      "Radial Basis SVM error: 0.076750700280112\n",
      "[0.5, 1, 1] DCF: 0.8343483556638246 minDCF: 0.8003455083909181\n",
      "Sensitivity (TPR): 0.1656516443361754  Specificity (TNR):  1.0\n",
      "CM\n",
      " [[8104.  685.]\n",
      " [   0.  136.]]\n",
      "/-\\ /-\\ /-\\ /-\\ /-\\ \n",
      "\\-/ \\-/ \\-/ \\-/ \\-/ \n",
      "Radial Basis SVM error: 0.039887955182072776\n",
      "[0.5, 1, 1] DCF: 0.4336175395858709 minDCF: 0.37937852377076087\n",
      "Sensitivity (TPR): 0.5663824604141291  Specificity (TNR):  1.0\n",
      "CM\n",
      " [[8104.  356.]\n",
      " [   0.  465.]]\n",
      "/-\\ /-\\ /-\\ /-\\ /-\\ \n"
     ]
    }
   ],
   "source": [
    "kfold(Data, labels, 5, [1, 1, 1], [0.5, 1, 1])\n",
    "kfold(Data, labels, 5, [1, 1, 10], [0.5, 1, 1])"
   ]
  },
  {
   "cell_type": "code",
   "execution_count": 13,
   "id": "coastal-mailman",
   "metadata": {},
   "outputs": [],
   "source": [
    "data_g = ml.gaussianize(Data)\n",
    "data_z = ml.z_normalization(Data)"
   ]
  },
  {
   "cell_type": "code",
   "execution_count": 14,
   "id": "brown-scholarship",
   "metadata": {},
   "outputs": [
    {
     "ename": "KeyboardInterrupt",
     "evalue": "",
     "output_type": "error",
     "traceback": [
      "\u001b[0;31m---------------------------------------------------------------------------\u001b[0m",
      "\u001b[0;31mKeyboardInterrupt\u001b[0m                         Traceback (most recent call last)",
      "\u001b[0;32m<ipython-input-14-fa7e0ff6b9a9>\u001b[0m in \u001b[0;36m<module>\u001b[0;34m\u001b[0m\n\u001b[0;32m----> 1\u001b[0;31m \u001b[0mkfold\u001b[0m\u001b[0;34m(\u001b[0m\u001b[0mdata_g\u001b[0m\u001b[0;34m,\u001b[0m \u001b[0mlabels\u001b[0m\u001b[0;34m,\u001b[0m \u001b[0;36m5\u001b[0m\u001b[0;34m,\u001b[0m \u001b[0;34m[\u001b[0m\u001b[0;36m0\u001b[0m\u001b[0;34m,\u001b[0m \u001b[0;36m1\u001b[0m\u001b[0;34m,\u001b[0m \u001b[0;36m1\u001b[0m\u001b[0;34m]\u001b[0m\u001b[0;34m,\u001b[0m \u001b[0;34m[\u001b[0m\u001b[0;36m0.5\u001b[0m\u001b[0;34m,\u001b[0m \u001b[0;36m1\u001b[0m\u001b[0;34m,\u001b[0m \u001b[0;36m1\u001b[0m\u001b[0;34m]\u001b[0m\u001b[0;34m)\u001b[0m\u001b[0;34m\u001b[0m\u001b[0;34m\u001b[0m\u001b[0m\n\u001b[0m\u001b[1;32m      2\u001b[0m \u001b[0mkfold\u001b[0m\u001b[0;34m(\u001b[0m\u001b[0mdata_g\u001b[0m\u001b[0;34m,\u001b[0m \u001b[0mlabels\u001b[0m\u001b[0;34m,\u001b[0m \u001b[0;36m5\u001b[0m\u001b[0;34m,\u001b[0m \u001b[0;34m[\u001b[0m\u001b[0;36m1\u001b[0m\u001b[0;34m,\u001b[0m \u001b[0;36m1\u001b[0m\u001b[0;34m,\u001b[0m \u001b[0;36m10\u001b[0m\u001b[0;34m]\u001b[0m\u001b[0;34m,\u001b[0m \u001b[0;34m[\u001b[0m\u001b[0;36m0.5\u001b[0m\u001b[0;34m,\u001b[0m \u001b[0;36m1\u001b[0m\u001b[0;34m,\u001b[0m \u001b[0;36m1\u001b[0m\u001b[0;34m]\u001b[0m\u001b[0;34m)\u001b[0m\u001b[0;34m\u001b[0m\u001b[0;34m\u001b[0m\u001b[0m\n\u001b[1;32m      3\u001b[0m \u001b[0mkfold\u001b[0m\u001b[0;34m(\u001b[0m\u001b[0mdata_g\u001b[0m\u001b[0;34m,\u001b[0m \u001b[0mlabels\u001b[0m\u001b[0;34m,\u001b[0m \u001b[0;36m5\u001b[0m\u001b[0;34m,\u001b[0m \u001b[0;34m[\u001b[0m\u001b[0;36m1\u001b[0m\u001b[0;34m,\u001b[0m \u001b[0;36m1\u001b[0m\u001b[0;34m,\u001b[0m \u001b[0;36m1\u001b[0m\u001b[0;34m]\u001b[0m\u001b[0;34m,\u001b[0m \u001b[0;34m[\u001b[0m\u001b[0;36m0.5\u001b[0m\u001b[0;34m,\u001b[0m \u001b[0;36m1\u001b[0m\u001b[0;34m,\u001b[0m \u001b[0;36m1\u001b[0m\u001b[0;34m]\u001b[0m\u001b[0;34m)\u001b[0m\u001b[0;34m\u001b[0m\u001b[0;34m\u001b[0m\u001b[0m\n\u001b[1;32m      4\u001b[0m \u001b[0mkfold\u001b[0m\u001b[0;34m(\u001b[0m\u001b[0mdata_g\u001b[0m\u001b[0;34m,\u001b[0m \u001b[0mlabels\u001b[0m\u001b[0;34m,\u001b[0m \u001b[0;36m5\u001b[0m\u001b[0;34m,\u001b[0m \u001b[0;34m[\u001b[0m\u001b[0;36m1\u001b[0m\u001b[0;34m,\u001b[0m \u001b[0;36m1\u001b[0m\u001b[0;34m,\u001b[0m \u001b[0;36m10\u001b[0m\u001b[0;34m]\u001b[0m\u001b[0;34m,\u001b[0m \u001b[0;34m[\u001b[0m\u001b[0;36m0.5\u001b[0m\u001b[0;34m,\u001b[0m \u001b[0;36m1\u001b[0m\u001b[0;34m,\u001b[0m \u001b[0;36m1\u001b[0m\u001b[0;34m]\u001b[0m\u001b[0;34m)\u001b[0m\u001b[0;34m\u001b[0m\u001b[0;34m\u001b[0m\u001b[0m\n",
      "\u001b[0;32m<ipython-input-10-6a3e18dafe90>\u001b[0m in \u001b[0;36mkfold\u001b[0;34m(D, L, fold, params, app)\u001b[0m\n\u001b[1;32m     26\u001b[0m         \u001b[0mLTE\u001b[0m \u001b[0;34m=\u001b[0m \u001b[0mL\u001b[0m\u001b[0;34m[\u001b[0m\u001b[0mtest_indexes\u001b[0m\u001b[0;34m]\u001b[0m\u001b[0;34m\u001b[0m\u001b[0;34m\u001b[0m\u001b[0m\n\u001b[1;32m     27\u001b[0m         \u001b[0mLTE_final\u001b[0m\u001b[0;34m.\u001b[0m\u001b[0mextend\u001b[0m\u001b[0;34m(\u001b[0m\u001b[0mLTE\u001b[0m\u001b[0;34m)\u001b[0m\u001b[0;34m\u001b[0m\u001b[0;34m\u001b[0m\u001b[0m\n\u001b[0;32m---> 28\u001b[0;31m         \u001b[0mllr_final\u001b[0m\u001b[0;34m.\u001b[0m\u001b[0mextend\u001b[0m\u001b[0;34m(\u001b[0m\u001b[0mradialSVM\u001b[0m\u001b[0;34m(\u001b[0m\u001b[0mDTR\u001b[0m\u001b[0;34m,\u001b[0m \u001b[0mLTR\u001b[0m\u001b[0;34m,\u001b[0m \u001b[0mDTE\u001b[0m\u001b[0;34m,\u001b[0m \u001b[0mparams\u001b[0m\u001b[0;34m)\u001b[0m\u001b[0;34m)\u001b[0m\u001b[0;34m\u001b[0m\u001b[0;34m\u001b[0m\u001b[0m\n\u001b[0m\u001b[1;32m     29\u001b[0m \u001b[0;34m\u001b[0m\u001b[0m\n\u001b[1;32m     30\u001b[0m     \u001b[0mCM\u001b[0m \u001b[0;34m=\u001b[0m \u001b[0mml\u001b[0m\u001b[0;34m.\u001b[0m\u001b[0mcompute_optimal_B_decision\u001b[0m\u001b[0;34m(\u001b[0m\u001b[0mapp\u001b[0m\u001b[0;34m,\u001b[0m \u001b[0mllr_final\u001b[0m\u001b[0;34m,\u001b[0m \u001b[0mLTE_final\u001b[0m\u001b[0;34m)\u001b[0m\u001b[0;34m\u001b[0m\u001b[0;34m\u001b[0m\u001b[0m\n",
      "\u001b[0;32m<ipython-input-9-27d24f49f660>\u001b[0m in \u001b[0;36mradialSVM\u001b[0;34m(DTR, LTR, DTE, params)\u001b[0m\n\u001b[1;32m     14\u001b[0m \u001b[0;34m\u001b[0m\u001b[0m\n\u001b[1;32m     15\u001b[0m     \u001b[0mx0\u001b[0m \u001b[0;34m=\u001b[0m \u001b[0mnumpy\u001b[0m\u001b[0;34m.\u001b[0m\u001b[0mzeros\u001b[0m\u001b[0;34m(\u001b[0m\u001b[0;34m(\u001b[0m\u001b[0mDTR\u001b[0m\u001b[0;34m.\u001b[0m\u001b[0mshape\u001b[0m\u001b[0;34m[\u001b[0m\u001b[0;36m1\u001b[0m\u001b[0;34m]\u001b[0m\u001b[0;34m)\u001b[0m\u001b[0;34m,\u001b[0m \u001b[0mdtype\u001b[0m\u001b[0;34m=\u001b[0m\u001b[0;34m'int32'\u001b[0m\u001b[0;34m)\u001b[0m\u001b[0;34m\u001b[0m\u001b[0;34m\u001b[0m\u001b[0m\n\u001b[0;32m---> 16\u001b[0;31m     \u001b[0mH_hat\u001b[0m \u001b[0;34m=\u001b[0m \u001b[0mml\u001b[0m\u001b[0;34m.\u001b[0m\u001b[0mcompute_H_hat2\u001b[0m\u001b[0;34m(\u001b[0m\u001b[0mDTR\u001b[0m\u001b[0;34m,\u001b[0m \u001b[0mLTR\u001b[0m\u001b[0;34m,\u001b[0m \u001b[0mK\u001b[0m\u001b[0;34m**\u001b[0m\u001b[0;36m2\u001b[0m\u001b[0;34m,\u001b[0m \u001b[0;32mNone\u001b[0m\u001b[0;34m,\u001b[0m \u001b[0;32mNone\u001b[0m\u001b[0;34m,\u001b[0m \u001b[0mgamma\u001b[0m\u001b[0;34m)\u001b[0m\u001b[0;34m\u001b[0m\u001b[0;34m\u001b[0m\u001b[0m\n\u001b[0m\u001b[1;32m     17\u001b[0m \u001b[0;34m\u001b[0m\u001b[0m\n\u001b[1;32m     18\u001b[0m     \u001b[0mboundaries\u001b[0m \u001b[0;34m=\u001b[0m \u001b[0;34m[\u001b[0m\u001b[0;34m]\u001b[0m\u001b[0;34m\u001b[0m\u001b[0;34m\u001b[0m\u001b[0m\n",
      "\u001b[0;32m~/ML_support.py\u001b[0m in \u001b[0;36mcompute_H_hat2\u001b[0;34m(DTR, LTR, psi, c, d, gamma)\u001b[0m\n\u001b[1;32m    274\u001b[0m     \u001b[0mz\u001b[0m \u001b[0;34m=\u001b[0m \u001b[0;36m2\u001b[0m\u001b[0;34m*\u001b[0m\u001b[0mz\u001b[0m\u001b[0;34m-\u001b[0m\u001b[0;36m1\u001b[0m\u001b[0;34m\u001b[0m\u001b[0;34m\u001b[0m\u001b[0m\n\u001b[1;32m    275\u001b[0m     \u001b[0;32mif\u001b[0m\u001b[0;34m(\u001b[0m\u001b[0mgamma\u001b[0m \u001b[0;34m!=\u001b[0m \u001b[0;32mNone\u001b[0m \u001b[0;32mand\u001b[0m \u001b[0mc\u001b[0m \u001b[0;34m==\u001b[0m \u001b[0;32mNone\u001b[0m \u001b[0;32mand\u001b[0m \u001b[0md\u001b[0m \u001b[0;34m==\u001b[0m \u001b[0;32mNone\u001b[0m\u001b[0;34m)\u001b[0m\u001b[0;34m:\u001b[0m\u001b[0;34m\u001b[0m\u001b[0;34m\u001b[0m\u001b[0m\n\u001b[0;32m--> 276\u001b[0;31m         \u001b[0mH\u001b[0m \u001b[0;34m=\u001b[0m \u001b[0mz\u001b[0m \u001b[0;34m*\u001b[0m \u001b[0mradial_basis_kernel\u001b[0m\u001b[0;34m(\u001b[0m\u001b[0mDTR\u001b[0m\u001b[0;34m,\u001b[0m \u001b[0mgamma\u001b[0m\u001b[0;34m,\u001b[0m \u001b[0mpsi\u001b[0m\u001b[0;34m)\u001b[0m\u001b[0;34m\u001b[0m\u001b[0;34m\u001b[0m\u001b[0m\n\u001b[0m\u001b[1;32m    277\u001b[0m     \u001b[0;32melif\u001b[0m\u001b[0;34m(\u001b[0m\u001b[0mc\u001b[0m \u001b[0;34m!=\u001b[0m \u001b[0;32mNone\u001b[0m \u001b[0;32mand\u001b[0m \u001b[0md\u001b[0m \u001b[0;34m!=\u001b[0m \u001b[0;32mNone\u001b[0m \u001b[0;32mand\u001b[0m \u001b[0mgamma\u001b[0m \u001b[0;34m==\u001b[0m \u001b[0;32mNone\u001b[0m\u001b[0;34m)\u001b[0m\u001b[0;34m:\u001b[0m\u001b[0;34m\u001b[0m\u001b[0;34m\u001b[0m\u001b[0m\n\u001b[1;32m    278\u001b[0m         \u001b[0mH\u001b[0m \u001b[0;34m=\u001b[0m \u001b[0mz\u001b[0m\u001b[0;34m*\u001b[0m\u001b[0mpolynomial_kernel\u001b[0m\u001b[0;34m(\u001b[0m\u001b[0mDTR\u001b[0m\u001b[0;34m,\u001b[0m \u001b[0md\u001b[0m\u001b[0;34m,\u001b[0m \u001b[0mc\u001b[0m\u001b[0;34m,\u001b[0m \u001b[0mpsi\u001b[0m\u001b[0;34m)\u001b[0m\u001b[0;34m\u001b[0m\u001b[0;34m\u001b[0m\u001b[0m\n",
      "\u001b[0;32m~/ML_support.py\u001b[0m in \u001b[0;36mradial_basis_kernel\u001b[0;34m(DTR, gamma, psi, DTE, computeScore, alpha, z)\u001b[0m\n\u001b[1;32m    291\u001b[0m         \u001b[0;32mfor\u001b[0m \u001b[0mi\u001b[0m \u001b[0;32min\u001b[0m \u001b[0mrange\u001b[0m\u001b[0;34m(\u001b[0m\u001b[0mDTR\u001b[0m\u001b[0;34m.\u001b[0m\u001b[0mshape\u001b[0m\u001b[0;34m[\u001b[0m\u001b[0;36m1\u001b[0m\u001b[0;34m]\u001b[0m\u001b[0;34m)\u001b[0m\u001b[0;34m:\u001b[0m\u001b[0;34m\u001b[0m\u001b[0;34m\u001b[0m\u001b[0m\n\u001b[1;32m    292\u001b[0m             \u001b[0;32mfor\u001b[0m \u001b[0mj\u001b[0m \u001b[0;32min\u001b[0m \u001b[0mrange\u001b[0m\u001b[0;34m(\u001b[0m\u001b[0mDTR\u001b[0m\u001b[0;34m.\u001b[0m\u001b[0mshape\u001b[0m\u001b[0;34m[\u001b[0m\u001b[0;36m1\u001b[0m\u001b[0;34m]\u001b[0m\u001b[0;34m)\u001b[0m\u001b[0;34m:\u001b[0m\u001b[0;34m\u001b[0m\u001b[0;34m\u001b[0m\u001b[0m\n\u001b[0;32m--> 293\u001b[0;31m                 \u001b[0mk\u001b[0m \u001b[0;34m=\u001b[0m \u001b[0mnumpy\u001b[0m\u001b[0;34m.\u001b[0m\u001b[0mexp\u001b[0m\u001b[0;34m(\u001b[0m\u001b[0;34m-\u001b[0m\u001b[0mgamma\u001b[0m \u001b[0;34m*\u001b[0m \u001b[0;34m(\u001b[0m\u001b[0mlinalg\u001b[0m\u001b[0;34m.\u001b[0m\u001b[0mnorm\u001b[0m\u001b[0;34m(\u001b[0m\u001b[0mDTR\u001b[0m\u001b[0;34m[\u001b[0m\u001b[0;34m:\u001b[0m\u001b[0;34m,\u001b[0m \u001b[0mi\u001b[0m\u001b[0;34m]\u001b[0m \u001b[0;34m-\u001b[0m \u001b[0mDTR\u001b[0m\u001b[0;34m[\u001b[0m\u001b[0;34m:\u001b[0m\u001b[0;34m,\u001b[0m \u001b[0mj\u001b[0m\u001b[0;34m]\u001b[0m\u001b[0;34m,\u001b[0m \u001b[0maxis\u001b[0m\u001b[0;34m=\u001b[0m\u001b[0;36m0\u001b[0m\u001b[0;34m)\u001b[0m \u001b[0;34m**\u001b[0m \u001b[0;36m2\u001b[0m\u001b[0;34m)\u001b[0m\u001b[0;34m)\u001b[0m\u001b[0;34m+\u001b[0m\u001b[0mpsi\u001b[0m\u001b[0;34m\u001b[0m\u001b[0;34m\u001b[0m\u001b[0m\n\u001b[0m\u001b[1;32m    294\u001b[0m                 \u001b[0mM\u001b[0m\u001b[0;34m[\u001b[0m\u001b[0mi\u001b[0m\u001b[0;34m,\u001b[0m \u001b[0mj\u001b[0m\u001b[0;34m]\u001b[0m \u001b[0;34m+=\u001b[0m \u001b[0mk\u001b[0m\u001b[0;34m\u001b[0m\u001b[0;34m\u001b[0m\u001b[0m\n\u001b[1;32m    295\u001b[0m     \u001b[0;32melse\u001b[0m\u001b[0;34m:\u001b[0m\u001b[0;34m\u001b[0m\u001b[0;34m\u001b[0m\u001b[0m\n",
      "\u001b[0;31mKeyboardInterrupt\u001b[0m: "
     ]
    }
   ],
   "source": [
    "kfold(data_g, labels, 5, [0, 1, 1], [0.5, 1, 1])\n",
    "kfold(data_g, labels, 5, [1, 1, 10], [0.5, 1, 1])\n",
    "kfold(data_g, labels, 5, [1, 1, 1], [0.5, 1, 1])\n",
    "kfold(data_g, labels, 5, [1, 1, 10], [0.5, 1, 1])"
   ]
  },
  {
   "cell_type": "code",
   "execution_count": null,
   "id": "celtic-aerospace",
   "metadata": {},
   "outputs": [],
   "source": [
    "kfold(data_z, labels, 5, [0, 1, 1], [0.5, 1, 1])\n",
    "kfold(data_z, labels, 5, [1, 1, 10], [0.5, 1, 1])\n",
    "kfold(data_z, labels, 5, [1, 1, 1], [0.5, 1, 1])\n",
    "kfold(data_z, labels, 5, [1, 1, 10], [0.5, 1, 1])"
   ]
  },
  {
   "cell_type": "code",
   "execution_count": null,
   "id": "thermal-think",
   "metadata": {},
   "outputs": [],
   "source": []
  }
 ],
 "metadata": {
  "kernelspec": {
   "display_name": "Python 3",
   "language": "python",
   "name": "python3"
  },
  "language_info": {
   "codemirror_mode": {
    "name": "ipython",
    "version": 3
   },
   "file_extension": ".py",
   "mimetype": "text/x-python",
   "name": "python",
   "nbconvert_exporter": "python",
   "pygments_lexer": "ipython3",
   "version": "3.7.9"
  }
 },
 "nbformat": 4,
 "nbformat_minor": 5
}
