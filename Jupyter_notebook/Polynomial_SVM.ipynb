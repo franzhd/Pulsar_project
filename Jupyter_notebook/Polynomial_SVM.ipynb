{
 "cells": [
  {
   "cell_type": "code",
   "execution_count": 1,
   "metadata": {},
   "outputs": [],
   "source": [
    "import numpy as np\n",
    "import scipy\n",
    "import numpy \n",
    "import matplotlib.pyplot as plt\n",
    "from scipy import linalg, special, stats\n",
    "from numpy import genfromtxt\n",
    "import ML_support as ml\n",
    "from scipy.optimize import fmin_l_bfgs_b"
   ]
  },
  {
   "cell_type": "code",
   "execution_count": 2,
   "metadata": {},
   "outputs": [],
   "source": [
    "Data, labels = ml.loadFile('../Train.txt')"
   ]
  },
  {
   "cell_type": "code",
   "execution_count": 3,
   "metadata": {},
   "outputs": [],
   "source": [
    "def L_dual_wrapper(H_hat):\n",
    "    def L_dual(alpha):\n",
    "        one_vect = numpy.ones((len(alpha)), dtype='int32')\n",
    "        L_d = 1/2 * numpy.dot( alpha.T, numpy.dot( H_hat, alpha ) ) - numpy.dot( alpha.T, one_vect )\n",
    "        grad_L_d = numpy.dot( H_hat, alpha ) - one_vect\n",
    "\n",
    "        v = numpy.array((L_d, grad_L_d), dtype=object)\n",
    "\n",
    "        return v\n",
    "    return L_dual\n",
    "\n",
    "def polynomialSVM(DTR, LTR, DTE, params):\n",
    "    K, C, d, c = params[0], params[1], params[2], params[3]\n",
    "    \n",
    "    x0 = numpy.zeros((DTR.shape[1]), dtype='int32')\n",
    "    H_hat = ml.compute_H_hat2(DTR, LTR, K**2, c, d)\n",
    "\n",
    "    boundaries = []\n",
    "    for i in range(DTR.shape[1]):\n",
    "        boundaries.append((0, C))\n",
    "\n",
    "    alpha, f, dictionary = fmin_l_bfgs_b(L_dual_wrapper(H_hat), x0, bounds=boundaries, factr=1.0)\n",
    "\n",
    "    S = ml.compute_score(alpha, DTR, LTR, DTE, K**2, c, d)\n",
    "    \n",
    "    return list(S)"
   ]
  },
  {
   "cell_type": "code",
   "execution_count": 4,
   "metadata": {},
   "outputs": [],
   "source": [
    "def kfold(D, L, fold, params, app):\n",
    "    error = 0\n",
    "    N = int(D.shape[1]/fold) #numero di elementi per ogni fold\n",
    "    numpy.random.seed(0) #imposto il seed del generatore di numeri casuali -> in tal modo genererò la stessa sequenza di numeri casuali aventi seed uguale\n",
    "    indexes = numpy.random.permutation(D.shape[1]) #genero una sequenza di numeri casuali che vanno da 0 al num_di_campioni\n",
    "    \n",
    "    LTE_final = []\n",
    "    llr_final = []\n",
    "    for j in range(fold):\n",
    "        test_indexes = indexes[(j*N):((j+1)*N)] #selezioni gli indici che identificano i campioni (casuali) del test set\n",
    "        if(j > 0): #se il test set non è preso dalla prima fold (--> il test set è una fold intermedia o l'ultima fold)\n",
    "            left_indexes = indexes[0:(j*N)] #allora prendo tutti gli indici che stanno a sinistra di tale fold\n",
    "        else: #se il test set è preso dalla prima fold\n",
    "            right_indexes = indexes[((j+1)*N):] #prendo tutti gli indici a destra della prima fold\n",
    "\n",
    "        if(j == 0): #se il test set è preso dalla prima fold\n",
    "            train_indexes = right_indexes #assegno agli indici di training quelli che stanno a destra della prima fold\n",
    "        elif(j == fold-1): #se il test set è preso dall'ultima fold\n",
    "            train_indexes = left_indexes #assegno agli indici di training quelli che stanno a sinistra dell'ultima fold\n",
    "        else: #in questo caso il test set è preso da una fold intermedia\n",
    "            train_indexes = numpy.hstack((left_indexes, right_indexes)) #pertanto assegno agli indici di training quelli appartenenti alle fold di sinistra e di destra\n",
    "\n",
    "        DTR = D[:, train_indexes]  #definisco insieme di training e di testing\n",
    "        LTR = L[train_indexes]\n",
    "        DTE = D[:, test_indexes]\n",
    "        LTE = L[test_indexes]\n",
    "        LTE_final.extend(LTE)\n",
    "        llr_final.extend(polynomialSVM(DTR, LTR, DTE, params))\n",
    "        \n",
    "    CM = ml.compute_optimal_B_decision(app, llr_final, LTE_final)\n",
    "        \n",
    "    app_bayes_risk=ml.compute_Bayes_risk(CM, app)\n",
    "    DCF = ml.compute_norm_Bayes(app_bayes_risk, app)\n",
    "    \n",
    "    minDCF, _= ml.compute_min_DCF(llr_final, app, LTE_final)\n",
    "    error = 1-(CM[0, 0]+CM[1,1])/(len(LTE_final))\n",
    "\n",
    "    print(\"\\-/ \\-/ \\-/ \\-/ \\-/ \")\n",
    "    print(\"Polynomial SVM error:\", error)\n",
    "    print(f'{app} DCF:{round(DCF, 3)} minDCF: {round(minDCF,3)}')\n",
    "    print(\"/-\\ /-\\ /-\\ /-\\ /-\\ \")"
   ]
  },
  {
   "cell_type": "code",
   "execution_count": 5,
   "metadata": {},
   "outputs": [
    {
     "name": "stdout",
     "output_type": "stream",
     "text": [
      "\\-/ \\-/ \\-/ \\-/ \\-/ \n",
      "Polynomial SVM error: 0.5196638655462185\n",
      "[0.5, 1, 1] DCF:1.034 minDCF: 0.852\n",
      "/-\\ /-\\ /-\\ /-\\ /-\\ \n"
     ]
    }
   ],
   "source": [
    "kfold(Data, labels, 5, [0, 0.01, 2, 0], [0.5, 1, 1])"
   ]
  },
  {
   "cell_type": "code",
   "execution_count": 5,
   "metadata": {},
   "outputs": [],
   "source": [
    "data_g = ml.gaussianize(Data)\n",
    "data_z = ml.z_normalization(Data)"
   ]
  },
  {
   "cell_type": "code",
   "execution_count": 7,
   "metadata": {},
   "outputs": [
    {
     "name": "stdout",
     "output_type": "stream",
     "text": [
      "\\-/ \\-/ \\-/ \\-/ \\-/ \n",
      "Polynomial SVM error: 0.03742296918767507\n",
      "[0.5, 1, 1] DCF:0.222 minDCF: 0.215\n",
      "/-\\ /-\\ /-\\ /-\\ /-\\ \n",
      "\\-/ \\-/ \\-/ \\-/ \\-/ \n",
      "Polynomial SVM error: 0.025322128851540615\n",
      "[0.5, 1, 1] DCF:0.202 minDCF: 0.155\n",
      "/-\\ /-\\ /-\\ /-\\ /-\\ \n",
      "\\-/ \\-/ \\-/ \\-/ \\-/ \n",
      "Polynomial SVM error: 0.01971988795518209\n",
      "[0.5, 1, 1] DCF:0.159 minDCF: 0.132\n",
      "/-\\ /-\\ /-\\ /-\\ /-\\ \n",
      "\\-/ \\-/ \\-/ \\-/ \\-/ \n",
      "Polynomial SVM error: 0.01971988795518209\n",
      "[0.5, 1, 1] DCF:0.159 minDCF: 0.131\n",
      "/-\\ /-\\ /-\\ /-\\ /-\\ \n"
     ]
    }
   ],
   "source": [
    "kfold(data_g, labels, 5, [0, 1, 2, 0], [0.5, 1, 1])\n",
    "kfold(data_g, labels, 5, [1, 1, 2, 0], [0.5, 1, 1])\n",
    "kfold(data_g, labels, 5, [0, 1, 2, 1], [0.5, 1, 1])\n",
    "kfold(data_g, labels, 5, [1, 1, 2, 1], [0.5, 1, 1])"
   ]
  },
  {
   "cell_type": "code",
   "execution_count": 8,
   "metadata": {},
   "outputs": [
    {
     "name": "stdout",
     "output_type": "stream",
     "text": [
      "\\-/ \\-/ \\-/ \\-/ \\-/ \n",
      "Polynomial SVM error: 0.032717086834733844\n",
      "[0.5, 1, 1] DCF:0.246 minDCF: 0.229\n",
      "/-\\ /-\\ /-\\ /-\\ /-\\ \n",
      "\\-/ \\-/ \\-/ \\-/ \\-/ \n",
      "Polynomial SVM error: 0.024649859943977614\n",
      "[0.5, 1, 1] DCF:0.23 minDCF: 0.134\n",
      "/-\\ /-\\ /-\\ /-\\ /-\\ \n",
      "\\-/ \\-/ \\-/ \\-/ \\-/ \n",
      "Polynomial SVM error: 0.020168067226890796\n",
      "[0.5, 1, 1] DCF:0.174 minDCF: 0.112\n",
      "/-\\ /-\\ /-\\ /-\\ /-\\ \n",
      "\\-/ \\-/ \\-/ \\-/ \\-/ \n",
      "Polynomial SVM error: 0.020168067226890796\n",
      "[0.5, 1, 1] DCF:0.173 minDCF: 0.113\n",
      "/-\\ /-\\ /-\\ /-\\ /-\\ \n"
     ]
    }
   ],
   "source": [
    "kfold(data_z, labels, 5, [0, 1, 2, 0], [0.5, 1, 1])\n",
    "kfold(data_z, labels, 5, [1, 1, 2, 0], [0.5, 1, 1])\n",
    "kfold(data_z, labels, 5, [0, 1, 2, 1], [0.5, 1, 1])\n",
    "kfold(data_z, labels, 5, [1, 1, 2, 1], [0.5, 1, 1])"
   ]
  },
  {
   "cell_type": "code",
   "execution_count": 9,
   "metadata": {},
   "outputs": [
    {
     "name": "stdout",
     "output_type": "stream",
     "text": [
      "\\-/ \\-/ \\-/ \\-/ \\-/ \n",
      "Polynomial SVM error: 0.33288515406162467\n",
      "[0.9, 1, 1] DCF:1.114 minDCF: 0.953\n",
      "/-\\ /-\\ /-\\ /-\\ /-\\ \n",
      "\\-/ \\-/ \\-/ \\-/ \\-/ \n",
      "Polynomial SVM error: 0.3056582633053221\n",
      "[0.9, 1, 1] DCF:0.933 minDCF: 0.883\n",
      "/-\\ /-\\ /-\\ /-\\ /-\\ \n",
      "\\-/ \\-/ \\-/ \\-/ \\-/ \n",
      "Polynomial SVM error: 0.22700280112044813\n",
      "[0.9, 1, 1] DCF:0.608 minDCF: 0.559\n",
      "/-\\ /-\\ /-\\ /-\\ /-\\ \n",
      "\\-/ \\-/ \\-/ \\-/ \\-/ \n",
      "Polynomial SVM error: 0.22039215686274505\n",
      "[0.9, 1, 1] DCF:0.633 minDCF: 0.57\n",
      "/-\\ /-\\ /-\\ /-\\ /-\\ \n"
     ]
    }
   ],
   "source": [
    "kfold(data_g, labels, 5, [0, 1, 2, 0], [0.9, 1, 1])\n",
    "kfold(data_g, labels, 5, [1, 1, 2, 0], [0.9, 1, 1])\n",
    "kfold(data_g, labels, 5, [0, 1, 2, 1], [0.9, 1, 1])\n",
    "kfold(data_g, labels, 5, [1, 1, 2, 1], [0.9, 1, 1])"
   ]
  },
  {
   "cell_type": "code",
   "execution_count": 10,
   "metadata": {},
   "outputs": [
    {
     "name": "stdout",
     "output_type": "stream",
     "text": [
      "\\-/ \\-/ \\-/ \\-/ \\-/ \n",
      "Polynomial SVM error: 0.45837535014005604\n",
      "[0.9, 1, 1] DCF:1.22 minDCF: 0.985\n",
      "/-\\ /-\\ /-\\ /-\\ /-\\ \n",
      "\\-/ \\-/ \\-/ \\-/ \\-/ \n",
      "Polynomial SVM error: 0.8593837535014006\n",
      "[0.9, 1, 1] DCF:1.001 minDCF: 0.948\n",
      "/-\\ /-\\ /-\\ /-\\ /-\\ \n",
      "\\-/ \\-/ \\-/ \\-/ \\-/ \n",
      "Polynomial SVM error: 0.8047058823529412\n",
      "[0.9, 1, 1] DCF:0.919 minDCF: 0.575\n",
      "/-\\ /-\\ /-\\ /-\\ /-\\ \n",
      "\\-/ \\-/ \\-/ \\-/ \\-/ \n",
      "Polynomial SVM error: 0.8057142857142857\n",
      "[0.9, 1, 1] DCF:0.92 minDCF: 0.561\n",
      "/-\\ /-\\ /-\\ /-\\ /-\\ \n"
     ]
    }
   ],
   "source": [
    "kfold(data_z, labels, 5, [0, 1, 2, 0], [0.9, 1, 1])\n",
    "kfold(data_z, labels, 5, [1, 1, 2, 0], [0.9, 1, 1])\n",
    "kfold(data_z, labels, 5, [0, 1, 2, 1], [0.9, 1, 1])\n",
    "kfold(data_z, labels, 5, [1, 1, 2, 1], [0.9, 1, 1])"
   ]
  },
  {
   "cell_type": "code",
   "execution_count": 7,
   "metadata": {},
   "outputs": [
    {
     "name": "stdout",
     "output_type": "stream",
     "text": [
      "\\-/ \\-/ \\-/ \\-/ \\-/ \n",
      "Polynomial SVM error: 0.5009523809523809\n",
      "[0.5, 1, 1] DCF:0.995 minDCF: 0.95\n",
      "/-\\ /-\\ /-\\ /-\\ /-\\ \n",
      "\\-/ \\-/ \\-/ \\-/ \\-/ \n",
      "Polynomial SVM error: 0.4319327731092437\n",
      "[0.5, 1, 1] DCF:0.835 minDCF: 0.706\n",
      "/-\\ /-\\ /-\\ /-\\ /-\\ \n",
      "\\-/ \\-/ \\-/ \\-/ \\-/ \n",
      "Polynomial SVM error: 0.20201680672268907\n",
      "[0.5, 1, 1] DCF:0.718 minDCF: 0.634\n",
      "/-\\ /-\\ /-\\ /-\\ /-\\ \n",
      "\\-/ \\-/ \\-/ \\-/ \\-/ \n",
      "Polynomial SVM error: 0.5811764705882353\n",
      "[0.5, 1, 1] DCF:0.995 minDCF: 0.908\n",
      "/-\\ /-\\ /-\\ /-\\ /-\\ \n"
     ]
    }
   ],
   "source": [
    "kfold(Data, labels, 5, [0, 1, 2, 0], [0.5, 1, 1])\n",
    "kfold(Data, labels, 5, [1, 1, 2, 0], [0.5, 1, 1])\n",
    "kfold(Data, labels, 5, [0, 1, 2, 1], [0.5, 1, 1])\n",
    "kfold(Data, labels, 5, [1, 1, 2, 1], [0.5, 1, 1])"
   ]
  },
  {
   "cell_type": "code",
   "execution_count": null,
   "metadata": {},
   "outputs": [],
   "source": []
  },
  {
   "cell_type": "code",
   "execution_count": null,
   "metadata": {},
   "outputs": [],
   "source": [
    "\n",
    "\n"
   ]
  }
 ],
 "metadata": {
  "kernelspec": {
   "display_name": "Python 3",
   "language": "python",
   "name": "python3"
  },
  "language_info": {
   "codemirror_mode": {
    "name": "ipython",
    "version": 3
   },
   "file_extension": ".py",
   "mimetype": "text/x-python",
   "name": "python",
   "nbconvert_exporter": "python",
   "pygments_lexer": "ipython3",
   "version": "3.8.5"
  }
 },
 "nbformat": 4,
 "nbformat_minor": 5
}
