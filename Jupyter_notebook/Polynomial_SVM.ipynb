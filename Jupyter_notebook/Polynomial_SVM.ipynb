{
 "cells": [
  {
   "cell_type": "code",
   "execution_count": 2,
   "id": "acoustic-share",
   "metadata": {},
   "outputs": [
    {
     "name": "stderr",
     "output_type": "stream",
     "text": [
      "\n",
      "Bad key \"text.kerning_factor\" on line 4 in\n",
      "/opt/anaconda3/envs/bigdatalab_cpu_202101/lib/python3.7/site-packages/matplotlib/mpl-data/stylelib/_classic_test_patch.mplstyle.\n",
      "You probably need to get an updated matplotlibrc file from\n",
      "https://github.com/matplotlib/matplotlib/blob/v3.1.2/matplotlibrc.template\n",
      "or from the matplotlib source distribution\n"
     ]
    }
   ],
   "source": [
    "import numpy as np\n",
    "import scipy\n",
    "import numpy \n",
    "import matplotlib.pyplot as plt\n",
    "from scipy import linalg, special, stats\n",
    "from numpy import genfromtxt\n",
    "import ML_support as ml\n",
    "from scipy.optimize import fmin_l_bfgs_b"
   ]
  },
  {
   "cell_type": "code",
   "execution_count": 3,
   "id": "spare-intermediate",
   "metadata": {},
   "outputs": [],
   "source": [
    "Data, labels = ml.loadFile('./Train.txt')\n",
    "n, m = sum(labels == 1), sum(labels == 0)\n",
    "#print('Prima ', n/m)\n",
    "numpy.random.seed(0)\n",
    "indexes = numpy.random.permutation(1200)\n",
    "Data_s = Data[:, indexes]\n",
    "label_s = labels[indexes]\n",
    "ns, ms = sum(label_s == 1), sum(label_s == 0)\n",
    "#print('Dopo :', ns/ms)"
   ]
  },
  {
   "cell_type": "code",
   "execution_count": 4,
   "id": "fewer-history",
   "metadata": {},
   "outputs": [],
   "source": [
    "(DTR, LTR), (DTE, LTE) = ml.split_db_2to1(Data_s, label_s, seed=42)\n",
    "n1, n0 = sum(LTR == 1), sum(LTR == 0)"
   ]
  },
  {
   "cell_type": "code",
   "execution_count": 8,
   "id": "welsh-diagnosis",
   "metadata": {},
   "outputs": [],
   "source": [
    "def L_dual_wrapper(H_hat):\n",
    "    def L_dual(alpha):\n",
    "        one_vect = numpy.ones((len(alpha)), dtype='int32')\n",
    "        L_d = 1/2 * numpy.dot( alpha.T, numpy.dot( H_hat, alpha ) ) - numpy.dot( alpha.T, one_vect )\n",
    "        grad_L_d = numpy.dot( H_hat, alpha ) - one_vect\n",
    "\n",
    "        v = numpy.array((L_d, grad_L_d), dtype=object)\n",
    "\n",
    "        return v\n",
    "    return L_dual\n",
    "\n",
    "def polynomialSVM(DTR, LTR, DTE, params):\n",
    "    K, C, d, c = params[0], params[1], params[2], params[3]\n",
    "    \n",
    "    x0 = numpy.zeros((DTR.shape[1]), dtype='int32')\n",
    "    H_hat = ml.compute_H_hat2(DTR, LTR, K**2, c, d)\n",
    "\n",
    "    boundaries = []\n",
    "    for i in range(DTR.shape[1]):\n",
    "        boundaries.append((0, C))\n",
    "\n",
    "    alpha, f, dictionary = fmin_l_bfgs_b(L_dual_wrapper(H_hat), x0, bounds=boundaries, factr=1.0)\n",
    "\n",
    "    S = ml.compute_score(alpha, DTR, LTR, DTE, K**2, c, d)\n",
    "\n",
    "    return list(S)"
   ]
  },
  {
   "cell_type": "code",
   "execution_count": 18,
   "id": "alert-kinase",
   "metadata": {},
   "outputs": [],
   "source": [
    "def kfold(D, L, fold, params, app):\n",
    "    error = 0\n",
    "    N = int(D.shape[1]/fold) #numero di elementi per ogni fold\n",
    "    numpy.random.seed(0) #imposto il seed del generatore di numeri casuali -> in tal modo genererò la stessa sequenza di numeri casuali aventi seed uguale\n",
    "    indexes = numpy.random.permutation(D.shape[1]) #genero una sequenza di numeri casuali che vanno da 0 al num_di_campioni\n",
    "    \n",
    "    LTE_final = []\n",
    "    llr_final = []\n",
    "    for j in range(fold):\n",
    "        test_indexes = indexes[(j*N):((j+1)*N)] #selezioni gli indici che identificano i campioni (casuali) del test set\n",
    "        if(j > 0): #se il test set non è preso dalla prima fold (--> il test set è una fold intermedia o l'ultima fold)\n",
    "            left_indexes = indexes[0:(j*N)] #allora prendo tutti gli indici che stanno a sinistra di tale fold\n",
    "        else: #se il test set è preso dalla prima fold\n",
    "            right_indexes = indexes[((j+1)*N):] #prendo tutti gli indici a destra della prima fold\n",
    "\n",
    "        if(j == 0): #se il test set è preso dalla prima fold\n",
    "            train_indexes = right_indexes #assegno agli indici di training quelli che stanno a destra della prima fold\n",
    "        elif(j == fold-1): #se il test set è preso dall'ultima fold\n",
    "            train_indexes = left_indexes #assegno agli indici di training quelli che stanno a sinistra dell'ultima fold\n",
    "        else: #in questo caso il test set è preso da una fold intermedia\n",
    "            train_indexes = numpy.hstack((left_indexes, right_indexes)) #pertanto assegno agli indici di training quelli appartenenti alle fold di sinistra e di destra\n",
    "\n",
    "        DTR = D[:, train_indexes]  #definisco insieme di training e di testing\n",
    "        LTR = L[train_indexes]\n",
    "        DTE = D[:, test_indexes]\n",
    "        LTE = L[test_indexes]\n",
    "        LTE_final.extend(LTE)\n",
    "        llr_final.extend(polynomialSVM(DTR, LTR, DTE, params))\n",
    "        \n",
    "    CM = ml.compute_optimal_B_decision(app, llr_final, LTE_final)\n",
    "    sensitivity = (1-ml.compute_FNR(CM)) # TPR\n",
    "    specificity = (1-ml.compute_FPR(CM)) # TNR\n",
    "        \n",
    "    app_bayes_risk=ml.compute_Bayes_risk(CM, app)\n",
    "    DCF = ml.compute_norm_Bayes(app_bayes_risk, app)\n",
    "\n",
    "    minDCF= ml.compute_min_DCF(llr_final, app, LTE_final)\n",
    "    error = 1-(CM[0, 0]+CM[1,1])/(len(LTE_final))\n",
    "\n",
    "    print(\"\\-/ \\-/ \\-/ \\-/ \\-/ \")\n",
    "    print(\"Polynomial SVM error:\", error)\n",
    "    print(f'{app} DCF: {round(DCF, 3)}, minDCF: {round(minDCF, 3)}')\n",
    "    print(f'Sensitivity (TPR): {round(sensitivity, 3)}, Specificity (TNR): {round(specificity, 3)}')\n",
    "    print('CM\\n', CM)\n",
    "    print(\"/-\\ /-\\ /-\\ /-\\ /-\\ \")"
   ]
  },
  {
   "cell_type": "code",
   "execution_count": 9,
   "id": "naked-stewart",
   "metadata": {},
   "outputs": [
    {
     "name": "stdout",
     "output_type": "stream",
     "text": [
      "\\-/ \\-/ \\-/ \\-/ \\-/ \n",
      "Polynomial SVM error: 0.31166666666666665\n",
      "[0.5, 1, 1] DCF: 0.5171076863429291 minDCF: 0.4325869923427353\n",
      "Sensitivity (TPR): 0.8070175438596492  Specificity (TNR):  0.6758747697974217\n",
      "CM\n",
      " [[734.  22.]\n",
      " [352.  92.]]\n",
      "/-\\ /-\\ /-\\ /-\\ /-\\ \n"
     ]
    }
   ],
   "source": [
    "kfold(Data_s, label_s, 5, [0, 1, 2, 0], [0.5, 1, 1])"
   ]
  },
  {
   "cell_type": "code",
   "execution_count": 10,
   "id": "solid-rover",
   "metadata": {},
   "outputs": [
    {
     "name": "stdout",
     "output_type": "stream",
     "text": [
      "\\-/ \\-/ \\-/ \\-/ \\-/ \n",
      "Polynomial SVM error: 0.1433333333333333\n",
      "[0.5, 1, 1] DCF: 0.40176407870504993 minDCF: 0.38014926819811956\n",
      "Sensitivity (TPR): 0.7280701754385965  Specificity (TNR):  0.8701657458563536\n",
      "CM\n",
      " [[945.  31.]\n",
      " [141.  83.]]\n",
      "/-\\ /-\\ /-\\ /-\\ /-\\ \n",
      "\\-/ \\-/ \\-/ \\-/ \\-/ \n",
      "Polynomial SVM error: 0.08333333333333337\n",
      "[0.5, 1, 1] DCF: 0.34331685567509934 minDCF: 0.3239798391005137\n",
      "Sensitivity (TPR): 0.7192982456140351  Specificity (TNR):  0.9373848987108655\n",
      "CM\n",
      " [[1018.   32.]\n",
      " [  68.   82.]]\n",
      "/-\\ /-\\ /-\\ /-\\ /-\\ \n"
     ]
    }
   ],
   "source": [
    "kfold(Data_s, label_s, 5, [0, 0.1, 2, 0], [0.5, 1, 1])\n",
    "kfold(Data_s, label_s, 5, [0, 0.01, 2, 0], [0.5, 1, 1])"
   ]
  },
  {
   "cell_type": "code",
   "execution_count": 13,
   "id": "portuguese-danger",
   "metadata": {},
   "outputs": [
    {
     "name": "stdout",
     "output_type": "stream",
     "text": [
      "\\-/ \\-/ \\-/ \\-/ \\-/ \n",
      "Polynomial SVM error: 0.32166666666666666\n",
      "[0.5, 1, 1] DCF: 0.5203062905883493 minDCF: 0.40913056120965396\n",
      "Sensitivity (TPR): 0.8157894736842105  Specificity (TNR):  0.6639042357274402\n",
      "CM\n",
      " [[721.  21.]\n",
      " [365.  93.]]\n",
      "/-\\ /-\\ /-\\ /-\\ /-\\ \n"
     ]
    }
   ],
   "source": [
    "kfold(Data_s, label_s, 5, [0, 0.01, 2, 1], [0.5, 1, 1])"
   ]
  },
  {
   "cell_type": "code",
   "execution_count": 11,
   "id": "confused-mumbai",
   "metadata": {},
   "outputs": [
    {
     "name": "stdout",
     "output_type": "stream",
     "text": [
      "\\-/ \\-/ \\-/ \\-/ \\-/ \n",
      "Polynomial SVM error: 0.2908333333333334\n",
      "[0.5, 1, 1] DCF: 0.6432586992342735 minDCF: 0.5138121546961326\n",
      "Sensitivity (TPR): 0.6403508771929824  Specificity (TNR):  0.7163904235727441\n",
      "CM\n",
      " [[778.  41.]\n",
      " [308.  73.]]\n",
      "/-\\ /-\\ /-\\ /-\\ /-\\ \n",
      "\\-/ \\-/ \\-/ \\-/ \\-/ \n",
      "Polynomial SVM error: 0.15916666666666668\n",
      "[0.5, 1, 1] DCF: 0.2936415624697102 minDCF: 0.2853542696520306\n",
      "Sensitivity (TPR): 0.868421052631579  Specificity (TNR):  0.8379373848987108\n",
      "CM\n",
      " [[910.  15.]\n",
      " [176.  99.]]\n",
      "/-\\ /-\\ /-\\ /-\\ /-\\ \n"
     ]
    }
   ],
   "source": [
    "kfold(Data_s, label_s, 5, [1, 0.1, 2, 0], [0.5, 1, 1])\n",
    "kfold(Data_s, label_s, 5, [1, 0.01, 2, 0], [0.5, 1, 1])"
   ]
  },
  {
   "cell_type": "code",
   "execution_count": 12,
   "id": "latter-happening",
   "metadata": {},
   "outputs": [
    {
     "name": "stdout",
     "output_type": "stream",
     "text": [
      "\\-/ \\-/ \\-/ \\-/ \\-/ \n",
      "Polynomial SVM error: 0.31499999999999995\n",
      "[0.5, 1, 1] DCF: 0.4815353300378017 minDCF: 0.4185809828438499\n",
      "Sensitivity (TPR): 0.8508771929824561  Specificity (TNR):  0.6675874769797422\n",
      "CM\n",
      " [[725.  17.]\n",
      " [361.  97.]]\n",
      "/-\\ /-\\ /-\\ /-\\ /-\\ \n",
      "\\-/ \\-/ \\-/ \\-/ \\-/ \n",
      "Polynomial SVM error: 0.2858333333333334\n",
      "[0.5, 1, 1] DCF: 0.449306969080159 minDCF: 0.35426965203062905\n",
      "Sensitivity (TPR): 0.8508771929824561  Specificity (TNR):  0.6998158379373849\n",
      "CM\n",
      " [[760.  17.]\n",
      " [326.  97.]]\n",
      "/-\\ /-\\ /-\\ /-\\ /-\\ \n"
     ]
    }
   ],
   "source": [
    "kfold(Data_s, label_s, 5, [10, 0.1, 2, 0], [0.5, 1, 1])\n",
    "kfold(Data_s, label_s, 5, [10, 0.01, 2, 0], [0.5, 1, 1])"
   ]
  },
  {
   "cell_type": "code",
   "execution_count": 15,
   "id": "danish-treasurer",
   "metadata": {},
   "outputs": [
    {
     "name": "stdout",
     "output_type": "stream",
     "text": [
      "\\-/ \\-/ \\-/ \\-/ \\-/ \n",
      "Polynomial SVM error: 0.48504201680672265\n",
      "[0.5, 1, 1] DCF: 1.0847800157032872 minDCF: 0.8517972207826874\n",
      "Sensitivity (TPR): 0.3873325213154689  Specificity (TNR):  0.5278874629812438\n",
      "CM\n",
      " [[4278.  503.]\n",
      " [3826.  318.]]\n",
      "/-\\ /-\\ /-\\ /-\\ /-\\ \n"
     ]
    }
   ],
   "source": [
    "kfold(Data, labels, 5, [0, 0.01, 2, 0], [0.5, 1, 1])"
   ]
  },
  {
   "cell_type": "code",
   "execution_count": 21,
   "id": "interracial-conference",
   "metadata": {},
   "outputs": [],
   "source": [
    "data_g = ml.gaussianize(Data)\n",
    "data_z = ml.z_normalization(Data)"
   ]
  },
  {
   "cell_type": "code",
   "execution_count": 22,
   "id": "heated-decision",
   "metadata": {},
   "outputs": [
    {
     "name": "stdout",
     "output_type": "stream",
     "text": [
      "\\-/ \\-/ \\-/ \\-/ \\-/ \n",
      "Polynomial SVM error: 0.03731092436974792\n",
      "[0.5, 1, 1] DCF: 0.221, minDCF: 0.216\n",
      "Sensitivity (TPR): 0.8, Specificity (TNR): 0.979\n",
      "CM\n",
      " [[7935.  164.]\n",
      " [ 169.  657.]]\n",
      "/-\\ /-\\ /-\\ /-\\ /-\\ \n",
      "\\-/ \\-/ \\-/ \\-/ \\-/ \n",
      "Polynomial SVM error: 0.025210084033613467\n",
      "[0.5, 1, 1] DCF: 0.202, minDCF: 0.154\n",
      "Sensitivity (TPR): 0.806, Specificity (TNR): 0.992\n",
      "CM\n",
      " [[8038.  159.]\n",
      " [  66.  662.]]\n",
      "/-\\ /-\\ /-\\ /-\\ /-\\ \n",
      "\\-/ \\-/ \\-/ \\-/ \\-/ \n",
      "Polynomial SVM error: 0.01971988795518209\n",
      "[0.5, 1, 1] DCF: 0.159, minDCF: 0.132\n",
      "Sensitivity (TPR): 0.848, Specificity (TNR): 0.994\n",
      "CM\n",
      " [[8053.  125.]\n",
      " [  51.  696.]]\n",
      "/-\\ /-\\ /-\\ /-\\ /-\\ \n",
      "\\-/ \\-/ \\-/ \\-/ \\-/ \n",
      "Polynomial SVM error: 0.01971988795518209\n",
      "[0.5, 1, 1] DCF: 0.159, minDCF: 0.131\n",
      "Sensitivity (TPR): 0.848, Specificity (TNR): 0.994\n",
      "CM\n",
      " [[8053.  125.]\n",
      " [  51.  696.]]\n",
      "/-\\ /-\\ /-\\ /-\\ /-\\ \n"
     ]
    }
   ],
   "source": [
    "kfold(data_g, labels, 5, [0, 1, 2, 0], [0.5, 1, 1])\n",
    "kfold(data_g, labels, 5, [1, 1, 2, 0], [0.5, 1, 1])\n",
    "kfold(data_g, labels, 5, [0, 1, 2, 1], [0.5, 1, 1])\n",
    "kfold(data_g, labels, 5, [1, 1, 2, 1], [0.5, 1, 1])"
   ]
  },
  {
   "cell_type": "code",
   "execution_count": 23,
   "id": "parental-container",
   "metadata": {},
   "outputs": [
    {
     "name": "stdout",
     "output_type": "stream",
     "text": [
      "\\-/ \\-/ \\-/ \\-/ \\-/ \n",
      "Polynomial SVM error: 0.0328291316526611\n",
      "[0.5, 1, 1] DCF: 0.246, minDCF: 0.227\n",
      "Sensitivity (TPR): 0.766, Specificity (TNR): 0.988\n",
      "CM\n",
      " [[8003.  192.]\n",
      " [ 101.  629.]]\n",
      "/-\\ /-\\ /-\\ /-\\ /-\\ \n",
      "\\-/ \\-/ \\-/ \\-/ \\-/ \n",
      "Polynomial SVM error: 0.024649859943977614\n",
      "[0.5, 1, 1] DCF: 0.229, minDCF: 0.135\n",
      "Sensitivity (TPR): 0.776, Specificity (TNR): 0.996\n",
      "CM\n",
      " [[8068.  184.]\n",
      " [  36.  637.]]\n",
      "/-\\ /-\\ /-\\ /-\\ /-\\ \n",
      "\\-/ \\-/ \\-/ \\-/ \\-/ \n",
      "Polynomial SVM error: 0.020056022408963536\n",
      "[0.5, 1, 1] DCF: 0.17300000000000001, minDCF: 0.111\n",
      "Sensitivity (TPR): 0.8320000000000001, Specificity (TNR): 0.995\n",
      "CM\n",
      " [[8063.  138.]\n",
      " [  41.  683.]]\n",
      "/-\\ /-\\ /-\\ /-\\ /-\\ \n",
      "\\-/ \\-/ \\-/ \\-/ \\-/ \n",
      "Polynomial SVM error: 0.020056022408963536\n",
      "[0.5, 1, 1] DCF: 0.17300000000000001, minDCF: 0.113\n",
      "Sensitivity (TPR): 0.8320000000000001, Specificity (TNR): 0.995\n",
      "CM\n",
      " [[8063.  138.]\n",
      " [  41.  683.]]\n",
      "/-\\ /-\\ /-\\ /-\\ /-\\ \n"
     ]
    }
   ],
   "source": [
    "kfold(data_z, labels, 5, [0, 1, 2, 0], [0.5, 1, 1])\n",
    "kfold(data_z, labels, 5, [1, 1, 2, 0], [0.5, 1, 1])\n",
    "kfold(data_z, labels, 5, [0, 1, 2, 1], [0.5, 1, 1])\n",
    "kfold(data_z, labels, 5, [1, 1, 2, 1], [0.5, 1, 1])"
   ]
  },
  {
   "cell_type": "code",
   "execution_count": null,
   "id": "general-jason",
   "metadata": {},
   "outputs": [],
   "source": []
  }
 ],
 "metadata": {
  "kernelspec": {
   "display_name": "Python 3",
   "language": "python",
   "name": "python3"
  },
  "language_info": {
   "codemirror_mode": {
    "name": "ipython",
    "version": 3
   },
   "file_extension": ".py",
   "mimetype": "text/x-python",
   "name": "python",
   "nbconvert_exporter": "python",
   "pygments_lexer": "ipython3",
   "version": "3.7.9"
  }
 },
 "nbformat": 4,
 "nbformat_minor": 5
}
