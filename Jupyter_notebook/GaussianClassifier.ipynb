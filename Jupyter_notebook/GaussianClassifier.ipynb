{
 "cells": [
  {
   "cell_type": "code",
   "execution_count": 43,
   "metadata": {},
   "outputs": [],
   "source": [
    "import numpy as np\n",
    "import scipy\n",
    "import numpy \n",
    "import matplotlib.pyplot as plt\n",
    "from scipy import linalg, special, stats\n",
    "from numpy import genfromtxt\n",
    "import ML_support as ml"
   ]
  },
  {
   "cell_type": "code",
   "execution_count": 44,
   "metadata": {},
   "outputs": [],
   "source": [
    "class GaussianClassifier:\n",
    "    def __init__(self):\n",
    "        self.C = {}\n",
    "        self.mu = {}\n",
    "\n",
    "    def train(self, DTR, LTR):\n",
    "        self.mu, self.C = ml.MU_Cov_calculator(DTR, LTR)\n",
    "\n",
    "    def test(self, DTE, LTE):\n",
    "        S = numpy.zeros((numpy.unique(LTE).size, DTE.shape[1]))\n",
    "        predicted = []\n",
    "\n",
    "        for i in numpy.unique(LTE):\n",
    "            S[i, :] = ml.GAU_logpdf_ND(DTE, self.mu[i], self.C[i]) + numpy.log(1 / 2)\n",
    "\n",
    "        Sp = scipy.special.logsumexp(S, axis=0)\n",
    "\n",
    "        for x, p in zip(S.T, Sp): \n",
    "            tmp = x - p\n",
    "            predicted.append(numpy.argmax(tmp))\n",
    "\n",
    "        predicted = numpy.array(predicted)\n",
    "\n",
    "        True_prediction = numpy.array([predicted == LTE])\n",
    "\n",
    "        error = 1 - (numpy.count_nonzero(True_prediction) / True_prediction.size)\n",
    "\n",
    "        print(\"Gaussian Classifier error:\", error)\n",
    "        return error"
   ]
  },
  {
   "cell_type": "code",
   "execution_count": 45,
   "metadata": {},
   "outputs": [],
   "source": [
    "Data, labels = ml.loadFile('../Train.txt')"
   ]
  },
  {
   "cell_type": "code",
   "execution_count": 46,
   "metadata": {},
   "outputs": [],
   "source": [
    "(DTR, LTR), (DTE,LTE) = ml.split_db_2to1(Data, labels, seed=42)"
   ]
  },
  {
   "cell_type": "code",
   "execution_count": 5,
   "metadata": {
    "scrolled": true
   },
   "outputs": [
    {
     "name": "stdout",
     "output_type": "stream",
     "text": [
      "Gaussian Classifier error: 0.040644944575075614\n"
     ]
    }
   ],
   "source": [
    "G=GaussianClassifier()\n",
    "G.train(DTR,LTR)\n",
    "G.test(DTE,LTE)"
   ]
  },
  {
   "cell_type": "code",
   "execution_count": 6,
   "metadata": {
    "scrolled": false
   },
   "outputs": [
    {
     "name": "stdout",
     "output_type": "stream",
     "text": [
      "Gaussian Classifier error: 0.04165267047363119\n",
      "Gaussian Classifier error: 0.04266039637218677\n"
     ]
    }
   ],
   "source": [
    "Gn=GaussianClassifier()\n",
    "Gn.train(ml.z_normalization(DTR), LTR)\n",
    "Gn.test(DTE, LTE)\n",
    "Gn.test(ml.z_normalization(DTE), LTE)"
   ]
  },
  {
   "cell_type": "code",
   "execution_count": 7,
   "metadata": {},
   "outputs": [
    {
     "name": "stdout",
     "output_type": "stream",
     "text": [
      "Gaussian Classifier error: 0.0923748740342627\n",
      "Gaussian Classifier error: 0.08296943231441045\n"
     ]
    }
   ],
   "source": [
    "GG=GaussianClassifier()\n",
    "GG.train(ml.gaussianize(DTR), LTR)\n",
    "GG.test(DTE, LTE)\n",
    "GG.test(ml.gaussianize(DTE), LTE)"
   ]
  },
  {
   "cell_type": "code",
   "execution_count": 47,
   "metadata": {
    "scrolled": false
   },
   "outputs": [],
   "source": [
    "class GaussianClassifier_mod1:\n",
    "    def __init__(self):\n",
    "        self.C = {}\n",
    "        self.mu = {}\n",
    "\n",
    "    def train(self, DTR, LTR):\n",
    "        self.mu, self.C = ml.MU_Cov_calculator(DTR, LTR)\n",
    "\n",
    "    def test(self, DTE, LTE, app, ROC=False):\n",
    "        S = numpy.zeros((numpy.unique(LTE).size, DTE.shape[1]))\n",
    "        ll = numpy.zeros((numpy.unique(LTE).size, DTE.shape[1]))\n",
    "        predicted = []\n",
    "\n",
    "        for i in numpy.unique(LTE):\n",
    "            ll[i, :] = ml.GAU_logpdf_ND(DTE, self.mu[i], self.C[i])\n",
    "        \n",
    "        llr = numpy.array(ll[1, :]-ll[0, :])\n",
    "        \n",
    "        CM = ml.compute_optimal_B_decision(app, llr, LTE)\n",
    "        sensitivity = (1-ml.compute_FNR(CM)) # TPR\n",
    "        specificity = (1-ml.compute_FPR(CM)) # TNR\n",
    "        \n",
    "        app_bayes_risk=ml.compute_Bayes_risk(CM, app)\n",
    "        DCF = ml.compute_norm_Bayes(app_bayes_risk, app)\n",
    "        \n",
    "        minDCF= ml.compute_min_DCF(llr, app, LTE)\n",
    "        error = 1-(CM[0, 0]+CM[1,1])/(len(LTE))\n",
    "        if(ROC == True):\n",
    "            ml.plot_ROC(app, llr, LTE)\n",
    "        \n",
    "        print(\"\\-/ \\-/ \\-/ \\-/ \\-/ \")\n",
    "        print(\"Gaussian Classifier error:\", error)\n",
    "        print(app,\"DCF:\", DCF, \"minDCF:\", minDCF)\n",
    "        print('Sensitivity (TPR):', sensitivity, ' Specificity (TNR): ', specificity)\n",
    "        print('CM\\n', CM)\n",
    "        print(\"/-\\ /-\\ /-\\ /-\\ /-\\ \")\n",
    "        return error\n",
    "       "
   ]
  },
  {
   "cell_type": "code",
   "execution_count": 48,
   "metadata": {
    "scrolled": true
   },
   "outputs": [
    {
     "data": {
      "image/png": "[encoded data removed]",
      "text/plain": [
       "<Figure size 432x288 with 1 Axes>"
      ]
     },
     "metadata": {
      "needs_background": "light"
     },
     "output_type": "display_data"
    },
    {
     "name": "stdout",
     "output_type": "stream",
     "text": [
      "\\-/ \\-/ \\-/ \\-/ \\-/ \n",
      "Gaussian Classifier error: 0.040644944575075614\n",
      "[0.5, 1, 1] DCF: 0.16563353744700895 minDCF: 0.1256510329049189\n",
      "Sensitivity (TPR): 0.8654545454545455  Specificity (TNR):  0.9689119170984456\n",
      "CM\n",
      " [[2618.   37.]\n",
      " [  84.  238.]]\n",
      "/-\\ /-\\ /-\\ /-\\ /-\\ \n"
     ]
    },
    {
     "data": {
      "text/plain": [
       "0.040644944575075614"
      ]
     },
     "execution_count": 48,
     "metadata": {},
     "output_type": "execute_result"
    }
   ],
   "source": [
    "G=GaussianClassifier_mod1()\n",
    "G.train(DTR,LTR)\n",
    "G.test(DTE,LTE, [1/2,1,1], True)"
   ]
  },
  {
   "cell_type": "code",
   "execution_count": 49,
   "metadata": {
    "scrolled": true
   },
   "outputs": [
    {
     "name": "stdout",
     "output_type": "stream",
     "text": [
      "\\-/ \\-/ \\-/ \\-/ \\-/ \n",
      "Gaussian Classifier error: 0.03325495465233452\n",
      "[0.1, 1, 1] DCF: 0.34258663616176577 minDCF: 0.28024628221519415\n",
      "Sensitivity (TPR): 0.8472727272727273  Specificity (TNR):  0.9789045151739453\n",
      "CM\n",
      " [[2645.   42.]\n",
      " [  57.  233.]]\n",
      "/-\\ /-\\ /-\\ /-\\ /-\\ \n"
     ]
    },
    {
     "data": {
      "text/plain": [
       "0.03325495465233452"
      ]
     },
     "execution_count": 49,
     "metadata": {},
     "output_type": "execute_result"
    }
   ],
   "source": [
    "G.test(DTE,LTE, [0.1,1,1])"
   ]
  },
  {
   "cell_type": "code",
   "execution_count": 50,
   "metadata": {
    "scrolled": true
   },
   "outputs": [
    {
     "name": "stdout",
     "output_type": "stream",
     "text": [
      "\\-/ \\-/ \\-/ \\-/ \\-/ \n",
      "Gaussian Classifier error: 0.04702720859926102\n",
      "[0.9, 1, 1] DCF: 0.9254572370634548 minDCF: 0.6584025301123747\n",
      "Sensitivity (TPR): 0.9018181818181819  Specificity (TNR):  0.9581791265729089\n",
      "CM\n",
      " [[2589.   27.]\n",
      " [ 113.  248.]]\n",
      "/-\\ /-\\ /-\\ /-\\ /-\\ \n"
     ]
    },
    {
     "data": {
      "text/plain": [
       "0.04702720859926102"
      ]
     },
     "execution_count": 50,
     "metadata": {},
     "output_type": "execute_result"
    }
   ],
   "source": [
    "G.test(DTE,LTE, [0.9,1,1])\n"
   ]
  },
  {
   "cell_type": "code",
   "execution_count": 12,
   "metadata": {},
   "outputs": [
    {
     "data": {
      "image/png": "[encoded data removed]",
      "text/plain": [
       "<Figure size 432x288 with 1 Axes>"
      ]
     },
     "metadata": {
      "needs_background": "light"
     },
     "output_type": "display_data"
    },
    {
     "name": "stdout",
     "output_type": "stream",
     "text": [
      "\\-/ \\-/ \\-/ \\-/ \\-/ \n",
      "Gaussian Classifier error: 0.04534766543500168\n",
      "[0.5, 5, 1] DCF: 0.5843146490814884 minDCF: 0.4028194603324137\n",
      "CM\n",
      " [[2597.   30.]\n",
      " [ 105.  245.]]\n",
      "/-\\ /-\\ /-\\ /-\\ /-\\ \n"
     ]
    }
   ],
   "source": [
    "G.test(DTE,LTE, [0.5,5,1], True)\n"
   ]
  },
  {
   "cell_type": "code",
   "execution_count": 36,
   "metadata": {},
   "outputs": [
    {
     "name": "stdout",
     "output_type": "stream",
     "text": [
      "\\-/ \\-/ \\-/ \\-/ \\-/ \n",
      "Gaussian Classifier error: 0.0329190460194827\n",
      "[0.2, 1, 5] DCF: 0.5559383621559787 minDCF: 0.32466994145750616\n",
      "CM [[2649.   45.]\n",
      " [  53.  230.]]\n",
      "/-\\ /-\\ /-\\ /-\\ /-\\ \n"
     ]
    }
   ],
   "source": [
    "G.test(DTE,LTE, [0.2,1,5])\n"
   ]
  },
  {
   "cell_type": "code",
   "execution_count": 37,
   "metadata": {},
   "outputs": [
    {
     "name": "stdout",
     "output_type": "stream",
     "text": [
      "\\-/ \\-/ \\-/ \\-/ \\-/ \n",
      "Gaussian Classifier error: 0.05005038629492775\n",
      "[0.7, 5, 1] DCF: 1.148552138707579 minDCF: 0.7262813179911625\n",
      "CM [[2579.   26.]\n",
      " [ 123.  249.]]\n",
      "/-\\ /-\\ /-\\ /-\\ /-\\ \n"
     ]
    }
   ],
   "source": [
    "G.test(DTE,LTE, [0.7,5,1])\n"
   ]
  },
  {
   "cell_type": "code",
   "execution_count": 9,
   "metadata": {
    "scrolled": true
   },
   "outputs": [
    {
     "name": "stdout",
     "output_type": "stream",
     "text": [
      "\\-/ \\-/ \\-/ \\-/ \\-/ \n",
      "Gaussian Classifier error: 0.09035942223715154\n",
      "[0.9, 10, 1] DCF: 5.983803243388737 minDCF: 0.9130273871206513\n",
      "CM\n",
      " [[2451.   18.]\n",
      " [ 251.  257.]]\n",
      "/-\\ /-\\ /-\\ /-\\ /-\\ \n"
     ]
    }
   ],
   "source": [
    "G.test(DTE,LTE, [0.9,10,1])\n"
   ]
  },
  {
   "cell_type": "code",
   "execution_count": 10,
   "metadata": {},
   "outputs": [
    {
     "name": "stdout",
     "output_type": "stream",
     "text": [
      "\\-/ \\-/ \\-/ \\-/ \\-/ \n",
      "Gaussian Classifier error: 0.06953308700033589\n",
      "[0.9, 5, 1] DCF: 3.1786689993943886 minDCF: 0.9130273871206513\n",
      "CM\n",
      " [[2514.   19.]\n",
      " [ 188.  256.]]\n",
      "/-\\ /-\\ /-\\ /-\\ /-\\ \n"
     ]
    }
   ],
   "source": [
    "G.test(DTE,LTE, [0.9,5,1])\n"
   ]
  },
  {
   "cell_type": "code",
   "execution_count": 11,
   "metadata": {},
   "outputs": [
    {
     "name": "stdout",
     "output_type": "stream",
     "text": [
      "\\-/ \\-/ \\-/ \\-/ \\-/ \n",
      "Gaussian Classifier error: 0.05844810211622442\n",
      "[0.9, 3, 1] DCF: 2.020631182289214 minDCF: 0.9130273871206513\n",
      "CM\n",
      " [[2548.   20.]\n",
      " [ 154.  255.]]\n",
      "/-\\ /-\\ /-\\ /-\\ /-\\ \n"
     ]
    }
   ],
   "source": [
    "G.test(DTE,LTE, [0.9,3,1])\n"
   ]
  },
  {
   "cell_type": "code",
   "execution_count": 12,
   "metadata": {},
   "outputs": [
    {
     "name": "stdout",
     "output_type": "stream",
     "text": [
      "\\-/ \\-/ \\-/ \\-/ \\-/ \n",
      "Gaussian Classifier error: 0.05374538125629824\n",
      "[0.8, 5, 1] DCF: 1.651073279052554 minDCF: 0.9086064194872486\n",
      "CM\n",
      " [[2564.   22.]\n",
      " [ 138.  253.]]\n",
      "/-\\ /-\\ /-\\ /-\\ /-\\ \n"
     ]
    }
   ],
   "source": [
    "G.test(DTE,LTE, [0.8,5,1])\n"
   ]
  },
  {
   "cell_type": "code",
   "execution_count": 27,
   "metadata": {},
   "outputs": [],
   "source": [
    "class GaussianClassifier_mod2:\n",
    "    def __init__(self):\n",
    "        self.C = {}\n",
    "        self.mu = {}\n",
    "\n",
    "    def train(self, DTR, LTR):\n",
    "        self.mu, self.C = ml.MU_Cov_calculator(DTR, LTR)\n",
    "\n",
    "    def test(self, DTE, LTE):\n",
    "        S = numpy.zeros((numpy.unique(LTE).size, DTE.shape[1]))\n",
    "        ll = numpy.zeros((numpy.unique(LTE).size, DTE.shape[1]))\n",
    "        predicted = []\n",
    "\n",
    "        for i in numpy.unique(LTE):\n",
    "            ll[i, :] = ml.GAU_logpdf_ND(DTE, self.mu[i], self.C[i])\n",
    "        \n",
    "        return list(ll[1, :]-ll[0, :])\n",
    "        \n",
    "        \n",
    "       "
   ]
  },
  {
   "cell_type": "code",
   "execution_count": 34,
   "metadata": {},
   "outputs": [],
   "source": [
    "def kfold(classifier, D, L, fold, app):\n",
    "    error = 0\n",
    "    N = int(D.shape[1]/fold) #numero di elementi per ogni fold\n",
    "    numpy.random.seed(0) #imposto il seed del generatore di numeri casuali -> in tal modo genererò la stessa sequenza di numeri casuali aventi seed uguale\n",
    "    indexes = numpy.random.permutation(D.shape[1]) #genero una sequenza di numeri casuali che vanno da 0 al num_di_campioni\n",
    "    \n",
    "    LTE_final = []\n",
    "    llr_final = []\n",
    "    for j in range(fold):\n",
    "        test_indexes = indexes[(j*N):((j+1)*N)] #selezioni gli indici che identificano i campioni (casuali) del test set\n",
    "        if(j > 0): #se il test set non è preso dalla prima fold (--> il test set è una fold intermedia o l'ultima fold)\n",
    "            left_indexes = indexes[0:(j*N)] #allora prendo tutti gli indici che stanno a sinistra di tale fold\n",
    "        else: #se il test set è preso dalla prima fold\n",
    "            right_indexes = indexes[((j+1)*N):] #prendo tutti gli indici a destra della prima fold\n",
    "\n",
    "        if(j == 0): #se il test set è preso dalla prima fold\n",
    "            train_indexes = right_indexes #assegno agli indici di training quelli che stanno a destra della prima fold\n",
    "        elif(j == fold-1): #se il test set è preso dall'ultima fold\n",
    "            train_indexes = left_indexes #assegno agli indici di training quelli che stanno a sinistra dell'ultima fold\n",
    "        else: #in questo caso il test set è preso da una fold intermedia\n",
    "            train_indexes = numpy.hstack((left_indexes, right_indexes)) #pertanto assegno agli indici di training quelli appartenenti alle fold di sinistra e di destra\n",
    "\n",
    "        DTR = D[:, train_indexes]  #definisco insieme di training e di testing\n",
    "        LTR = L[train_indexes]\n",
    "        DTE = D[:, test_indexes]\n",
    "        LTE = L[test_indexes]\n",
    "        LTE_final.extend(LTE)\n",
    "        classifier.train(DTR, LTR)\n",
    "        llr_final.extend(classifier.test(DTE, LTE))\n",
    "        \n",
    "    CM = ml.compute_optimal_B_decision(app, llr_final, LTE_final)\n",
    "    sensitivity = (1-ml.compute_FNR(CM)) # TPR\n",
    "    specificity = (1-ml.compute_FPR(CM)) # TNR\n",
    "        \n",
    "    app_bayes_risk=ml.compute_Bayes_risk(CM, app)\n",
    "    DCF = ml.compute_norm_Bayes(app_bayes_risk, app)\n",
    "\n",
    "    minDCF= ml.compute_min_DCF(llr_final, app, LTE_final)\n",
    "    error = 1-(CM[0, 0]+CM[1,1])/(len(LTE_final))\n",
    "\n",
    "    print(\"\\-/ \\-/ \\-/ \\-/ \\-/ \")\n",
    "    print(\"Gaussian Classifier error:\", error)\n",
    "    print(app,\"DCF:\", DCF, \"minDCF:\", minDCF)\n",
    "    print('Sensitivity (TPR):', sensitivity, ' Specificity (TNR): ', specificity)\n",
    "    print('CM\\n', CM)\n",
    "    print(\"/-\\ /-\\ /-\\ /-\\ /-\\ \")"
   ]
  },
  {
   "cell_type": "code",
   "execution_count": 35,
   "metadata": {
    "scrolled": true
   },
   "outputs": [
    {
     "name": "stdout",
     "output_type": "stream",
     "text": [
      "[8759 5514 1900 ... 4859 3264 2732]\n",
      "\\-/ \\-/ \\-/ \\-/ \\-/ \n",
      "Gaussian Classifier error: 0.03899159663865548\n",
      "[0.5, 1, 1] DCF: 0.16116189896750285 minDCF: 0.14089747412745154\n",
      "Sensitivity: 0.8684531059683314  Specificity:  0.9703849950641659\n",
      "CM\n",
      " [[7864.  108.]\n",
      " [ 240.  713.]]\n",
      "/-\\ /-\\ /-\\ /-\\ /-\\ \n"
     ]
    }
   ],
   "source": [
    "kg=GaussianClassifier_mod2()\n",
    "kfold(kg, Data, labels, 5, [0.5, 1, 1])"
   ]
  },
  {
   "cell_type": "code",
   "execution_count": 36,
   "metadata": {},
   "outputs": [
    {
     "name": "stdout",
     "output_type": "stream",
     "text": [
      "[8759 5514 1900 ... 4859 3264 2732]\n",
      "\\-/ \\-/ \\-/ \\-/ \\-/ \n",
      "Gaussian Classifier error: 0.04974789915966382\n",
      "[0.9, 1, 1] DCF: 0.9544119203100259 minDCF: 0.6624496647119722\n",
      "Sensitivity: 0.8989037758830695  Specificity:  0.9554540967423495\n",
      "CM\n",
      " [[7743.   83.]\n",
      " [ 361.  738.]]\n",
      "/-\\ /-\\ /-\\ /-\\ /-\\ \n"
     ]
    }
   ],
   "source": [
    "kfold(kg, Data, labels, 5, [0.9, 1, 1])"
   ]
  },
  {
   "cell_type": "code",
   "execution_count": 37,
   "metadata": {},
   "outputs": [
    {
     "name": "stdout",
     "output_type": "stream",
     "text": [
      "[8759 5514 1900 ... 4859 3264 2732]\n",
      "\\-/ \\-/ \\-/ \\-/ \\-/ \n",
      "Gaussian Classifier error: 0.032717086834733844\n",
      "[0.1, 1, 1] DCF: 0.33771731798435206 minDCF: 0.2812573270985111\n",
      "Sensitivity: 0.8477466504263094  Specificity:  0.9793928923988154\n",
      "CM\n",
      " [[7937.  125.]\n",
      " [ 167.  696.]]\n",
      "/-\\ /-\\ /-\\ /-\\ /-\\ \n"
     ]
    }
   ],
   "source": [
    "kfold(kg, Data, labels, 5, [0.1, 1, 1])"
   ]
  },
  {
   "cell_type": "code",
   "execution_count": 38,
   "metadata": {},
   "outputs": [
    {
     "name": "stdout",
     "output_type": "stream",
     "text": [
      "[8759 5514 1900 ... 4859 3264 2732]\n",
      "\\-/ \\-/ \\-/ \\-/ \\-/ \n",
      "Gaussian Classifier error: 0.050308123249299674\n",
      "[0.5, 10, 1] DCF: 1.0440682515844568 minDCF: 0.703862575796016\n",
      "Sensitivity: 0.9001218026796589  Specificity:  0.9547137216189536\n",
      "CM\n",
      " [[7737.   82.]\n",
      " [ 367.  739.]]\n",
      "/-\\ /-\\ /-\\ /-\\ /-\\ \n"
     ]
    }
   ],
   "source": [
    "kfold(kg, Data, labels, 5, [0.5, 10, 1])"
   ]
  },
  {
   "cell_type": "code",
   "execution_count": 39,
   "metadata": {},
   "outputs": [
    {
     "name": "stdout",
     "output_type": "stream",
     "text": [
      "[8759 5514 1900 ... 4859 3264 2732]\n",
      "\\-/ \\-/ \\-/ \\-/ \\-/ \n",
      "Gaussian Classifier error: 0.0323809523809524\n",
      "[0.5, 1, 10] DCF: 0.3546066182261538 minDCF: 0.2896282553359313\n",
      "Sensitivity: 0.8465286236297198  Specificity:  0.9798864758144127\n",
      "CM\n",
      " [[7941.  126.]\n",
      " [ 163.  695.]]\n",
      "/-\\ /-\\ /-\\ /-\\ /-\\ \n"
     ]
    }
   ],
   "source": [
    "kfold(kg, Data, labels, 5, [0.5, 1, 10])"
   ]
  },
  {
   "cell_type": "code",
   "execution_count": 40,
   "metadata": {},
   "outputs": [
    {
     "name": "stdout",
     "output_type": "stream",
     "text": [
      "[8759 5514 1900 ... 4859 3264 2732]\n",
      "\\-/ \\-/ \\-/ \\-/ \\-/ \n",
      "Gaussian Classifier error: 0.10218487394957987\n",
      "[0.9, 10, 1] DCF: 6.353980921588174 minDCF: 0.9842053307008884\n",
      "Sensitivity: 0.9305724725943971  Specificity:  0.8944965449160909\n",
      "CM\n",
      " [[7249.   57.]\n",
      " [ 855.  764.]]\n",
      "/-\\ /-\\ /-\\ /-\\ /-\\ \n"
     ]
    }
   ],
   "source": [
    "kfold(kg, Data, labels, 5, [0.9, 10, 1])"
   ]
  },
  {
   "cell_type": "code",
   "execution_count": 41,
   "metadata": {},
   "outputs": [
    {
     "name": "stdout",
     "output_type": "stream",
     "text": [
      "[8759 5514 1900 ... 4859 3264 2732]\n",
      "\\-/ \\-/ \\-/ \\-/ \\-/ \n",
      "Gaussian Classifier error: 0.03843137254901963\n",
      "[0.9, 1, 10] DCF: 0.1659287631343355 minDCF: 0.14694387096851766\n",
      "Sensitivity: 0.8660170523751523  Specificity:  0.971248766041461\n",
      "CM\n",
      " [[7871.  110.]\n",
      " [ 233.  711.]]\n",
      "/-\\ /-\\ /-\\ /-\\ /-\\ \n"
     ]
    }
   ],
   "source": [
    "kfold(kg, Data, labels, 5, [0.9, 1, 10])"
   ]
  },
  {
   "cell_type": "code",
   "execution_count": 42,
   "metadata": {},
   "outputs": [
    {
     "name": "stdout",
     "output_type": "stream",
     "text": [
      "[8759 5514 1900 ... 4859 3264 2732]\n",
      "\\-/ \\-/ \\-/ \\-/ \\-/ \n",
      "Gaussian Classifier error: 0.07507002801120444\n",
      "[0.9, 5, 1] DCF: 3.637382871633443 minDCF: 0.9842053307008884\n",
      "Sensitivity: 0.9208282582216809  Specificity:  0.9253455083909181\n",
      "CM\n",
      " [[7499.   65.]\n",
      " [ 605.  756.]]\n",
      "/-\\ /-\\ /-\\ /-\\ /-\\ \n"
     ]
    }
   ],
   "source": [
    "kfold(kg, Data, labels, 5, [0.9, 5, 1])"
   ]
  },
  {
   "cell_type": "code",
   "execution_count": null,
   "metadata": {},
   "outputs": [],
   "source": []
  }
 ],
 "metadata": {
  "kernelspec": {
   "display_name": "Python 3",
   "language": "python",
   "name": "python3"
  },
  "language_info": {
   "codemirror_mode": {
    "name": "ipython",
    "version": 3
   },
   "file_extension": ".py",
   "mimetype": "text/x-python",
   "name": "python",
   "nbconvert_exporter": "python",
   "pygments_lexer": "ipython3",
   "version": "3.8.5"
  }
 },
 "nbformat": 4,
 "nbformat_minor": 5
}
