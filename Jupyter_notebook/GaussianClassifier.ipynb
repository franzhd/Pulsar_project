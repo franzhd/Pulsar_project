{
 "cells": [
  {
   "cell_type": "code",
   "execution_count": 1,
   "id": "b181cfe7",
   "metadata": {},
   "outputs": [],
   "source": [
    "import numpy as np\n",
    "import scipy\n",
    "import numpy \n",
    "import matplotlib.pyplot as plt\n",
    "from scipy import linalg, special, stats\n",
    "from numpy import genfromtxt\n",
    "import ML_support as ml"
   ]
  },
  {
   "cell_type": "code",
   "execution_count": 2,
   "id": "1601252d",
   "metadata": {},
   "outputs": [],
   "source": [
    "class GaussianClassifier:\n",
    "    def __init__(self):\n",
    "        self.C = {}\n",
    "        self.mu = {}\n",
    "\n",
    "    def train(self, DTR, LTR):\n",
    "        self.mu, self.C = ml.MU_Cov_calculator(DTR, LTR)\n",
    "\n",
    "    def test(self, DTE, LTE):\n",
    "        S = numpy.zeros((numpy.unique(LTE).size, DTE.shape[1]))\n",
    "        predicted = []\n",
    "\n",
    "        for i in numpy.unique(LTE):\n",
    "            S[i, :] = ml.GAU_logpdf_ND(DTE, self.mu[i], self.C[i]) + numpy.log(1 / 2)\n",
    "\n",
    "        Sp = scipy.special.logsumexp(S, axis=0)\n",
    "\n",
    "        for x, p in zip(S.T, Sp): \n",
    "            tmp = x - p\n",
    "            predicted.append(numpy.argmax(tmp))\n",
    "\n",
    "        predicted = numpy.array(predicted)\n",
    "\n",
    "        True_prediction = numpy.array([predicted == LTE])\n",
    "\n",
    "        error = 1 - (numpy.count_nonzero(True_prediction) / True_prediction.size)\n",
    "\n",
    "        print(\"Gaussian Classifier error:\", error)\n"
   ]
  },
  {
   "cell_type": "code",
   "execution_count": 3,
   "id": "63bb9108",
   "metadata": {},
   "outputs": [],
   "source": [
    "Data, label = ml.loadFile('../Train.txt')"
   ]
  },
  {
   "cell_type": "code",
   "execution_count": 4,
   "id": "424d23d2",
   "metadata": {},
   "outputs": [],
   "source": [
    "(DTR, LTR), (DTE,LTE) = ml.split_db_2to1(Data, label, seed=42)"
   ]
  },
  {
   "cell_type": "code",
   "execution_count": 5,
   "id": "1b485083",
   "metadata": {
    "scrolled": true
   },
   "outputs": [
    {
     "name": "stdout",
     "output_type": "stream",
     "text": [
      "Gaussian Classifier error: 0.040644944575075614\n"
     ]
    }
   ],
   "source": [
    "G=GaussianClassifier()\n",
    "G.train(DTR,LTR)\n",
    "G.test(DTE,LTE)"
   ]
  },
  {
   "cell_type": "code",
   "execution_count": 6,
   "id": "749f734d",
   "metadata": {
    "scrolled": false
   },
   "outputs": [
    {
     "name": "stdout",
     "output_type": "stream",
     "text": [
      "Gaussian Classifier error: 0.04165267047363119\n",
      "Gaussian Classifier error: 0.04266039637218677\n"
     ]
    }
   ],
   "source": [
    "Gn=GaussianClassifier()\n",
    "Gn.train(ml.z_normalization(DTR), LTR)\n",
    "Gn.test(DTE, LTE)\n",
    "Gn.test(ml.z_normalization(DTE), LTE)"
   ]
  },
  {
   "cell_type": "code",
   "execution_count": 7,
   "id": "23241628",
   "metadata": {},
   "outputs": [
    {
     "name": "stdout",
     "output_type": "stream",
     "text": [
      "Gaussian Classifier error: 0.0923748740342627\n",
      "Gaussian Classifier error: 0.08296943231441045\n"
     ]
    }
   ],
   "source": [
    "GG=GaussianClassifier()\n",
    "GG.train(ml.gaussianize(DTR), LTR)\n",
    "GG.test(DTE, LTE)\n",
    "GG.test(ml.gaussianize(DTE), LTE)"
   ]
  },
  {
   "cell_type": "code",
   "execution_count": 8,
   "id": "ea61db82",
   "metadata": {},
   "outputs": [],
   "source": [
    "class GaussianClassifier_mod1:\n",
    "    def __init__(self):\n",
    "        self.C = {}\n",
    "        self.mu = {}\n",
    "\n",
    "    def train(self, DTR, LTR):\n",
    "        self.mu, self.C = ml.MU_Cov_calculator(DTR, LTR)\n",
    "\n",
    "    def test(self, DTE, LTE, app):\n",
    "        S = numpy.zeros((numpy.unique(LTE).size, DTE.shape[1]))\n",
    "        ll = numpy.zeros((numpy.unique(LTE).size, DTE.shape[1]))\n",
    "        predicted = []\n",
    "\n",
    "        for i in numpy.unique(LTE):\n",
    "            ll[i, :] = ml.GAU_logpdf_ND(DTE, self.mu[i], self.C[i])\n",
    "            S[i, :] = ll[i, :]  + numpy.log(1/2)\n",
    "\n",
    "        Sp = scipy.special.logsumexp(S, axis=0)\n",
    "\n",
    "        for x, p in zip(S.T, Sp):\n",
    "            tmp = x - p\n",
    "            predicted.append(numpy.argmax(tmp))\n",
    "\n",
    "        predicted = numpy.array(predicted)\n",
    "\n",
    "        app_bayes_risk=ml.compute_Bayes_risk(ml.compute_confusion_matrix(predicted, LTE), app)\n",
    "        DCF = ml.compute_norm_Bayes(app_bayes_risk, app)\n",
    "        \n",
    "        llr = numpy.array(ll[1, :]-ll[0, :])\n",
    "        minDCF= ml.compute_min_DCF(llr, app, LTE)\n",
    "\n",
    "\n",
    "        True_prediction = numpy.array([predicted == LTE])\n",
    "        error = 1 - (numpy.count_nonzero(True_prediction) / True_prediction.size)\n",
    "        \n",
    "        print(\"\\-/ \\-/ \\-/ \\-/ \\-/ \")\n",
    "        print(\"Gaussian Classifier error:\", error)\n",
    "        print(app,\"DCF:\", DCF, \"minDCF:\", minDCF)\n",
    "        print(\"/-\\ /-\\ /-\\ /-\\ /-\\ \")"
   ]
  },
  {
   "cell_type": "code",
   "execution_count": 9,
   "id": "e310c063",
   "metadata": {
    "scrolled": false
   },
   "outputs": [
    {
     "name": "stdout",
     "output_type": "stream",
     "text": [
      "\\-/ \\-/ \\-/ \\-/ \\-/ \n",
      "Gaussian Classifier error: 0.040644944575075614\n",
      "[0.5, 1, 1] DCF: 0.16563353744700895 minDCF: 0.1256510329049189\n",
      "/-\\ /-\\ /-\\ /-\\ /-\\ \n"
     ]
    }
   ],
   "source": [
    "G=GaussianClassifier_mod1()\n",
    "G.train(DTR,LTR)\n",
    "G.test(DTE,LTE, [1/2,1,1])"
   ]
  },
  {
   "cell_type": "code",
   "execution_count": 10,
   "id": "5832e2c5",
   "metadata": {},
   "outputs": [
    {
     "name": "stdout",
     "output_type": "stream",
     "text": [
      "\\-/ \\-/ \\-/ \\-/ \\-/ \n",
      "Gaussian Classifier error: 0.040644944575075614\n",
      "[0.3333333333333333, 1, 1] DCF: 0.19672162034856336 minDCF: 0.17622501850481126\n",
      "/-\\ /-\\ /-\\ /-\\ /-\\ \n"
     ]
    }
   ],
   "source": [
    "G.test(DTE,LTE, [1/3,1,1])"
   ]
  },
  {
   "cell_type": "code",
   "execution_count": 11,
   "id": "99535dca",
   "metadata": {
    "scrolled": true
   },
   "outputs": [
    {
     "name": "stdout",
     "output_type": "stream",
     "text": [
      "\\-/ \\-/ \\-/ \\-/ \\-/ \n",
      "Gaussian Classifier error: 0.040644944575075614\n",
      "[0.1, 1, 1] DCF: 0.41433820065944416 minDCF: 0.28024628221519415\n",
      "/-\\ /-\\ /-\\ /-\\ /-\\ \n"
     ]
    }
   ],
   "source": [
    "G.test(DTE,LTE, [0.1,1,1])"
   ]
  },
  {
   "cell_type": "code",
   "execution_count": null,
   "id": "4b42a106",
   "metadata": {},
   "outputs": [],
   "source": [
    "G.test(DTE,LTE, [0.1,1,1])"
   ]
  }
 ],
 "metadata": {
  "kernelspec": {
   "display_name": "Python 3",
   "language": "python",
   "name": "python3"
  },
  "language_info": {
   "codemirror_mode": {
    "name": "ipython",
    "version": 3
   },
   "file_extension": ".py",
   "mimetype": "text/x-python",
   "name": "python",
   "nbconvert_exporter": "python",
   "pygments_lexer": "ipython3",
   "version": "3.8.8"
  }
 },
 "nbformat": 4,
 "nbformat_minor": 5
}
