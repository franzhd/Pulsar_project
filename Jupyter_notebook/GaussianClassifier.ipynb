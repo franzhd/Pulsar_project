{
 "cells": [
  {
   "cell_type": "code",
   "execution_count": 1,
   "metadata": {},
   "outputs": [],
   "source": [
    "import numpy as np\n",
    "import scipy\n",
    "import numpy \n",
    "import matplotlib.pyplot as plt\n",
    "from scipy import linalg, special, stats\n",
    "from numpy import genfromtxt\n",
    "import ML_support as ml"
   ]
  },
  {
   "cell_type": "code",
   "execution_count": 2,
   "metadata": {},
   "outputs": [],
   "source": [
    "class GaussianClassifier:\n",
    "    def __init__(self):\n",
    "        self.C = {}\n",
    "        self.mu = {}\n",
    "\n",
    "    def train(self, DTR, LTR):\n",
    "        self.mu, self.C = ml.MU_Cov_calculator(DTR, LTR)\n",
    "\n",
    "    def test(self, DTE, LTE):\n",
    "        S = numpy.zeros((numpy.unique(LTE).size, DTE.shape[1]))\n",
    "        predicted = []\n",
    "\n",
    "        for i in numpy.unique(LTE):\n",
    "            S[i, :] = ml.GAU_logpdf_ND(DTE, self.mu[i], self.C[i]) + numpy.log(1 / 2)\n",
    "\n",
    "        Sp = scipy.special.logsumexp(S, axis=0)\n",
    "\n",
    "        for x, p in zip(S.T, Sp): \n",
    "            tmp = x - p\n",
    "            predicted.append(numpy.argmax(tmp))\n",
    "\n",
    "        predicted = numpy.array(predicted)\n",
    "\n",
    "        True_prediction = numpy.array([predicted == LTE])\n",
    "\n",
    "        error = 1 - (numpy.count_nonzero(True_prediction) / True_prediction.size)\n",
    "\n",
    "        print(\"Gaussian Classifier error:\", error)\n"
   ]
  },
  {
   "cell_type": "code",
   "execution_count": 3,
   "metadata": {},
   "outputs": [],
   "source": [
    "Data, label = ml.loadFile('../Train.txt')"
   ]
  },
  {
   "cell_type": "code",
   "execution_count": 4,
   "metadata": {},
   "outputs": [],
   "source": [
    "(DTR, LTR), (DTE,LTE) = ml.split_db_2to1(Data, label, seed=42)"
   ]
  },
  {
   "cell_type": "code",
   "execution_count": 5,
   "metadata": {
    "scrolled": true
   },
   "outputs": [
    {
     "name": "stdout",
     "output_type": "stream",
     "text": [
      "Gaussian Classifier error: 0.040644944575075614\n"
     ]
    }
   ],
   "source": [
    "G=GaussianClassifier()\n",
    "G.train(DTR,LTR)\n",
    "G.test(DTE,LTE)"
   ]
  },
  {
   "cell_type": "code",
   "execution_count": 6,
   "metadata": {
    "scrolled": false
   },
   "outputs": [
    {
     "name": "stdout",
     "output_type": "stream",
     "text": [
      "Gaussian Classifier error: 0.04165267047363119\n",
      "Gaussian Classifier error: 0.04266039637218677\n"
     ]
    }
   ],
   "source": [
    "Gn=GaussianClassifier()\n",
    "Gn.train(ml.z_normalization(DTR), LTR)\n",
    "Gn.test(DTE, LTE)\n",
    "Gn.test(ml.z_normalization(DTE), LTE)"
   ]
  },
  {
   "cell_type": "code",
   "execution_count": 7,
   "metadata": {},
   "outputs": [
    {
     "name": "stdout",
     "output_type": "stream",
     "text": [
      "Gaussian Classifier error: 0.0923748740342627\n",
      "Gaussian Classifier error: 0.08296943231441045\n"
     ]
    }
   ],
   "source": [
    "GG=GaussianClassifier()\n",
    "GG.train(ml.gaussianize(DTR), LTR)\n",
    "GG.test(DTE, LTE)\n",
    "GG.test(ml.gaussianize(DTE), LTE)"
   ]
  },
  {
   "cell_type": "code",
   "execution_count": 5,
   "metadata": {
    "scrolled": false
   },
   "outputs": [],
   "source": [
    "class GaussianClassifier_mod1:\n",
    "    def __init__(self):\n",
    "        self.C = {}\n",
    "        self.mu = {}\n",
    "\n",
    "    def train(self, DTR, LTR):\n",
    "        self.mu, self.C = ml.MU_Cov_calculator(DTR, LTR)\n",
    "\n",
    "    def test(self, DTE, LTE, app, ROC=False):\n",
    "        S = numpy.zeros((numpy.unique(LTE).size, DTE.shape[1]))\n",
    "        ll = numpy.zeros((numpy.unique(LTE).size, DTE.shape[1]))\n",
    "        predicted = []\n",
    "\n",
    "        for i in numpy.unique(LTE):\n",
    "            ll[i, :] = ml.GAU_logpdf_ND(DTE, self.mu[i], self.C[i])\n",
    "        \n",
    "        llr = numpy.array(ll[1, :]-ll[0, :])\n",
    "        \n",
    "        CM = ml.compute_optimal_B_decision(app, llr, LTE)\n",
    "        \n",
    "        app_bayes_risk=ml.compute_Bayes_risk(CM, app)\n",
    "        DCF = ml.compute_norm_Bayes(app_bayes_risk, app)\n",
    "        \n",
    "        minDCF= ml.compute_min_DCF(llr, app, LTE)\n",
    "        error = 1-(CM[0, 0]+CM[1,1])/(len(LTE))\n",
    "        if(ROC == True):\n",
    "            ml.plot_ROC(app, llr, LTE)\n",
    "        \n",
    "        print(\"\\-/ \\-/ \\-/ \\-/ \\-/ \")\n",
    "        print(\"Gaussian Classifier error:\", error)\n",
    "        print(app,\"DCF:\", DCF, \"minDCF:\", minDCF)\n",
    "        print('CM\\n', CM)\n",
    "        print(\"/-\\ /-\\ /-\\ /-\\ /-\\ \")\n",
    "\n",
    "       "
   ]
  },
  {
   "cell_type": "code",
   "execution_count": 6,
   "metadata": {
    "scrolled": true
   },
   "outputs": [
    {
     "data": {
      "image/png": "[encoded data removed]",
      "text/plain": [
       "<Figure size 432x288 with 1 Axes>"
      ]
     },
     "metadata": {
      "needs_background": "light"
     },
     "output_type": "display_data"
    },
    {
     "name": "stdout",
     "output_type": "stream",
     "text": [
      "\\-/ \\-/ \\-/ \\-/ \\-/ \n",
      "Gaussian Classifier error: 0.040644944575075614\n",
      "[0.5, 1, 1] DCF: 0.16563353744700895 minDCF: 0.1256510329049189\n",
      "CM\n",
      " [[2618.   37.]\n",
      " [  84.  238.]]\n",
      "/-\\ /-\\ /-\\ /-\\ /-\\ \n"
     ]
    }
   ],
   "source": [
    "G=GaussianClassifier_mod1()\n",
    "G.train(DTR,LTR)\n",
    "G.test(DTE,LTE, [1/2,1,1], True)"
   ]
  },
  {
   "cell_type": "code",
   "execution_count": 26,
   "metadata": {
    "scrolled": false
   },
   "outputs": [
    {
     "name": "stdout",
     "output_type": "stream",
     "text": [
      "\\-/ \\-/ \\-/ \\-/ \\-/ \n",
      "Gaussian Classifier error: 0.03728585824655695\n",
      "[0.3333333333333333, 1, 1] DCF: 0.1951120382208465 minDCF: 0.17622501850481126\n",
      "CM [[2630.   39.]\n",
      " [  72.  236.]]\n",
      "/-\\ /-\\ /-\\ /-\\ /-\\ \n"
     ]
    }
   ],
   "source": [
    "G.test(DTE,LTE, [1/3,1,1])"
   ]
  },
  {
   "cell_type": "code",
   "execution_count": 27,
   "metadata": {
    "scrolled": false
   },
   "outputs": [
    {
     "name": "stdout",
     "output_type": "stream",
     "text": [
      "\\-/ \\-/ \\-/ \\-/ \\-/ \n",
      "Gaussian Classifier error: 0.03325495465233452\n",
      "[0.1, 1, 1] DCF: 0.34258663616176577 minDCF: 0.28024628221519415\n",
      "CM [[2645.   42.]\n",
      " [  57.  233.]]\n",
      "/-\\ /-\\ /-\\ /-\\ /-\\ \n"
     ]
    }
   ],
   "source": [
    "G.test(DTE,LTE, [0.1,1,1])"
   ]
  },
  {
   "cell_type": "code",
   "execution_count": 28,
   "metadata": {
    "scrolled": true
   },
   "outputs": [
    {
     "name": "stdout",
     "output_type": "stream",
     "text": [
      "\\-/ \\-/ \\-/ \\-/ \\-/ \n",
      "Gaussian Classifier error: 0.04165267047363119\n",
      "[0.7, 1, 1] DCF: 0.3217935087365139 minDCF: 0.21857703608998943\n",
      "CM [[2612.   34.]\n",
      " [  90.  241.]]\n",
      "/-\\ /-\\ /-\\ /-\\ /-\\ \n"
     ]
    }
   ],
   "source": [
    "G.test(DTE,LTE, [0.7,1,1])"
   ]
  },
  {
   "cell_type": "code",
   "execution_count": 7,
   "metadata": {},
   "outputs": [
    {
     "data": {
      "image/png": "[encoded data removed]",
      "text/plain": [
       "<Figure size 432x288 with 1 Axes>"
      ]
     },
     "metadata": {
      "needs_background": "light"
     },
     "output_type": "display_data"
    },
    {
     "name": "stdout",
     "output_type": "stream",
     "text": [
      "\\-/ \\-/ \\-/ \\-/ \\-/ \n",
      "Gaussian Classifier error: 0.048034934497816595\n",
      "[0.5, 10, 1] DCF: 1.0247493439203283 minDCF: 0.6838570755669202\n",
      "CM\n",
      " [[2586.   27.]\n",
      " [ 116.  248.]]\n",
      "/-\\ /-\\ /-\\ /-\\ /-\\ \n"
     ]
    }
   ],
   "source": [
    "G.test(DTE,LTE, [1/2,10,1], True)\n"
   ]
  },
  {
   "cell_type": "code",
   "execution_count": 30,
   "metadata": {},
   "outputs": [
    {
     "name": "stdout",
     "output_type": "stream",
     "text": [
      "\\-/ \\-/ \\-/ \\-/ \\-/ \n",
      "Gaussian Classifier error: 0.045683574067853505\n",
      "[0.6, 5, 1] DCF: 0.7767041248906533 minDCF: 0.5755467330596864\n",
      "CM [[2593.   27.]\n",
      " [ 109.  248.]]\n",
      "/-\\ /-\\ /-\\ /-\\ /-\\ \n"
     ]
    }
   ],
   "source": [
    "G.test(DTE,LTE, [0.6, 5, 1])\n"
   ]
  },
  {
   "cell_type": "code",
   "execution_count": 31,
   "metadata": {},
   "outputs": [
    {
     "name": "stdout",
     "output_type": "stream",
     "text": [
      "\\-/ \\-/ \\-/ \\-/ \\-/ \n",
      "Gaussian Classifier error: 0.04534766543500168\n",
      "[0.5, 5, 1] DCF: 0.5843146490814884 minDCF: 0.4028194603324137\n",
      "CM [[2597.   30.]\n",
      " [ 105.  245.]]\n",
      "/-\\ /-\\ /-\\ /-\\ /-\\ \n"
     ]
    }
   ],
   "source": [
    "G.test(DTE,LTE, [1/2,5,1])"
   ]
  },
  {
   "cell_type": "code",
   "execution_count": 32,
   "metadata": {},
   "outputs": [
    {
     "name": "stdout",
     "output_type": "stream",
     "text": [
      "\\-/ \\-/ \\-/ \\-/ \\-/ \n",
      "Gaussian Classifier error: 0.04635539133355726\n",
      "[0.5, 8, 1] DCF: 0.8265352264315995 minDCF: 0.610092187605141\n",
      "CM [[2591.   27.]\n",
      " [ 111.  248.]]\n",
      "/-\\ /-\\ /-\\ /-\\ /-\\ \n"
     ]
    }
   ],
   "source": [
    "G.test(DTE,LTE, [1/2,8,1])\n"
   ]
  },
  {
   "cell_type": "code",
   "execution_count": 33,
   "metadata": {},
   "outputs": [
    {
     "name": "stdout",
     "output_type": "stream",
     "text": [
      "\\-/ \\-/ \\-/ \\-/ \\-/ \n",
      "Gaussian Classifier error: 0.04366812227074235\n",
      "[0.4, 5, 1] DCF: 0.43589933382679497 minDCF: 0.28766794518089855\n",
      "CM [[2605.   33.]\n",
      " [  97.  242.]]\n",
      "/-\\ /-\\ /-\\ /-\\ /-\\ \n",
      "\\-/ \\-/ \\-/ \\-/ \\-/ \n",
      "Gaussian Classifier error: 0.045683574067853505\n",
      "[0.4, 8, 1] DCF: 0.6210483816701433 minDCF: 0.42584976336271674\n",
      "CM [[2596.   30.]\n",
      " [ 106.  245.]]\n",
      "/-\\ /-\\ /-\\ /-\\ /-\\ \n"
     ]
    }
   ],
   "source": [
    "G.test(DTE,LTE, [0.4,5,1])\n",
    "G.test(DTE,LTE, [0.4,8,1])\n",
    "\n"
   ]
  },
  {
   "cell_type": "code",
   "execution_count": 34,
   "metadata": {},
   "outputs": [
    {
     "name": "stdout",
     "output_type": "stream",
     "text": [
      "\\-/ \\-/ \\-/ \\-/ \\-/ \n",
      "Gaussian Classifier error: 0.03325495465233452\n",
      "[0.1, 1, 1] DCF: 0.34258663616176577 minDCF: 0.28024628221519415\n",
      "CM [[2645.   42.]\n",
      " [  57.  233.]]\n",
      "/-\\ /-\\ /-\\ /-\\ /-\\ \n",
      "\\-/ \\-/ \\-/ \\-/ \\-/ \n",
      "Gaussian Classifier error: 0.04702720859926102\n",
      "[0.9, 1, 1] DCF: 0.9254572370634548 minDCF: 0.6584025301123747\n",
      "CM [[2589.   27.]\n",
      " [ 113.  248.]]\n",
      "/-\\ /-\\ /-\\ /-\\ /-\\ \n"
     ]
    }
   ],
   "source": [
    "G.test(DTE,LTE, [0.1,1,1])\n",
    "G.test(DTE,LTE, [0.9,1,1])\n"
   ]
  },
  {
   "cell_type": "code",
   "execution_count": 12,
   "metadata": {},
   "outputs": [
    {
     "data": {
      "image/png": "[encoded data removed]",
      "text/plain": [
       "<Figure size 432x288 with 1 Axes>"
      ]
     },
     "metadata": {
      "needs_background": "light"
     },
     "output_type": "display_data"
    },
    {
     "name": "stdout",
     "output_type": "stream",
     "text": [
      "\\-/ \\-/ \\-/ \\-/ \\-/ \n",
      "Gaussian Classifier error: 0.04534766543500168\n",
      "[0.5, 5, 1] DCF: 0.5843146490814884 minDCF: 0.4028194603324137\n",
      "CM\n",
      " [[2597.   30.]\n",
      " [ 105.  245.]]\n",
      "/-\\ /-\\ /-\\ /-\\ /-\\ \n"
     ]
    }
   ],
   "source": [
    "G.test(DTE,LTE, [0.5,5,1], True)\n"
   ]
  },
  {
   "cell_type": "code",
   "execution_count": 36,
   "metadata": {},
   "outputs": [
    {
     "name": "stdout",
     "output_type": "stream",
     "text": [
      "\\-/ \\-/ \\-/ \\-/ \\-/ \n",
      "Gaussian Classifier error: 0.0329190460194827\n",
      "[0.2, 1, 5] DCF: 0.5559383621559787 minDCF: 0.32466994145750616\n",
      "CM [[2649.   45.]\n",
      " [  53.  230.]]\n",
      "/-\\ /-\\ /-\\ /-\\ /-\\ \n"
     ]
    }
   ],
   "source": [
    "G.test(DTE,LTE, [0.2,1,5])\n"
   ]
  },
  {
   "cell_type": "code",
   "execution_count": 37,
   "metadata": {},
   "outputs": [
    {
     "name": "stdout",
     "output_type": "stream",
     "text": [
      "\\-/ \\-/ \\-/ \\-/ \\-/ \n",
      "Gaussian Classifier error: 0.05005038629492775\n",
      "[0.7, 5, 1] DCF: 1.148552138707579 minDCF: 0.7262813179911625\n",
      "CM [[2579.   26.]\n",
      " [ 123.  249.]]\n",
      "/-\\ /-\\ /-\\ /-\\ /-\\ \n"
     ]
    }
   ],
   "source": [
    "G.test(DTE,LTE, [0.7,5,1])\n"
   ]
  },
  {
   "cell_type": "code",
   "execution_count": 9,
   "metadata": {
    "scrolled": true
   },
   "outputs": [
    {
     "name": "stdout",
     "output_type": "stream",
     "text": [
      "\\-/ \\-/ \\-/ \\-/ \\-/ \n",
      "Gaussian Classifier error: 0.09035942223715154\n",
      "[0.9, 10, 1] DCF: 5.983803243388737 minDCF: 0.9130273871206513\n",
      "CM\n",
      " [[2451.   18.]\n",
      " [ 251.  257.]]\n",
      "/-\\ /-\\ /-\\ /-\\ /-\\ \n"
     ]
    }
   ],
   "source": [
    "G.test(DTE,LTE, [0.9,10,1])\n"
   ]
  },
  {
   "cell_type": "code",
   "execution_count": 10,
   "metadata": {},
   "outputs": [
    {
     "name": "stdout",
     "output_type": "stream",
     "text": [
      "\\-/ \\-/ \\-/ \\-/ \\-/ \n",
      "Gaussian Classifier error: 0.06953308700033589\n",
      "[0.9, 5, 1] DCF: 3.1786689993943886 minDCF: 0.9130273871206513\n",
      "CM\n",
      " [[2514.   19.]\n",
      " [ 188.  256.]]\n",
      "/-\\ /-\\ /-\\ /-\\ /-\\ \n"
     ]
    }
   ],
   "source": [
    "G.test(DTE,LTE, [0.9,5,1])\n"
   ]
  },
  {
   "cell_type": "code",
   "execution_count": 11,
   "metadata": {},
   "outputs": [
    {
     "name": "stdout",
     "output_type": "stream",
     "text": [
      "\\-/ \\-/ \\-/ \\-/ \\-/ \n",
      "Gaussian Classifier error: 0.05844810211622442\n",
      "[0.9, 3, 1] DCF: 2.020631182289214 minDCF: 0.9130273871206513\n",
      "CM\n",
      " [[2548.   20.]\n",
      " [ 154.  255.]]\n",
      "/-\\ /-\\ /-\\ /-\\ /-\\ \n"
     ]
    }
   ],
   "source": [
    "G.test(DTE,LTE, [0.9,3,1])\n"
   ]
  },
  {
   "cell_type": "code",
   "execution_count": 12,
   "metadata": {},
   "outputs": [
    {
     "name": "stdout",
     "output_type": "stream",
     "text": [
      "\\-/ \\-/ \\-/ \\-/ \\-/ \n",
      "Gaussian Classifier error: 0.05374538125629824\n",
      "[0.8, 5, 1] DCF: 1.651073279052554 minDCF: 0.9086064194872486\n",
      "CM\n",
      " [[2564.   22.]\n",
      " [ 138.  253.]]\n",
      "/-\\ /-\\ /-\\ /-\\ /-\\ \n"
     ]
    }
   ],
   "source": [
    "G.test(DTE,LTE, [0.8,5,1])\n"
   ]
  },
  {
   "cell_type": "code",
   "execution_count": null,
   "metadata": {},
   "outputs": [],
   "source": []
  }
 ],
 "metadata": {
  "kernelspec": {
   "display_name": "Python 3",
   "language": "python",
   "name": "python3"
  },
  "language_info": {
   "codemirror_mode": {
    "name": "ipython",
    "version": 3
   },
   "file_extension": ".py",
   "mimetype": "text/x-python",
   "name": "python",
   "nbconvert_exporter": "python",
   "pygments_lexer": "ipython3",
   "version": "3.8.5"
  }
 },
 "nbformat": 4,
 "nbformat_minor": 5
}
