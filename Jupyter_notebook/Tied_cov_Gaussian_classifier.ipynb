{
 "cells": [
  {
   "cell_type": "code",
   "execution_count": 20,
   "metadata": {},
   "outputs": [],
   "source": [
    "import numpy as np\n",
    "import scipy\n",
    "import numpy \n",
    "import matplotlib.pyplot as plt\n",
    "from scipy import linalg, special, stats\n",
    "from numpy import genfromtxt\n",
    "import ML_support as ml"
   ]
  },
  {
   "cell_type": "code",
   "execution_count": 21,
   "metadata": {},
   "outputs": [],
   "source": [
    "class TiedCovClassifier:\n",
    "    def __init__(self):\n",
    "        self.mu = {}\n",
    "\n",
    "    def train(self, DTR, LTR):\n",
    "        self.mu, C = ml.MU_Cov_calculator(DTR, LTR)\n",
    "        N = DTR.shape[1]\n",
    "        self.C_ = numpy.zeros((DTR.shape[0], DTR.shape[0]))\n",
    "        for i in numpy.unique(LTR):\n",
    "            Nc = DTR[:, LTR == i].shape[1]\n",
    "            self.C_ += Nc*C[i]\n",
    "        self.C_ /= N\n",
    "\n",
    "\n",
    "    def test(self, DTE, LTE):\n",
    "        S = numpy.zeros((numpy.unique(LTE).size, DTE.shape[1]))\n",
    "        predicted = []\n",
    "\n",
    "        for i in numpy.unique(LTE):\n",
    "            S[i, :] = ml.GAU_logpdf_ND(DTE, self.mu[i], self.C_) + numpy.log(1 / 2)\n",
    "\n",
    "        Sp = scipy.special.logsumexp(S, axis=0)\n",
    "\n",
    "        for x, p in zip(S.T, Sp):\n",
    "            tmp = x - p\n",
    "            predicted.append(numpy.argmax(tmp))\n",
    "\n",
    "        predicted = numpy.array(predicted)\n",
    "\n",
    "        True_prediction = numpy.array([predicted == LTE])\n",
    "\n",
    "        error = 1 - (numpy.count_nonzero(True_prediction) / True_prediction.size)\n",
    "\n",
    "        print(\"TiedCovClassifier error:\", error)\n",
    "        \n",
    "        return error"
   ]
  },
  {
   "cell_type": "code",
   "execution_count": 22,
   "metadata": {},
   "outputs": [],
   "source": [
    "Data, label = ml.loadFile('../Train.txt')\n",
    "(DTR, LTR), (DTE,LTE) = ml.split_db_2to1(Data, label, seed=42)"
   ]
  },
  {
   "cell_type": "code",
   "execution_count": 4,
   "metadata": {},
   "outputs": [
    {
     "name": "stdout",
     "output_type": "stream",
     "text": [
      "TiedCovClassifier error: 0.023849512932482386\n"
     ]
    }
   ],
   "source": [
    "G=TiedCovClassifier()\n",
    "G.train(DTR,LTR)\n",
    "G.test(DTE,LTE)"
   ]
  },
  {
   "cell_type": "code",
   "execution_count": 5,
   "metadata": {},
   "outputs": [
    {
     "name": "stdout",
     "output_type": "stream",
     "text": [
      "TiedCovClassifier error: 0.9287873698354048\n",
      "TiedCovClassifier error: 0.023513604299630453\n"
     ]
    }
   ],
   "source": [
    "Gn=TiedCovClassifier()\n",
    "Gn.train(ml.z_normalization(DTR), LTR)\n",
    "Gn.test(DTE, LTE)\n",
    "Gn.test(ml.z_normalization(DTE), LTE)"
   ]
  },
  {
   "cell_type": "code",
   "execution_count": 6,
   "metadata": {},
   "outputs": [
    {
     "name": "stdout",
     "output_type": "stream",
     "text": [
      "TiedCovClassifier error: 0.9076251259657373\n",
      "TiedCovClassifier error: 0.060127645280483755\n"
     ]
    }
   ],
   "source": [
    "GG=TiedCovClassifier()\n",
    "GG.train(ml.gaussianize(DTR), LTR)\n",
    "GG.test(DTE, LTE)\n",
    "GG.test(ml.gaussianize(DTE), LTE)"
   ]
  },
  {
   "cell_type": "code",
   "execution_count": 23,
   "metadata": {},
   "outputs": [],
   "source": [
    "class TiedCovClassifier_mod1:\n",
    "    def __init__(self):\n",
    "        self.mu = {}\n",
    "\n",
    "    def train(self, DTR, LTR):\n",
    "        self.mu, C = ml.MU_Cov_calculator(DTR, LTR)\n",
    "        N = DTR.shape[1]\n",
    "        self.C_ = numpy.zeros((DTR.shape[0], DTR.shape[0]))\n",
    "        for i in numpy.unique(LTR):\n",
    "            Nc = DTR[:, LTR == i].shape[1]\n",
    "            self.C_ += Nc*C[i]\n",
    "        self.C_ /= N\n",
    "\n",
    "\n",
    "    def test(self, DTE, LTE, app, ROC=False):\n",
    "        S = numpy.zeros((numpy.unique(LTE).size, DTE.shape[1]))\n",
    "        ll = numpy.zeros((numpy.unique(LTE).size, DTE.shape[1]))\n",
    "        predicted = []\n",
    "\n",
    "        for i in numpy.unique(LTE):\n",
    "            ll[i, :] = ml.GAU_logpdf_ND(DTE, self.mu[i], self.C_)\n",
    "\n",
    "        llr = numpy.array(ll[1, :]-ll[0, :])\n",
    "        \n",
    "        CM = ml.compute_optimal_B_decision(app, llr, LTE)\n",
    "        sensitivity = (1-ml.compute_FNR(CM)) # TPR\n",
    "        specificity = (1-ml.compute_FPR(CM)) # TNR\n",
    "        \n",
    "        app_bayes_risk=ml.compute_Bayes_risk(CM, app)\n",
    "        DCF = ml.compute_norm_Bayes(app_bayes_risk, app)\n",
    "        \n",
    "        minDCF= ml.compute_min_DCF(llr, app, LTE)\n",
    "        error = 1-(CM[0, 0]+CM[1,1])/(len(LTE))\n",
    "        if(ROC == True):\n",
    "            ml.plot_ROC(app, llr, LTE)\n",
    "        \n",
    "        print(\"\\-/ \\-/ \\-/ \\-/ \\-/ \")\n",
    "        print(\"Gaussian Classifier error:\", error)\n",
    "        print(app,\"DCF:\", DCF, \"minDCF:\", minDCF)\n",
    "        print('Sensitivity (TPR):', sensitivity, ' Specificity (TNR): ', specificity)\n",
    "        print('CM\\n', CM)\n",
    "        print(\"/-\\ /-\\ /-\\ /-\\ /-\\ \")"
   ]
  },
  {
   "cell_type": "code",
   "execution_count": 24,
   "metadata": {},
   "outputs": [
    {
     "name": "stdout",
     "output_type": "stream",
     "text": [
      "\\-/ \\-/ \\-/ \\-/ \\-/ \n",
      "Gaussian Classifier error: 0.023849512932482386\n",
      "[0.5, 1, 1] DCF: 0.1993890047776058 minDCF: 0.10910840454881907\n",
      "Sensitivity (TPR): 0.8072727272727273  Specificity (TNR):  0.993338267949667\n",
      "CM\n",
      " [[2684.   53.]\n",
      " [  18.  222.]]\n",
      "/-\\ /-\\ /-\\ /-\\ /-\\ \n"
     ]
    }
   ],
   "source": [
    "G=TiedCovClassifier_mod1()\n",
    "G.train(DTR,LTR)\n",
    "G.test(DTE,LTE, [1/2,1,1])"
   ]
  },
  {
   "cell_type": "code",
   "execution_count": 25,
   "metadata": {},
   "outputs": [
    {
     "name": "stdout",
     "output_type": "stream",
     "text": [
      "\\-/ \\-/ \\-/ \\-/ \\-/ \n",
      "Gaussian Classifier error: 0.02687269062814912\n",
      "[0.1, 1, 1] DCF: 0.2866321243523316 minDCF: 0.2426606554067694\n",
      "Sensitivity (TPR): 0.76  Specificity (TNR):  0.9948186528497409\n",
      "CM\n",
      " [[2688.   66.]\n",
      " [  14.  209.]]\n",
      "/-\\ /-\\ /-\\ /-\\ /-\\ \n"
     ]
    }
   ],
   "source": [
    "G.test(DTE,LTE, [0.1,1,1])"
   ]
  },
  {
   "cell_type": "code",
   "execution_count": 26,
   "metadata": {},
   "outputs": [
    {
     "name": "stdout",
     "output_type": "stream",
     "text": [
      "\\-/ \\-/ \\-/ \\-/ \\-/ \n",
      "Gaussian Classifier error: 0.023513604299630453\n",
      "[0.9, 1, 1] DCF: 1.51433685485499 minDCF: 0.5207792207792208\n",
      "Sensitivity (TPR): 0.8327272727272728  Specificity (TNR):  0.9911176905995559\n",
      "CM\n",
      " [[2678.   46.]\n",
      " [  24.  229.]]\n",
      "/-\\ /-\\ /-\\ /-\\ /-\\ \n"
     ]
    }
   ],
   "source": [
    "G.test(DTE,LTE, [0.9,1,1])"
   ]
  },
  {
   "cell_type": "code",
   "execution_count": 10,
   "metadata": {},
   "outputs": [],
   "source": [
    "class TiedCovClassifier_mod2:\n",
    "    def __init__(self):\n",
    "        self.mu = {}\n",
    "\n",
    "    def train(self, DTR, LTR):\n",
    "        self.mu, C = ml.MU_Cov_calculator(DTR, LTR)\n",
    "        N = DTR.shape[1]\n",
    "        self.C_ = numpy.zeros((DTR.shape[0], DTR.shape[0]))\n",
    "        for i in numpy.unique(LTR):\n",
    "            Nc = DTR[:, LTR == i].shape[1]\n",
    "            self.C_ += Nc*C[i]\n",
    "        self.C_ /= N\n",
    "\n",
    "\n",
    "    def test(self, DTE, LTE):\n",
    "        S = numpy.zeros((numpy.unique(LTE).size, DTE.shape[1]))\n",
    "        ll = numpy.zeros((numpy.unique(LTE).size, DTE.shape[1]))\n",
    "        predicted = []\n",
    "\n",
    "        for i in numpy.unique(LTE):\n",
    "            ll[i, :] = ml.GAU_logpdf_ND(DTE, self.mu[i], self.C_)\n",
    "\n",
    "        return list(ll[1, :]-ll[0, :])\n",
    "        "
   ]
  },
  {
   "cell_type": "code",
   "execution_count": 7,
   "metadata": {},
   "outputs": [],
   "source": [
    "def kfold(classifier, D, L, fold, app):\n",
    "    error = 0\n",
    "    N = int(D.shape[1]/fold) #numero di elementi per ogni fold\n",
    "    numpy.random.seed(0) #imposto il seed del generatore di numeri casuali -> in tal modo genererò la stessa sequenza di numeri casuali aventi seed uguale\n",
    "    indexes = numpy.random.permutation(D.shape[1]) #genero una sequenza di numeri casuali che vanno da 0 al num_di_campioni\n",
    "    \n",
    "    LTE_final = []\n",
    "    llr_final = []\n",
    "    for j in range(fold):\n",
    "        test_indexes = indexes[(j*N):((j+1)*N)] #selezioni gli indici che identificano i campioni (casuali) del test set\n",
    "        if(j > 0): #se il test set non è preso dalla prima fold (--> il test set è una fold intermedia o l'ultima fold)\n",
    "            left_indexes = indexes[0:(j*N)] #allora prendo tutti gli indici che stanno a sinistra di tale fold\n",
    "        else: #se il test set è preso dalla prima fold\n",
    "            right_indexes = indexes[((j+1)*N):] #prendo tutti gli indici a destra della prima fold\n",
    "\n",
    "        if(j == 0): #se il test set è preso dalla prima fold\n",
    "            train_indexes = right_indexes #assegno agli indici di training quelli che stanno a destra della prima fold\n",
    "        elif(j == fold-1): #se il test set è preso dall'ultima fold\n",
    "            train_indexes = left_indexes #assegno agli indici di training quelli che stanno a sinistra dell'ultima fold\n",
    "        else: #in questo caso il test set è preso da una fold intermedia\n",
    "            train_indexes = numpy.hstack((left_indexes, right_indexes)) #pertanto assegno agli indici di training quelli appartenenti alle fold di sinistra e di destra\n",
    "\n",
    "        DTR = D[:, train_indexes]  #definisco insieme di training e di testing\n",
    "        LTR = L[train_indexes]\n",
    "        DTE = D[:, test_indexes]\n",
    "        LTE = L[test_indexes]\n",
    "        LTE_final.extend(LTE)\n",
    "        classifier.train(DTR, LTR)\n",
    "        llr_final.extend(classifier.test(DTE, LTE))\n",
    "        \n",
    "    CM = ml.compute_optimal_B_decision(app, llr_final, LTE_final)\n",
    "    sensitivity = (1-ml.compute_FNR(CM)) # TPR\n",
    "    specificity = (1-ml.compute_FPR(CM)) # TNR\n",
    "        \n",
    "    app_bayes_risk=ml.compute_Bayes_risk(CM, app)\n",
    "    DCF = ml.compute_norm_Bayes(app_bayes_risk, app)\n",
    "\n",
    "    minDCF= ml.compute_min_DCF(llr_final, app, LTE_final)\n",
    "    error = 1-(CM[0, 0]+CM[1,1])/(len(LTE_final))\n",
    "\n",
    "    print(\"\\-/ \\-/ \\-/ \\-/ \\-/ \")\n",
    "    print(\"Gaussian Classifier error:\", error)\n",
    "    print(app,\"DCF:\", DCF, \"minDCF:\", minDCF)\n",
    "    print('Sensitivity (TPR):', sensitivity, ' Specificity (TNR): ', specificity)\n",
    "    print('CM\\n', CM)\n",
    "    print(\"/-\\ /-\\ /-\\ /-\\ /-\\ \")"
   ]
  },
  {
   "cell_type": "code",
   "execution_count": 12,
   "metadata": {
    "scrolled": false
   },
   "outputs": [
    {
     "name": "stdout",
     "output_type": "stream",
     "text": [
      "\\-/ \\-/ \\-/ \\-/ \\-/ \n",
      "Gaussian Classifier error: 0.022184873949579798\n",
      "[0.5, 1, 1] DCF: 0.190816282360976 minDCF: 0.11277915118081265\n",
      "Sensitivity (TPR): 0.8148599269183923  Specificity (TNR):  0.9943237907206318\n",
      "CM\n",
      " [[8058.  152.]\n",
      " [  46.  669.]]\n",
      "/-\\ /-\\ /-\\ /-\\ /-\\ \n"
     ]
    }
   ],
   "source": [
    "kg=TiedCovClassifier_mod2()\n",
    "kfold(kg, Data, label, 5, [0.5, 1, 1])"
   ]
  },
  {
   "cell_type": "code",
   "execution_count": 13,
   "metadata": {},
   "outputs": [
    {
     "name": "stdout",
     "output_type": "stream",
     "text": [
      "\\-/ \\-/ \\-/ \\-/ \\-/ \n",
      "Gaussian Classifier error: 0.021624649859943945\n",
      "[0.9, 1, 1] DCF: 1.432865290805401 minDCF: 0.5684220240406989\n",
      "Sensitivity (TPR): 0.8416565164433618  Specificity (TNR):  0.9922260612043435\n",
      "CM\n",
      " [[8041.  130.]\n",
      " [  63.  691.]]\n",
      "/-\\ /-\\ /-\\ /-\\ /-\\ \n"
     ]
    }
   ],
   "source": [
    "kfold(kg, Data, label, 5, [0.9, 1, 1])"
   ]
  },
  {
   "cell_type": "code",
   "execution_count": 14,
   "metadata": {},
   "outputs": [
    {
     "name": "stdout",
     "output_type": "stream",
     "text": [
      "\\-/ \\-/ \\-/ \\-/ \\-/ \n",
      "Gaussian Classifier error: 0.021624649859943945\n",
      "[0.5, 10, 1] DCF: 1.5670950301380469 minDCF: 0.5940855059620789\n",
      "Sensitivity (TPR): 0.8440925700365408  Specificity (TNR):  0.9919792694965449\n",
      "CM\n",
      " [[8039.  128.]\n",
      " [  65.  693.]]\n",
      "/-\\ /-\\ /-\\ /-\\ /-\\ \n"
     ]
    }
   ],
   "source": [
    "kfold(kg, Data, label, 5, [0.5, 10, 1])"
   ]
  },
  {
   "cell_type": "code",
   "execution_count": 15,
   "metadata": {},
   "outputs": [
    {
     "name": "stdout",
     "output_type": "stream",
     "text": [
      "\\-/ \\-/ \\-/ \\-/ \\-/ \n",
      "Gaussian Classifier error: 0.023081232492997206\n",
      "[0.9, 10, 1] DCF: 11.19431916149737 minDCF: 0.8962709803011519\n",
      "Sensitivity (TPR): 0.8757612667478685  Specificity (TNR):  0.9871668311944719\n",
      "CM\n",
      " [[8000.  102.]\n",
      " [ 104.  719.]]\n",
      "/-\\ /-\\ /-\\ /-\\ /-\\ \n"
     ]
    }
   ],
   "source": [
    "kfold(kg, Data, label, 5, [0.9, 10, 1])"
   ]
  },
  {
   "cell_type": "code",
   "execution_count": 16,
   "metadata": {},
   "outputs": [
    {
     "name": "stdout",
     "output_type": "stream",
     "text": [
      "\\-/ \\-/ \\-/ \\-/ \\-/ \n",
      "Gaussian Classifier error: 0.022296918767507057\n",
      "[0.9, 1, 10] DCF: 0.19266499907749535 minDCF: 0.11532971626000978\n",
      "Sensitivity (TPR): 0.8136419001218027  Specificity (TNR):  0.9943237907206318\n",
      "CM\n",
      " [[8058.  153.]\n",
      " [  46.  668.]]\n",
      "/-\\ /-\\ /-\\ /-\\ /-\\ \n"
     ]
    }
   ],
   "source": [
    "kfold(kg, Data, label, 5, [0.9, 1, 10])"
   ]
  },
  {
   "cell_type": "code",
   "execution_count": 17,
   "metadata": {},
   "outputs": [
    {
     "name": "stdout",
     "output_type": "stream",
     "text": [
      "\\-/ \\-/ \\-/ \\-/ \\-/ \n",
      "Gaussian Classifier error: 0.025322128851540615\n",
      "[0.5, 1, 10] DCF: 0.2758157352709538 minDCF: 0.23005646449986955\n",
      "Sensitivity (TPR): 0.7661388550548112  Specificity (TNR):  0.9958045409674235\n",
      "CM\n",
      " [[8070.  192.]\n",
      " [  34.  629.]]\n",
      "/-\\ /-\\ /-\\ /-\\ /-\\ \n"
     ]
    }
   ],
   "source": [
    "kfold(kg, Data, label, 5, [0.5, 1, 10])"
   ]
  },
  {
   "cell_type": "code",
   "execution_count": 18,
   "metadata": {},
   "outputs": [
    {
     "name": "stdout",
     "output_type": "stream",
     "text": [
      "\\-/ \\-/ \\-/ \\-/ \\-/ \n",
      "Gaussian Classifier error: 0.021736694677871093\n",
      "[0.7, 1, 1] DCF: 0.41270812967756954 minDCF: 0.21223550802619137\n",
      "Sensitivity (TPR): 0.8258221680876979  Specificity (TNR):  0.9937068114511353\n",
      "CM\n",
      " [[8053.  143.]\n",
      " [  51.  678.]]\n",
      "/-\\ /-\\ /-\\ /-\\ /-\\ \n"
     ]
    }
   ],
   "source": [
    "kfold(kg, Data, label, 5, [0.7, 1, 1])"
   ]
  },
  {
   "cell_type": "code",
   "execution_count": 19,
   "metadata": {},
   "outputs": [
    {
     "name": "stdout",
     "output_type": "stream",
     "text": [
      "\\-/ \\-/ \\-/ \\-/ \\-/ \n",
      "Gaussian Classifier error: 0.02140056022408965\n",
      "[0.7, 5, 1] DCF: 1.7985201214900564 minDCF: 0.6326563545207471\n",
      "Sensitivity (TPR): 0.8465286236297198  Specificity (TNR):  0.9919792694965449\n",
      "CM\n",
      " [[8039.  126.]\n",
      " [  65.  695.]]\n",
      "/-\\ /-\\ /-\\ /-\\ /-\\ \n"
     ]
    }
   ],
   "source": [
    "kfold(kg, Data, label, 5, [0.7, 5, 1])"
   ]
  },
  {
   "cell_type": "code",
   "execution_count": null,
   "metadata": {},
   "outputs": [],
   "source": []
  }
 ],
 "metadata": {
  "kernelspec": {
   "display_name": "Python 3",
   "language": "python",
   "name": "python3"
  },
  "language_info": {
   "codemirror_mode": {
    "name": "ipython",
    "version": 3
   },
   "file_extension": ".py",
   "mimetype": "text/x-python",
   "name": "python",
   "nbconvert_exporter": "python",
   "pygments_lexer": "ipython3",
   "version": "3.8.5"
  }
 },
 "nbformat": 4,
 "nbformat_minor": 5
}
