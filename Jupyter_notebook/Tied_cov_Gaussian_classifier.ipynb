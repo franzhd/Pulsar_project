{
 "cells": [
  {
   "cell_type": "code",
   "execution_count": 1,
   "metadata": {},
   "outputs": [],
   "source": [
    "import numpy as np\n",
    "import scipy\n",
    "import numpy \n",
    "import matplotlib.pyplot as plt\n",
    "from scipy import linalg, special, stats\n",
    "from numpy import genfromtxt\n",
    "import ML_support as ml"
   ]
  },
  {
   "cell_type": "code",
   "execution_count": 2,
   "metadata": {},
   "outputs": [],
   "source": [
    "class TiedCovClassifier:\n",
    "    def __init__(self):\n",
    "        self.mu = {}\n",
    "\n",
    "    def train(self, DTR, LTR):\n",
    "        self.mu, C = ml.MU_Cov_calculator(DTR, LTR)\n",
    "        N = DTR.shape[1]\n",
    "        self.C_ = numpy.zeros((DTR.shape[0], DTR.shape[0]))\n",
    "        for i in numpy.unique(LTR):\n",
    "            Nc = DTR[:, LTR == i].shape[1]\n",
    "            self.C_ += Nc*C[i]\n",
    "        self.C_ /= N\n",
    "\n",
    "\n",
    "    def test(self, DTE, LTE):\n",
    "        S = numpy.zeros((numpy.unique(LTE).size, DTE.shape[1]))\n",
    "        predicted = []\n",
    "\n",
    "        for i in numpy.unique(LTE):\n",
    "            S[i, :] = ml.GAU_logpdf_ND(DTE, self.mu[i], self.C_) + numpy.log(1 / 2)\n",
    "\n",
    "        Sp = scipy.special.logsumexp(S, axis=0)\n",
    "\n",
    "        for x, p in zip(S.T, Sp):\n",
    "            tmp = x - p\n",
    "            predicted.append(numpy.argmax(tmp))\n",
    "\n",
    "        predicted = numpy.array(predicted)\n",
    "\n",
    "        True_prediction = numpy.array([predicted == LTE])\n",
    "\n",
    "        error = 1 - (numpy.count_nonzero(True_prediction) / True_prediction.size)\n",
    "\n",
    "        print(\"TiedCovClassifier error:\", error)\n",
    "        \n",
    "        return error"
   ]
  },
  {
   "cell_type": "code",
   "execution_count": 3,
   "metadata": {},
   "outputs": [],
   "source": [
    "Data, label = ml.loadFile('../Train.txt')\n",
    "(DTR, LTR), (DTE,LTE) = ml.split_db_2to1(Data, label, seed=42)"
   ]
  },
  {
   "cell_type": "code",
   "execution_count": 4,
   "metadata": {},
   "outputs": [
    {
     "name": "stdout",
     "output_type": "stream",
     "text": [
      "TiedCovClassifier error: 0.023849512932482386\n"
     ]
    }
   ],
   "source": [
    "G=TiedCovClassifier()\n",
    "G.train(DTR,LTR)\n",
    "G.test(DTE,LTE)"
   ]
  },
  {
   "cell_type": "code",
   "execution_count": 5,
   "metadata": {},
   "outputs": [
    {
     "name": "stdout",
     "output_type": "stream",
     "text": [
      "TiedCovClassifier error: 0.9287873698354048\n",
      "TiedCovClassifier error: 0.023513604299630453\n"
     ]
    }
   ],
   "source": [
    "Gn=TiedCovClassifier()\n",
    "Gn.train(ml.z_normalization(DTR), LTR)\n",
    "Gn.test(DTE, LTE)\n",
    "Gn.test(ml.z_normalization(DTE), LTE)"
   ]
  },
  {
   "cell_type": "code",
   "execution_count": 6,
   "metadata": {},
   "outputs": [
    {
     "name": "stdout",
     "output_type": "stream",
     "text": [
      "TiedCovClassifier error: 0.9076251259657373\n",
      "TiedCovClassifier error: 0.060127645280483755\n"
     ]
    }
   ],
   "source": [
    "GG=TiedCovClassifier()\n",
    "GG.train(ml.gaussianize(DTR), LTR)\n",
    "GG.test(DTE, LTE)\n",
    "GG.test(ml.gaussianize(DTE), LTE)"
   ]
  },
  {
   "cell_type": "code",
   "execution_count": 14,
   "metadata": {},
   "outputs": [],
   "source": [
    "class TiedCovClassifier_mod1:\n",
    "    def __init__(self):\n",
    "        self.mu = {}\n",
    "\n",
    "    def train(self, DTR, LTR):\n",
    "        self.mu, C = ml.MU_Cov_calculator(DTR, LTR)\n",
    "        N = DTR.shape[1]\n",
    "        self.C_ = numpy.zeros((DTR.shape[0], DTR.shape[0]))\n",
    "        for i in numpy.unique(LTR):\n",
    "            Nc = DTR[:, LTR == i].shape[1]\n",
    "            self.C_ += Nc*C[i]\n",
    "        self.C_ /= N\n",
    "\n",
    "\n",
    "    def test(self, DTE, LTE, app, ROC=False):\n",
    "        S = numpy.zeros((numpy.unique(LTE).size, DTE.shape[1]))\n",
    "        ll = numpy.zeros((numpy.unique(LTE).size, DTE.shape[1]))\n",
    "        predicted = []\n",
    "\n",
    "        for i in numpy.unique(LTE):\n",
    "            ll[i, :] = ml.GAU_logpdf_ND(DTE, self.mu[i], self.C_)\n",
    "\n",
    "        llr = numpy.array(ll[1, :]-ll[0, :])\n",
    "        \n",
    "        CM = ml.compute_optimal_B_decision(app, llr, LTE)\n",
    "        \n",
    "        app_bayes_risk=ml.compute_Bayes_risk(CM, app)\n",
    "        DCF = ml.compute_norm_Bayes(app_bayes_risk, app)\n",
    "        \n",
    "        minDCF= ml.compute_min_DCF(llr, app, LTE)\n",
    "        error = 1-(CM[0, 0]+CM[1,1])/(len(LTE))\n",
    "        if(ROC == True):\n",
    "            ml.plot_ROC(app, llr, LTE)\n",
    "        \n",
    "        print(\"\\-/ \\-/ \\-/ \\-/ \\-/ \")\n",
    "        print(\"Gaussian Classifier error:\", error)\n",
    "        print(app,\"DCF:\", DCF, \"minDCF:\", minDCF)\n",
    "        print('CM\\n', CM)\n",
    "        print(\"/-\\ /-\\ /-\\ /-\\ /-\\ \")"
   ]
  },
  {
   "cell_type": "code",
   "execution_count": 8,
   "metadata": {},
   "outputs": [
    {
     "name": "stdout",
     "output_type": "stream",
     "text": [
      "\\-/ \\-/ \\-/ \\-/ \\-/ \n",
      "Gaussian Classifier error: 0.023849512932482386\n",
      "[0.5, 1, 1] DCF: 0.1993890047776058 minDCF: 0.10910840454881907\n",
      "/-\\ /-\\ /-\\ /-\\ /-\\ \n"
     ]
    }
   ],
   "source": [
    "G=TiedCovClassifier_mod1()\n",
    "G.train(DTR,LTR)\n",
    "G.test(DTE,LTE, [1/2,1,1])"
   ]
  },
  {
   "cell_type": "code",
   "execution_count": 10,
   "metadata": {},
   "outputs": [
    {
     "name": "stdout",
     "output_type": "stream",
     "text": [
      "\\-/ \\-/ \\-/ \\-/ \\-/ \n",
      "Gaussian Classifier error: 0.023849512932482386\n",
      "[0.1, 1, 1] DCF: 0.2526828611802705 minDCF: 0.2426606554067694\n",
      "/-\\ /-\\ /-\\ /-\\ /-\\ \n"
     ]
    }
   ],
   "source": [
    "G.test(DTE,LTE, [0.1,1,1])"
   ]
  },
  {
   "cell_type": "code",
   "execution_count": 11,
   "metadata": {},
   "outputs": [
    {
     "name": "stdout",
     "output_type": "stream",
     "text": [
      "\\-/ \\-/ \\-/ \\-/ \\-/ \n",
      "Gaussian Classifier error: 0.023849512932482386\n",
      "[0.7, 1, 1] DCF: 0.45635870174730264 minDCF: 0.20784424556445277\n",
      "/-\\ /-\\ /-\\ /-\\ /-\\ \n"
     ]
    }
   ],
   "source": [
    "G.test(DTE,LTE, [0.7,1,1])"
   ]
  },
  {
   "cell_type": "code",
   "execution_count": 13,
   "metadata": {},
   "outputs": [
    {
     "name": "stdout",
     "output_type": "stream",
     "text": [
      "\\-/ \\-/ \\-/ \\-/ \\-/ \n",
      "Gaussian Classifier error: 0.023849512932482386\n",
      "[0.6, 1, 1] DCF: 0.2957526411412421 minDCF: 0.15026848798869524\n",
      "/-\\ /-\\ /-\\ /-\\ /-\\ \n"
     ]
    }
   ],
   "source": [
    "G.test(DTE,LTE, [0.6,1,1])"
   ]
  },
  {
   "cell_type": "code",
   "execution_count": 24,
   "metadata": {},
   "outputs": [],
   "source": [
    "def kfold(classifier, D, L, fold, app= None):\n",
    "    error = 0\n",
    "    N = int(D.shape[1]/fold) #numero di elementi per ogni fold\n",
    "    numpy.random.seed(0) #imposto il seed del generatore di numeri casuali -> in tal modo genererò la stessa sequenza di numeri casuali aventi seed uguale\n",
    "    indexes = numpy.random.permutation(D.shape[1]) #genero una sequenza di numeri casuali che vanno da 0 al num_di_campioni\n",
    "    errors = []\n",
    "    DTR=[]\n",
    "    LTR=[]\n",
    "    DTE=[]\n",
    "    LTE=[]\n",
    "    for j in range(fold):\n",
    "        test_indexes = indexes[(j*N):((j+1)*N)] #selezioni gli indici che identificano i campioni (casuali) del test set\n",
    "        if(j > 0): #se il test set non è preso dalla prima fold (--> il test set è una fold intermedia o l'ultima fold)\n",
    "            left_indexes = indexes[0:(j*N)] #allora prendo tutti gli indici che stanno a sinistra di tale fold\n",
    "        else: #se il test set è preso dalla prima fold\n",
    "            right_indexes = indexes[((j+1)*N):] #prendo tutti gli indici a destra della prima fold\n",
    "\n",
    "        if(j == 0): #se il test set è preso dalla prima fold\n",
    "            train_indexes = right_indexes #assegno agli indici di training quelli che stanno a destra della prima fold\n",
    "        elif(j == fold-1): #se il test set è preso dall'ultima fold\n",
    "            train_indexes = left_indexes #assegno agli indici di training quelli che stanno a sinistra dell'ultima fold\n",
    "        else: #in questo caso il test set è preso da una fold intermedia\n",
    "            train_indexes = numpy.hstack((left_indexes, right_indexes)) #pertanto assegno agli indici di training quelli appartenenti alle fold di sinistra e di destra\n",
    "\n",
    "        DTR.append(D[:, train_indexes])  #definisco insieme di training e di testing\n",
    "        LTR.append(L[train_indexes])\n",
    "        DTE.append(D[:, test_indexes])\n",
    "        LTE.append(L[test_indexes])\n",
    "        classifier.train(DTR[j], LTR[j])\n",
    "        if(app != None):\n",
    "            classifier.test(DTE[j],LTE[j], app)\n",
    "        else:\n",
    "            pass\n",
    "    #    errors.append(classifier.test(DTE[j],LTE[j]))\n",
    "    #for j in range(fold):\n",
    "     #   print(\"error fold number\",j,\":\", errors[j])\n",
    "    #min = numpy.argmin(errors)\n",
    "    #return (DTR[min], LTR[min]), (DTE[min], LTE[min])\n",
    "    return (DTR, LTR), (DTE, LTE)"
   ]
  },
  {
   "cell_type": "code",
   "execution_count": 12,
   "metadata": {
    "scrolled": true
   },
   "outputs": [
    {
     "name": "stdout",
     "output_type": "stream",
     "text": [
      "TiedCovClassifier error: 0.024089635854341762\n",
      "TiedCovClassifier error: 0.020728291316526648\n",
      "TiedCovClassifier error: 0.0212885154061625\n",
      "TiedCovClassifier error: 0.0212885154061625\n",
      "TiedCovClassifier error: 0.02352941176470591\n"
     ]
    }
   ],
   "source": [
    "kg=TiedCovClassifier()\n",
    "(DTR, LTR), (DTE, LTE) = kfold(kg, Data, label, 5)"
   ]
  },
  {
   "cell_type": "code",
   "execution_count": 25,
   "metadata": {},
   "outputs": [
    {
     "name": "stdout",
     "output_type": "stream",
     "text": [
      "\\-/ \\-/ \\-/ \\-/ \\-/ \n",
      "Gaussian Classifier error: 0.024089635854341762\n",
      "[0.5, 1, 1] DCF: 0.19729833485292 minDCF: 0.12922884975286722\n",
      "CM\n",
      " [[1595.   35.]\n",
      " [   8.  147.]]\n",
      "/-\\ /-\\ /-\\ /-\\ /-\\ \n",
      "\\-/ \\-/ \\-/ \\-/ \\-/ \n",
      "Gaussian Classifier error: 0.020728291316526648\n",
      "[0.5, 1, 1] DCF: 0.1911006670709521 minDCF: 0.10028805336567617\n",
      "CM\n",
      " [[1637.   25.]\n",
      " [  12.  111.]]\n",
      "/-\\ /-\\ /-\\ /-\\ /-\\ \n",
      "\\-/ \\-/ \\-/ \\-/ \\-/ \n",
      "Gaussian Classifier error: 0.0212885154061625\n",
      "[0.5, 1, 1] DCF: 0.17900093562447228 minDCF: 0.12523675863170625\n",
      "CM\n",
      " [[1613.   28.]\n",
      " [  10.  134.]]\n",
      "/-\\ /-\\ /-\\ /-\\ /-\\ \n",
      "\\-/ \\-/ \\-/ \\-/ \\-/ \n",
      "Gaussian Classifier error: 0.0212885154061625\n",
      "[0.5, 1, 1] DCF: 0.20069502527701089 minDCF: 0.07138997653642036\n",
      "CM\n",
      " [[1613.   33.]\n",
      " [   5.  134.]]\n",
      "/-\\ /-\\ /-\\ /-\\ /-\\ \n",
      "\\-/ \\-/ \\-/ \\-/ \\-/ \n",
      "Gaussian Classifier error: 0.02352941176470591\n",
      "[0.5, 1, 1] DCF: 0.1849889766476166 minDCF: 0.10761146428647875\n",
      "CM\n",
      " [[1600.   31.]\n",
      " [  11.  143.]]\n",
      "/-\\ /-\\ /-\\ /-\\ /-\\ \n"
     ]
    }
   ],
   "source": [
    "kgg=TiedCovClassifier_mod1()\n",
    "(DTR, LTR), (DTE, LTE) = kfold(kgg, Data, label, 5, [1/2, 1,1])"
   ]
  },
  {
   "cell_type": "code",
   "execution_count": null,
   "metadata": {},
   "outputs": [],
   "source": []
  }
 ],
 "metadata": {
  "kernelspec": {
   "display_name": "Python 3",
   "language": "python",
   "name": "python3"
  },
  "language_info": {
   "codemirror_mode": {
    "name": "ipython",
    "version": 3
   },
   "file_extension": ".py",
   "mimetype": "text/x-python",
   "name": "python",
   "nbconvert_exporter": "python",
   "pygments_lexer": "ipython3",
   "version": "3.8.5"
  }
 },
 "nbformat": 4,
 "nbformat_minor": 5
}
