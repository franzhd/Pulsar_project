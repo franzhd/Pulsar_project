{
 "cells": [
  {
   "cell_type": "code",
   "execution_count": 1,
   "metadata": {},
   "outputs": [
    {
     "name": "stderr",
     "output_type": "stream",
     "text": [
      "\n",
      "Bad key \"text.kerning_factor\" on line 4 in\n",
      "/opt/anaconda3/envs/bigdatalab_cpu_202101/lib/python3.7/site-packages/matplotlib/mpl-data/stylelib/_classic_test_patch.mplstyle.\n",
      "You probably need to get an updated matplotlibrc file from\n",
      "https://github.com/matplotlib/matplotlib/blob/v3.1.2/matplotlibrc.template\n",
      "or from the matplotlib source distribution\n"
     ]
    }
   ],
   "source": [
    "import scipy\n",
    "import numpy \n",
    "import matplotlib.pyplot as plt\n",
    "from scipy import linalg, special, stats\n",
    "from numpy import genfromtxt\n",
    "import ML_support as ml\n",
    "from scipy.optimize import fmin_l_bfgs_b"
   ]
  },
  {
   "cell_type": "code",
   "execution_count": 2,
   "metadata": {},
   "outputs": [],
   "source": [
    "Data, labels = ml.loadFile('./Train.txt')"
   ]
  },
  {
   "cell_type": "code",
   "execution_count": 3,
   "metadata": {},
   "outputs": [],
   "source": [
    "data_g = ml.gaussianize(Data)\n",
    "data_z = ml.z_normalization(Data)"
   ]
  },
  {
   "cell_type": "code",
   "execution_count": 5,
   "metadata": {},
   "outputs": [],
   "source": [
    "def init_GMM(DTR, LTR, DTE = None, n_repetions, prior):\n",
    "    N = DTR.shape[1]\n",
    "    t = 1e-6\n",
    "    w = 1.0\n",
    "    alpha = 0.1\n",
    "    final_scores = {}\n",
    "    gmm = {}\n",
    "    \n",
    "    mu, C = ml.MU_Cov_calculator(DTR, LTR)\n",
    "    \n",
    "    for i in numpy.unique(LTR):\n",
    "        gmm[i] = [w, mu[i], C[i]]\n",
    "        GMM_final = {0 : gmm[i]}\n",
    "        \n",
    "        for j in range (n_repetions):\n",
    "            GMM_init = GMM_final.copy()\n",
    "            \n",
    "            for i, g in enumerate(GMM_init.values()):\n",
    "                w, mu, C = g\n",
    "                newW = w/2\n",
    "                U, s, Vh = numpy.linalg.svd(C)\n",
    "                d = U[:, 0:1]*s[0]**0.5*alpha\n",
    "                newMu1 = mu+d\n",
    "                newMu2 = mu-d\n",
    "                GMM_final[i*2] = [newW, newMu1, C]\n",
    "                GMM_final[i*2+1] = [newW, newMu2, C]\n",
    "                \n",
    "            GMM_final, opt_ll = ml.optimize_GMM(DTE, GMM_final)\n",
    "        final_scores[i] = opt_ll\n",
    "    \n",
    "    return list(final_scores[1]-final_scores[0])"
   ]
  },
  {
   "cell_type": "code",
   "execution_count": 99,
   "metadata": {},
   "outputs": [
    {
     "name": "stdout",
     "output_type": "stream",
     "text": [
      "[[1.0, array([[110.86274796],\n",
      "       [ 46.46524273],\n",
      "       [  0.4872975 ],\n",
      "       [  1.84146135],\n",
      "       [ 12.66631061],\n",
      "       [ 26.24642558],\n",
      "       [  8.33306583],\n",
      "       [105.41024504]]), array([[ 6.66336339e+02,  9.90419182e+01, -2.46369112e+01,\n",
      "        -1.22903841e+02, -2.32928346e+02, -1.62054057e+02,\n",
      "         2.81787813e+01,  4.09822277e+02],\n",
      "       [ 9.90419182e+01,  4.67249473e+01, -3.96934378e+00,\n",
      "        -2.38128978e+01, -2.38955918e+00, -8.23669357e+00,\n",
      "         1.21631590e+00,  2.37588198e+01],\n",
      "       [-2.46369112e+01, -3.96934378e+00,  1.18519822e+00,\n",
      "         6.57854948e+00,  1.35677300e+01,  9.50681067e+00,\n",
      "        -1.71873656e+00, -2.55160558e+01],\n",
      "       [-1.22903841e+02, -2.38128978e+01,  6.57854948e+00,\n",
      "         4.05904980e+01,  7.90729282e+01,  5.32686957e+01,\n",
      "        -9.69564905e+00, -1.42530180e+02],\n",
      "       [-2.32928346e+02, -2.38955918e+00,  1.35677300e+01,\n",
      "         7.90729282e+01,  8.75980277e+02,  4.59625448e+02,\n",
      "        -8.28243152e+01, -1.12386364e+03],\n",
      "       [-1.62054057e+02, -8.23669357e+00,  9.50681067e+00,\n",
      "         5.32686957e+01,  4.59625448e+02,  3.79980441e+02,\n",
      "        -7.13009822e+01, -1.19322698e+03],\n",
      "       [ 2.81787813e+01,  1.21631590e+00, -1.71873656e+00,\n",
      "        -9.69564905e+00, -8.28243152e+01, -7.13009822e+01,\n",
      "         2.01710052e+01,  4.33820092e+02],\n",
      "       [ 4.09822277e+02,  2.37588198e+01, -2.55160558e+01,\n",
      "        -1.42530180e+02, -1.12386364e+03, -1.19322698e+03,\n",
      "         4.33820092e+02,  1.08855697e+04]])], 1, 2, 3, 4, 5, 6, 7]\n"
     ]
    },
    {
     "ename": "TypeError",
     "evalue": "cannot unpack non-iterable int object",
     "output_type": "error",
     "traceback": [
      "\u001b[0;31m---------------------------------------------------------------------------\u001b[0m",
      "\u001b[0;31mTypeError\u001b[0m                                 Traceback (most recent call last)",
      "\u001b[0;32m<ipython-input-99-46aa268ee0c5>\u001b[0m in \u001b[0;36m<module>\u001b[0;34m\u001b[0m\n\u001b[1;32m      1\u001b[0m \u001b[0mg\u001b[0m \u001b[0;34m=\u001b[0m \u001b[0minit_GMM\u001b[0m\u001b[0;34m(\u001b[0m\u001b[0mData\u001b[0m\u001b[0;34m,\u001b[0m \u001b[0mlabels\u001b[0m\u001b[0;34m)\u001b[0m\u001b[0;34m\u001b[0m\u001b[0;34m\u001b[0m\u001b[0m\n\u001b[0;32m----> 2\u001b[0;31m \u001b[0mdefine_GMMs\u001b[0m\u001b[0;34m(\u001b[0m\u001b[0mg\u001b[0m\u001b[0;34m,\u001b[0m \u001b[0;36m3\u001b[0m\u001b[0;34m)\u001b[0m\u001b[0;34m\u001b[0m\u001b[0;34m\u001b[0m\u001b[0m\n\u001b[0m",
      "\u001b[0;32m<ipython-input-97-e5b677bcf025>\u001b[0m in \u001b[0;36mdefine_GMMs\u001b[0;34m(GMM_i, n_repetions)\u001b[0m\n\u001b[1;32m      8\u001b[0m         \u001b[0mGMM_init\u001b[0m \u001b[0;34m=\u001b[0m \u001b[0mGMM_final\u001b[0m\u001b[0;34m.\u001b[0m\u001b[0mcopy\u001b[0m\u001b[0;34m(\u001b[0m\u001b[0;34m)\u001b[0m\u001b[0;34m\u001b[0m\u001b[0;34m\u001b[0m\u001b[0m\n\u001b[1;32m      9\u001b[0m         \u001b[0;32mfor\u001b[0m \u001b[0mi\u001b[0m\u001b[0;34m,\u001b[0m \u001b[0mg\u001b[0m \u001b[0;32min\u001b[0m \u001b[0menumerate\u001b[0m\u001b[0;34m(\u001b[0m\u001b[0mGMM_init\u001b[0m\u001b[0;34m)\u001b[0m\u001b[0;34m:\u001b[0m\u001b[0;34m\u001b[0m\u001b[0;34m\u001b[0m\u001b[0m\n\u001b[0;32m---> 10\u001b[0;31m             \u001b[0mw\u001b[0m\u001b[0;34m,\u001b[0m \u001b[0mmu\u001b[0m\u001b[0;34m,\u001b[0m \u001b[0mC\u001b[0m \u001b[0;34m=\u001b[0m \u001b[0mg\u001b[0m\u001b[0;34m\u001b[0m\u001b[0;34m\u001b[0m\u001b[0m\n\u001b[0m\u001b[1;32m     11\u001b[0m             \u001b[0mnewW\u001b[0m \u001b[0;34m=\u001b[0m \u001b[0mw\u001b[0m\u001b[0;34m/\u001b[0m\u001b[0;36m2\u001b[0m\u001b[0;34m\u001b[0m\u001b[0;34m\u001b[0m\u001b[0m\n\u001b[1;32m     12\u001b[0m             \u001b[0mU\u001b[0m\u001b[0;34m,\u001b[0m \u001b[0ms\u001b[0m\u001b[0;34m,\u001b[0m \u001b[0mVh\u001b[0m \u001b[0;34m=\u001b[0m \u001b[0mnumpy\u001b[0m\u001b[0;34m.\u001b[0m\u001b[0mlinalg\u001b[0m\u001b[0;34m.\u001b[0m\u001b[0msvd\u001b[0m\u001b[0;34m(\u001b[0m\u001b[0mC\u001b[0m\u001b[0;34m)\u001b[0m\u001b[0;34m\u001b[0m\u001b[0;34m\u001b[0m\u001b[0m\n",
      "\u001b[0;31mTypeError\u001b[0m: cannot unpack non-iterable int object"
     ]
    }
   ],
   "source": [
    "g = init_GMM(Data, labels)\n",
    "define_GMMs(g, 3)"
   ]
  },
  {
   "cell_type": "code",
   "execution_count": null,
   "metadata": {},
   "outputs": [],
   "source": []
  }
 ],
 "metadata": {
  "kernelspec": {
   "display_name": "Python 3",
   "language": "python",
   "name": "python3"
  },
  "language_info": {
   "codemirror_mode": {
    "name": "ipython",
    "version": 3
   },
   "file_extension": ".py",
   "mimetype": "text/x-python",
   "name": "python",
   "nbconvert_exporter": "python",
   "pygments_lexer": "ipython3",
   "version": "3.7.9"
  }
 },
 "nbformat": 4,
 "nbformat_minor": 4
}
