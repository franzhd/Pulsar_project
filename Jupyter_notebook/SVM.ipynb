{
 "cells": [
  {
   "cell_type": "code",
   "execution_count": 1,
   "metadata": {},
   "outputs": [
    {
     "name": "stderr",
     "output_type": "stream",
     "text": [
      "\n",
      "Bad key \"text.kerning_factor\" on line 4 in\n",
      "/opt/anaconda3/envs/bigdatalab_cpu_202101/lib/python3.7/site-packages/matplotlib/mpl-data/stylelib/_classic_test_patch.mplstyle.\n",
      "You probably need to get an updated matplotlibrc file from\n",
      "https://github.com/matplotlib/matplotlib/blob/v3.1.2/matplotlibrc.template\n",
      "or from the matplotlib source distribution\n"
     ]
    }
   ],
   "source": [
    "import numpy as np\n",
    "import scipy\n",
    "import numpy \n",
    "import matplotlib.pyplot as plt\n",
    "from scipy import linalg, special, stats\n",
    "from numpy import genfromtxt\n",
    "import ML_support as ml\n",
    "from scipy.optimize import fmin_l_bfgs_b"
   ]
  },
  {
   "cell_type": "code",
   "execution_count": 2,
   "metadata": {},
   "outputs": [
    {
     "name": "stdout",
     "output_type": "stream",
     "text": [
      "Prima  0.10125801677355697\n",
      "Dopo : 0.10497237569060773\n"
     ]
    }
   ],
   "source": [
    "Data, labels = ml.loadFile('./Train.txt')\n",
    "n, m = sum(labels == 1), sum(labels == 0)\n",
    "print('Prima ', n/m)\n",
    "numpy.random.seed(0)\n",
    "indexes = numpy.random.permutation(1200)\n",
    "Data_s = Data[:, indexes]\n",
    "label_s = labels[indexes]\n",
    "ns, ms = sum(label_s == 1), sum(label_s == 0)\n",
    "print('Dopo :', ns/ms)"
   ]
  },
  {
   "cell_type": "code",
   "execution_count": 3,
   "metadata": {},
   "outputs": [
    {
     "name": "stdout",
     "output_type": "stream",
     "text": [
      "Dopo dopo 0.11265646731571627\n"
     ]
    }
   ],
   "source": [
    "(DTR, LTR), (DTE, LTE) = ml.split_db_2to1(Data_s, label_s, seed=42)\n",
    "n1, n0 = sum(LTR == 1), sum(LTR == 0)\n",
    "print('Dopo dopo', n1/n0)\n"
   ]
  },
  {
   "cell_type": "code",
   "execution_count": 4,
   "metadata": {},
   "outputs": [],
   "source": [
    "def L_dual_wrapper(H_hat):\n",
    "    def L_dual(alpha):\n",
    "        one_vect = numpy.ones((len(alpha)), dtype='int32')\n",
    "        L_d = 1/2 * numpy.dot( alpha.T, numpy.dot( H_hat, alpha ) ) - numpy.dot( alpha.T, one_vect )\n",
    "        grad_L_d = numpy.dot( H_hat, alpha ) - one_vect\n",
    "\n",
    "        v = numpy.array((L_d, grad_L_d), dtype=object)\n",
    "\n",
    "        return v\n",
    "    return L_dual\n",
    "\n",
    "def linearSVM(DTR, LTR, DTE, params):\n",
    "    K, C = params[0], params[1]\n",
    "    x0 = numpy.zeros((DTR.shape[1]), dtype='int32')\n",
    "    D_hat = numpy.vstack([DTR, K*numpy.ones((DTR.shape[1]))])\n",
    "    H_hat = ml.compute_H_hat(D_hat, LTR)\n",
    "    boundaries = []\n",
    "    for i in range(DTR.shape[1]):\n",
    "        boundaries.append((0, C))\n",
    "        \n",
    "    alpha, f, d = fmin_l_bfgs_b(L_dual_wrapper(H_hat), x0, bounds=boundaries, factr=1.0)\n",
    "    w = ml.compute_w(D_hat, LTR, alpha)\n",
    "\n",
    "    DTE_hat = numpy.vstack([DTE, K * numpy.ones((DTE.shape[1]))])\n",
    "    \n",
    "    s = list(numpy.dot(w, DTE_hat))\n",
    "        \n",
    "    \n",
    "    return s\n"
   ]
  },
  {
   "cell_type": "code",
   "execution_count": 5,
   "metadata": {},
   "outputs": [],
   "source": [
    "def kfold(D, L, fold, params, app):\n",
    "    error = 0\n",
    "    N = int(D.shape[1]/fold) #numero di elementi per ogni fold\n",
    "    numpy.random.seed(0) #imposto il seed del generatore di numeri casuali -> in tal modo genererò la stessa sequenza di numeri casuali aventi seed uguale\n",
    "    indexes = numpy.random.permutation(D.shape[1]) #genero una sequenza di numeri casuali che vanno da 0 al num_di_campioni\n",
    "    \n",
    "    LTE_final = []\n",
    "    llr_final = []\n",
    "    for j in range(fold):\n",
    "        test_indexes = indexes[(j*N):((j+1)*N)] #selezioni gli indici che identificano i campioni (casuali) del test set\n",
    "        if(j > 0): #se il test set non è preso dalla prima fold (--> il test set è una fold intermedia o l'ultima fold)\n",
    "            left_indexes = indexes[0:(j*N)] #allora prendo tutti gli indici che stanno a sinistra di tale fold\n",
    "        else: #se il test set è preso dalla prima fold\n",
    "            right_indexes = indexes[((j+1)*N):] #prendo tutti gli indici a destra della prima fold\n",
    "\n",
    "        if(j == 0): #se il test set è preso dalla prima fold\n",
    "            train_indexes = right_indexes #assegno agli indici di training quelli che stanno a destra della prima fold\n",
    "        elif(j == fold-1): #se il test set è preso dall'ultima fold\n",
    "            train_indexes = left_indexes #assegno agli indici di training quelli che stanno a sinistra dell'ultima fold\n",
    "        else: #in questo caso il test set è preso da una fold intermedia\n",
    "            train_indexes = numpy.hstack((left_indexes, right_indexes)) #pertanto assegno agli indici di training quelli appartenenti alle fold di sinistra e di destra\n",
    "\n",
    "        DTR = D[:, train_indexes]  #definisco insieme di training e di testing\n",
    "        LTR = L[train_indexes]\n",
    "        DTE = D[:, test_indexes]\n",
    "        LTE = L[test_indexes]\n",
    "        LTE_final.extend(LTE)\n",
    "        llr_final.extend(linearSVM(DTR, LTR, DTE, params))\n",
    "        \n",
    "    CM = ml.compute_optimal_B_decision(app, llr_final, LTE_final)\n",
    "    sensitivity = (1-ml.compute_FNR(CM)) # TPR\n",
    "    specificity = (1-ml.compute_FPR(CM)) # TNR\n",
    "        \n",
    "    app_bayes_risk=ml.compute_Bayes_risk(CM, app)\n",
    "    DCF = ml.compute_norm_Bayes(app_bayes_risk, app)\n",
    "\n",
    "    minDCF= ml.compute_min_DCF(llr_final, app, LTE_final)\n",
    "    error = 1-(CM[0, 0]+CM[1,1])/(len(LTE_final))\n",
    "\n",
    "    print(\"\\-/ \\-/ \\-/ \\-/ \\-/ \")\n",
    "    print(\"Linear SVM error:\", error)\n",
    "    print(app,\"DCF:\", DCF, \"minDCF:\", minDCF)\n",
    "    print('Sensitivity (TPR):', sensitivity, ' Specificity (TNR): ', specificity)\n",
    "    print('CM\\n', CM)\n",
    "    print(\"/-\\ /-\\ /-\\ /-\\ /-\\ \")"
   ]
  },
  {
   "cell_type": "code",
   "execution_count": 7,
   "metadata": {},
   "outputs": [
    {
     "name": "stdout",
     "output_type": "stream",
     "text": [
      "\\-/ \\-/ \\-/ \\-/ \\-/ \n",
      "Linear SVM error: 0.026106442577030764\n",
      "[0.5, 1, 1] DCF: 0.22469017270008768 minDCF: 0.14696761828266638\n",
      "Sensitivity (TPR): 0.781973203410475  Specificity (TNR):  0.9933366238894373\n",
      "CM\n",
      " [[8050.  179.]\n",
      " [  54.  642.]]\n",
      "/-\\ /-\\ /-\\ /-\\ /-\\ \n"
     ]
    }
   ],
   "source": [
    "kfold(Data, labels, 5, [1, 0.1], [0.5, 1, 1])"
   ]
  },
  {
   "cell_type": "code",
   "execution_count": 8,
   "metadata": {},
   "outputs": [
    {
     "name": "stdout",
     "output_type": "stream",
     "text": [
      "\\-/ \\-/ \\-/ \\-/ \\-/ \n",
      "Linear SVM error: 0.6024649859943978\n",
      "[0.5, 1, 1] DCF: 0.9065075756938124 minDCF: 0.7398214201976017\n",
      "Sensitivity (TPR): 0.7295980511571254  Specificity (TNR):  0.36389437314906214\n",
      "CM\n",
      " [[2949.  222.]\n",
      " [5155.  599.]]\n",
      "/-\\ /-\\ /-\\ /-\\ /-\\ \n",
      "\\-/ \\-/ \\-/ \\-/ \\-/ \n",
      "Linear SVM error: 0.6283473389355743\n",
      "[0.5, 1, 1] DCF: 0.8715234232685202 minDCF: 0.808734773162048\n",
      "Sensitivity (TPR): 0.8002436053593179  Specificity (TNR):  0.3282329713721619\n",
      "CM\n",
      " [[2660.  164.]\n",
      " [5444.  657.]]\n",
      "/-\\ /-\\ /-\\ /-\\ /-\\ \n",
      "\\-/ \\-/ \\-/ \\-/ \\-/ \n",
      "Linear SVM error: 0.03742296918767507\n",
      "[0.5, 1, 1] DCF: 0.19446254717899944 minDCF: 0.18359589646411512\n",
      "Sensitivity (TPR): 0.8294762484774665  Specificity (TNR):  0.976061204343534\n",
      "CM\n",
      " [[7910.  140.]\n",
      " [ 194.  681.]]\n",
      "/-\\ /-\\ /-\\ /-\\ /-\\ \n",
      "\\-/ \\-/ \\-/ \\-/ \\-/ \n",
      "Linear SVM error: 0.6066106442577031\n",
      "[0.5, 1, 1] DCF: 0.831165163471701 minDCF: 0.8217690426405571\n",
      "Sensitivity (TPR): 0.8185140073081608  Specificity (TNR):  0.3503208292201382\n",
      "CM\n",
      " [[2839.  149.]\n",
      " [5265.  672.]]\n",
      "/-\\ /-\\ /-\\ /-\\ /-\\ \n",
      "\\-/ \\-/ \\-/ \\-/ \\-/ \n",
      "Linear SVM error: 0.49277310924369744\n",
      "[0.5, 1, 1] DCF: 0.852475522230492 minDCF: 0.7584931216956665\n",
      "Sensitivity (TPR): 0.6552984165651644  Specificity (TNR):  0.49222606120434353\n",
      "CM\n",
      " [[3989.  283.]\n",
      " [4115.  538.]]\n",
      "/-\\ /-\\ /-\\ /-\\ /-\\ \n"
     ]
    }
   ],
   "source": [
    "kfold(Data, labels, 5, [1, 1], [0.5, 1, 1])\n",
    "kfold(Data, labels, 5, [1, 10], [0.5, 1, 1])\n",
    "kfold(Data, labels, 5, [10, 0.1], [0.5, 1, 1])\n",
    "kfold(Data, labels, 5, [10, 1], [0.5, 1, 1])\n",
    "kfold(Data, labels, 5, [10, 10], [0.5, 1, 1])"
   ]
  },
  {
   "cell_type": "code",
   "execution_count": 9,
   "metadata": {},
   "outputs": [
    {
     "name": "stdout",
     "output_type": "stream",
     "text": [
      "\\-/ \\-/ \\-/ \\-/ \\-/ \n",
      "Linear SVM error: 0.025322128851540615\n",
      "[0.5, 1, 1] DCF: 0.24352975869121637 minDCF: 0.1317024539692884\n",
      "Sensitivity (TPR): 0.7600487210718636  Specificity (TNR):  0.99642152023692\n",
      "CM\n",
      " [[8075.  197.]\n",
      " [  29.  624.]]\n",
      "/-\\ /-\\ /-\\ /-\\ /-\\ \n",
      "\\-/ \\-/ \\-/ \\-/ \\-/ \n",
      "Linear SVM error: 0.02554621848739491\n",
      "[0.5, 1, 1] DCF: 0.24596581228439543 minDCF: 0.12369359712290767\n",
      "Sensitivity (TPR): 0.7576126674786845  Specificity (TNR):  0.99642152023692\n",
      "CM\n",
      " [[8075.  199.]\n",
      " [  29.  622.]]\n",
      "/-\\ /-\\ /-\\ /-\\ /-\\ \n"
     ]
    }
   ],
   "source": [
    "kfold(Data, labels, 5, [1, 0.01], [0.5, 1, 1])\n",
    "kfold(Data, labels, 5, [10, 0.01], [0.5, 1, 1])"
   ]
  },
  {
   "cell_type": "code",
   "execution_count": 11,
   "metadata": {},
   "outputs": [],
   "source": [
    "data_g = ml.gaussianize(Data)\n",
    "data_z = ml.z_normalization(Data)"
   ]
  },
  {
   "cell_type": "code",
   "execution_count": 12,
   "metadata": {},
   "outputs": [
    {
     "name": "stdout",
     "output_type": "stream",
     "text": [
      "\\-/ \\-/ \\-/ \\-/ \\-/ \n",
      "Linear SVM error: 0.022969187675070057\n",
      "[0.5, 1, 1] DCF: 0.16978743448446684 minDCF: 0.13403885902271687\n",
      "Sensitivity (TPR): 0.8392204628501827  Specificity (TNR):  0.9909921026653504\n",
      "CM\n",
      " [[8031.  132.]\n",
      " [  73.  689.]]\n",
      "/-\\ /-\\ /-\\ /-\\ /-\\ \n",
      "\\-/ \\-/ \\-/ \\-/ \\-/ \n",
      "Linear SVM error: 0.021848739495798353\n",
      "[0.5, 1, 1] DCF: 0.15651253557588138 minDCF: 0.12745514162417199\n",
      "Sensitivity (TPR): 0.8526187576126675  Specificity (TNR):  0.9908687068114511\n",
      "CM\n",
      " [[8030.  121.]\n",
      " [  74.  700.]]\n",
      "/-\\ /-\\ /-\\ /-\\ /-\\ \n",
      "\\-/ \\-/ \\-/ \\-/ \\-/ \n",
      "Linear SVM error: 0.021624649859943945\n",
      "[0.5, 1, 1] DCF: 0.1518872200973219 minDCF: 0.12768600158956706\n",
      "Sensitivity (TPR): 0.8574908647990256  Specificity (TNR):  0.9906219151036525\n",
      "CM\n",
      " [[8028.  117.]\n",
      " [  76.  704.]]\n",
      "/-\\ /-\\ /-\\ /-\\ /-\\ \n",
      "\\-/ \\-/ \\-/ \\-/ \\-/ \n",
      "Linear SVM error: 0.022521008403361353\n",
      "[0.5, 1, 1] DCF: 0.1671045891834892 minDCF: 0.13365273971861535\n",
      "Sensitivity (TPR): 0.8416565164433618  Specificity (TNR):  0.991238894373149\n",
      "CM\n",
      " [[8033.  130.]\n",
      " [  71.  691.]]\n",
      "/-\\ /-\\ /-\\ /-\\ /-\\ \n",
      "\\-/ \\-/ \\-/ \\-/ \\-/ \n",
      "Linear SVM error: 0.021736694677871093\n",
      "[0.5, 1, 1] DCF: 0.15529450877929185 minDCF: 0.1275785374780713\n",
      "Sensitivity (TPR): 0.853836784409257  Specificity (TNR):  0.9908687068114511\n",
      "CM\n",
      " [[8030.  120.]\n",
      " [  74.  701.]]\n",
      "/-\\ /-\\ /-\\ /-\\ /-\\ \n",
      "\\-/ \\-/ \\-/ \\-/ \\-/ \n",
      "Linear SVM error: 0.021736694677871093\n",
      "[0.5, 1, 1] DCF: 0.15419987783660163 minDCF: 0.1305081744868476\n",
      "Sensitivity (TPR): 0.8550548112058465  Specificity (TNR):  0.9907453109575518\n",
      "CM\n",
      " [[8029.  119.]\n",
      " [  75.  702.]]\n",
      "/-\\ /-\\ /-\\ /-\\ /-\\ \n"
     ]
    }
   ],
   "source": [
    "kfold(data_g, labels, 5, [1, 0.1], [0.5, 1, 1])\n",
    "kfold(data_g, labels, 5, [1, 1], [0.5, 1, 1])\n",
    "kfold(data_g, labels, 5, [1, 10], [0.5, 1, 1])\n",
    "kfold(data_g, labels, 5, [10, 0.1], [0.5, 1, 1])\n",
    "kfold(data_g, labels, 5, [10, 1], [0.5, 1, 1])\n",
    "kfold(data_g, labels, 5, [10, 10], [0.5, 1, 1])\n"
   ]
  },
  {
   "cell_type": "code",
   "execution_count": 13,
   "metadata": {},
   "outputs": [
    {
     "name": "stdout",
     "output_type": "stream",
     "text": [
      "\\-/ \\-/ \\-/ \\-/ \\-/ \n",
      "Linear SVM error: 0.02285714285714291\n",
      "[0.5, 1, 1] DCF: 0.20797612162472512 minDCF: 0.10940372598364982\n",
      "Sensitivity (TPR): 0.7965895249695494  Specificity (TNR):  0.9954343534057256\n",
      "CM\n",
      " [[8067.  167.]\n",
      " [  37.  654.]]\n",
      "/-\\ /-\\ /-\\ /-\\ /-\\ \n",
      "\\-/ \\-/ \\-/ \\-/ \\-/ \n",
      "Linear SVM error: 0.021848739495798353\n",
      "[0.5, 1, 1] DCF: 0.1926353566846585 minDCF: 0.11083668100323084\n",
      "Sensitivity (TPR): 0.8124238733252132  Specificity (TNR):  0.9949407699901284\n",
      "CM\n",
      " [[8063.  154.]\n",
      " [  41.  667.]]\n",
      "/-\\ /-\\ /-\\ /-\\ /-\\ \n",
      "\\-/ \\-/ \\-/ \\-/ \\-/ \n",
      "Linear SVM error: 0.021512605042016797\n",
      "[0.5, 1, 1] DCF: 0.19007590723758014 minDCF: 0.11058988929543223\n",
      "Sensitivity (TPR): 0.8148599269183923  Specificity (TNR):  0.9950641658440277\n",
      "CM\n",
      " [[8064.  152.]\n",
      " [  40.  669.]]\n",
      "/-\\ /-\\ /-\\ /-\\ /-\\ \n",
      "\\-/ \\-/ \\-/ \\-/ \\-/ \n",
      "Linear SVM error: 0.02285714285714291\n",
      "[0.5, 1, 1] DCF: 0.20797612162472512 minDCF: 0.10917286601825477\n",
      "Sensitivity (TPR): 0.7965895249695494  Specificity (TNR):  0.9954343534057256\n",
      "CM\n",
      " [[8067.  167.]\n",
      " [  37.  654.]]\n",
      "/-\\ /-\\ /-\\ /-\\ /-\\ \n",
      "\\-/ \\-/ \\-/ \\-/ \\-/ \n",
      "Linear SVM error: 0.0219607843137255\n",
      "[0.5, 1, 1] DCF: 0.19385338348124803 minDCF: 0.11083668100323084\n",
      "Sensitivity (TPR): 0.8112058465286236  Specificity (TNR):  0.9949407699901284\n",
      "CM\n",
      " [[8063.  155.]\n",
      " [  41.  666.]]\n",
      "/-\\ /-\\ /-\\ /-\\ /-\\ \n",
      "\\-/ \\-/ \\-/ \\-/ \\-/ \n",
      "Linear SVM error: 0.02061624649859939\n",
      "[0.5, 1, 1] DCF: 0.17923706192217373 minDCF: 0.13000271741417602\n",
      "Sensitivity (TPR): 0.8258221680876979  Specificity (TNR):  0.9949407699901284\n",
      "CM\n",
      " [[8063.  143.]\n",
      " [  41.  678.]]\n",
      "/-\\ /-\\ /-\\ /-\\ /-\\ \n"
     ]
    }
   ],
   "source": [
    "kfold(data_z, labels, 5, [1, 0.1], [0.5, 1, 1])\n",
    "kfold(data_z, labels, 5, [1, 1], [0.5, 1, 1])\n",
    "kfold(data_z, labels, 5, [1, 10], [0.5, 1, 1])\n",
    "kfold(data_z, labels, 5, [10, 0.1], [0.5, 1, 1])\n",
    "kfold(data_z, labels, 5, [10, 1], [0.5, 1, 1])\n",
    "kfold(data_z, labels, 5, [10, 10], [0.5, 1, 1])"
   ]
  },
  {
   "cell_type": "code",
   "execution_count": null,
   "metadata": {},
   "outputs": [],
   "source": []
  }
 ],
 "metadata": {
  "kernelspec": {
   "display_name": "Python 3",
   "language": "python",
   "name": "python3"
  },
  "language_info": {
   "codemirror_mode": {
    "name": "ipython",
    "version": 3
   },
   "file_extension": ".py",
   "mimetype": "text/x-python",
   "name": "python",
   "nbconvert_exporter": "python",
   "pygments_lexer": "ipython3",
   "version": "3.7.9"
  }
 },
 "nbformat": 4,
 "nbformat_minor": 4
}
