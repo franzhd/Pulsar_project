{
 "cells": [
  {
   "cell_type": "code",
   "execution_count": 4,
   "metadata": {},
   "outputs": [],
   "source": [
    "import numpy as np\n",
    "import scipy\n",
    "import numpy \n",
    "import matplotlib.pyplot as plt\n",
    "from scipy import linalg, special, stats\n",
    "from numpy import genfromtxt\n",
    "import ML_support as ml\n",
    "from scipy.optimize import fmin_l_bfgs_b"
   ]
  },
  {
   "cell_type": "code",
   "execution_count": 6,
   "metadata": {},
   "outputs": [],
   "source": [
    "Data, labels = ml.loadFile('../Train.txt')\n"
   ]
  },
  {
   "cell_type": "code",
   "execution_count": 7,
   "metadata": {},
   "outputs": [],
   "source": [
    "def L_dual_wrapper(H_hat):\n",
    "    def L_dual(alpha):\n",
    "        one_vect = numpy.ones((len(alpha)), dtype='int32')\n",
    "        L_d = 1/2 * numpy.dot( alpha.T, numpy.dot( H_hat, alpha ) ) - numpy.dot( alpha.T, one_vect )\n",
    "        grad_L_d = numpy.dot( H_hat, alpha ) - one_vect\n",
    "\n",
    "        v = numpy.array((L_d, grad_L_d), dtype=object)\n",
    "\n",
    "        return v\n",
    "    return L_dual\n",
    "\n",
    "def linearSVM(DTR, LTR, DTE, params):\n",
    "    K, C = params[0], params[1]\n",
    "    x0 = numpy.zeros((DTR.shape[1]), dtype='int32')\n",
    "    D_hat = numpy.vstack([DTR, K*numpy.ones((DTR.shape[1]))])\n",
    "    H_hat = ml.compute_H_hat(D_hat, LTR)\n",
    "    boundaries = []\n",
    "    for i in range(DTR.shape[1]):\n",
    "        boundaries.append((0, C))\n",
    "        \n",
    "    alpha, f, d = fmin_l_bfgs_b(L_dual_wrapper(H_hat), x0, bounds=boundaries, factr=1.0)\n",
    "    w = ml.compute_w(D_hat, LTR, alpha)\n",
    "\n",
    "    DTE_hat = numpy.vstack([DTE, K * numpy.ones((DTE.shape[1]))])\n",
    "    \n",
    "    s = list(numpy.dot(w, DTE_hat))\n",
    "        \n",
    "    \n",
    "    return s\n"
   ]
  },
  {
   "cell_type": "code",
   "execution_count": 8,
   "metadata": {},
   "outputs": [],
   "source": [
    "def kfold(D, L, fold, params, app):\n",
    "    error = 0\n",
    "    N = int(D.shape[1]/fold) #numero di elementi per ogni fold\n",
    "    numpy.random.seed(0) #imposto il seed del generatore di numeri casuali -> in tal modo genererò la stessa sequenza di numeri casuali aventi seed uguale\n",
    "    indexes = numpy.random.permutation(D.shape[1]) #genero una sequenza di numeri casuali che vanno da 0 al num_di_campioni\n",
    "    \n",
    "    LTE_final = []\n",
    "    llr_final = []\n",
    "    for j in range(fold):\n",
    "        test_indexes = indexes[(j*N):((j+1)*N)] #selezioni gli indici che identificano i campioni (casuali) del test set\n",
    "        if(j > 0): #se il test set non è preso dalla prima fold (--> il test set è una fold intermedia o l'ultima fold)\n",
    "            left_indexes = indexes[0:(j*N)] #allora prendo tutti gli indici che stanno a sinistra di tale fold\n",
    "        else: #se il test set è preso dalla prima fold\n",
    "            right_indexes = indexes[((j+1)*N):] #prendo tutti gli indici a destra della prima fold\n",
    "\n",
    "        if(j == 0): #se il test set è preso dalla prima fold\n",
    "            train_indexes = right_indexes #assegno agli indici di training quelli che stanno a destra della prima fold\n",
    "        elif(j == fold-1): #se il test set è preso dall'ultima fold\n",
    "            train_indexes = left_indexes #assegno agli indici di training quelli che stanno a sinistra dell'ultima fold\n",
    "        else: #in questo caso il test set è preso da una fold intermedia\n",
    "            train_indexes = numpy.hstack((left_indexes, right_indexes)) #pertanto assegno agli indici di training quelli appartenenti alle fold di sinistra e di destra\n",
    "\n",
    "        DTR = D[:, train_indexes]  #definisco insieme di training e di testing\n",
    "        LTR = L[train_indexes]\n",
    "        DTE = D[:, test_indexes]\n",
    "        LTE = L[test_indexes]\n",
    "        LTE_final.extend(LTE)\n",
    "        llr_final.extend(linearSVM(DTR, LTR, DTE, params))\n",
    "        \n",
    "    CM = ml.compute_optimal_B_decision(app, llr_final, LTE_final)\n",
    "        \n",
    "    app_bayes_risk=ml.compute_Bayes_risk(CM, app)\n",
    "    DCF = ml.compute_norm_Bayes(app_bayes_risk, app)\n",
    "\n",
    "    minDCF, _= ml.compute_min_DCF(llr_final, app, LTE_final)\n",
    "    error = 1-(CM[0, 0]+CM[1,1])/(len(LTE_final))\n",
    "\n",
    "    print(\"\\-/ \\-/ \\-/ \\-/ \\-/ \")\n",
    "    print(\"Linear SVM error:\", error)\n",
    "    print(f'{app} DCF:{round(DCF, 3)} minDCF: {round(minDCF, 3)}')\n",
    "    print(\"/-\\ /-\\ /-\\ /-\\ /-\\ \")"
   ]
  },
  {
   "cell_type": "code",
   "execution_count": 6,
   "metadata": {},
   "outputs": [
    {
     "name": "stdout",
     "output_type": "stream",
     "text": [
      "\\-/ \\-/ \\-/ \\-/ \\-/ \n",
      "Linear SVM error: 0.026106442577030764\n",
      "[0.5, 1, 1] DCF:0.225 minDCF: 0.147\n",
      "/-\\ /-\\ /-\\ /-\\ /-\\ \n"
     ]
    }
   ],
   "source": [
    "kfold(Data, labels, 5, [1, 0.1], [0.5, 1, 1])"
   ]
  },
  {
   "cell_type": "code",
   "execution_count": 7,
   "metadata": {},
   "outputs": [
    {
     "name": "stdout",
     "output_type": "stream",
     "text": [
      "\\-/ \\-/ \\-/ \\-/ \\-/ \n",
      "Linear SVM error: 0.6024649859943978\n",
      "[0.5, 1, 1] DCF:0.907 minDCF: 0.74\n",
      "/-\\ /-\\ /-\\ /-\\ /-\\ \n",
      "\\-/ \\-/ \\-/ \\-/ \\-/ \n",
      "Linear SVM error: 0.6283473389355743\n",
      "[0.5, 1, 1] DCF:0.872 minDCF: 0.809\n",
      "/-\\ /-\\ /-\\ /-\\ /-\\ \n",
      "\\-/ \\-/ \\-/ \\-/ \\-/ \n",
      "Linear SVM error: 0.03742296918767507\n",
      "[0.5, 1, 1] DCF:0.194 minDCF: 0.184\n",
      "/-\\ /-\\ /-\\ /-\\ /-\\ \n",
      "\\-/ \\-/ \\-/ \\-/ \\-/ \n",
      "Linear SVM error: 0.6066106442577031\n",
      "[0.5, 1, 1] DCF:0.8310000000000001 minDCF: 0.8220000000000001\n",
      "/-\\ /-\\ /-\\ /-\\ /-\\ \n",
      "\\-/ \\-/ \\-/ \\-/ \\-/ \n",
      "Linear SVM error: 0.49277310924369744\n",
      "[0.5, 1, 1] DCF:0.852 minDCF: 0.758\n",
      "/-\\ /-\\ /-\\ /-\\ /-\\ \n"
     ]
    }
   ],
   "source": [
    "kfold(Data, labels, 5, [1, 1], [0.5, 1, 1])\n",
    "kfold(Data, labels, 5, [1, 10], [0.5, 1, 1])\n",
    "kfold(Data, labels, 5, [10, 0.1], [0.5, 1, 1])\n",
    "kfold(Data, labels, 5, [10, 1], [0.5, 1, 1])\n",
    "kfold(Data, labels, 5, [10, 10], [0.5, 1, 1])"
   ]
  },
  {
   "cell_type": "code",
   "execution_count": 8,
   "metadata": {},
   "outputs": [
    {
     "name": "stdout",
     "output_type": "stream",
     "text": [
      "\\-/ \\-/ \\-/ \\-/ \\-/ \n",
      "Linear SVM error: 0.10319327731092443\n",
      "[0.5, 1, 1] DCF:0.281 minDCF: 0.264\n",
      "/-\\ /-\\ /-\\ /-\\ /-\\ \n",
      "\\-/ \\-/ \\-/ \\-/ \\-/ \n",
      "Linear SVM error: 0.024537815126050466\n",
      "[0.5, 1, 1] DCF:0.222 minDCF: 0.155\n",
      "/-\\ /-\\ /-\\ /-\\ /-\\ \n"
     ]
    }
   ],
   "source": [
    "kfold(Data, labels, 5, [0.1, 0.1], [0.5, 1, 1])\n",
    "kfold(Data, labels, 5, [0.01, 0.1], [0.5, 1, 1])"
   ]
  },
  {
   "cell_type": "code",
   "execution_count": 9,
   "metadata": {},
   "outputs": [],
   "source": [
    "data_g = ml.gaussianize(Data)\n",
    "data_z = ml.z_normalization(Data)"
   ]
  },
  {
   "cell_type": "code",
   "execution_count": 10,
   "metadata": {},
   "outputs": [
    {
     "name": "stdout",
     "output_type": "stream",
     "text": [
      "\\-/ \\-/ \\-/ \\-/ \\-/ \n",
      "Linear SVM error: 0.022969187675070057\n",
      "[0.5, 1, 1] DCF:0.17 minDCF: 0.134\n",
      "/-\\ /-\\ /-\\ /-\\ /-\\ \n",
      "\\-/ \\-/ \\-/ \\-/ \\-/ \n",
      "Linear SVM error: 0.021848739495798353\n",
      "[0.5, 1, 1] DCF:0.157 minDCF: 0.127\n",
      "/-\\ /-\\ /-\\ /-\\ /-\\ \n",
      "\\-/ \\-/ \\-/ \\-/ \\-/ \n",
      "Linear SVM error: 0.021624649859943945\n",
      "[0.5, 1, 1] DCF:0.152 minDCF: 0.128\n",
      "/-\\ /-\\ /-\\ /-\\ /-\\ \n",
      "\\-/ \\-/ \\-/ \\-/ \\-/ \n",
      "Linear SVM error: 0.022521008403361353\n",
      "[0.5, 1, 1] DCF:0.167 minDCF: 0.134\n",
      "/-\\ /-\\ /-\\ /-\\ /-\\ \n",
      "\\-/ \\-/ \\-/ \\-/ \\-/ \n",
      "Linear SVM error: 0.021736694677871093\n",
      "[0.5, 1, 1] DCF:0.155 minDCF: 0.128\n",
      "/-\\ /-\\ /-\\ /-\\ /-\\ \n",
      "\\-/ \\-/ \\-/ \\-/ \\-/ \n",
      "Linear SVM error: 0.021736694677871093\n",
      "[0.5, 1, 1] DCF:0.154 minDCF: 0.131\n",
      "/-\\ /-\\ /-\\ /-\\ /-\\ \n"
     ]
    }
   ],
   "source": [
    "kfold(data_g, labels, 5, [1, 0.1], [0.5, 1, 1])\n",
    "kfold(data_g, labels, 5, [1, 1], [0.5, 1, 1])\n",
    "kfold(data_g, labels, 5, [1, 10], [0.5, 1, 1])\n",
    "kfold(data_g, labels, 5, [10, 0.1], [0.5, 1, 1])\n",
    "kfold(data_g, labels, 5, [10, 1], [0.5, 1, 1])\n",
    "kfold(data_g, labels, 5, [10, 10], [0.5, 1, 1])\n"
   ]
  },
  {
   "cell_type": "code",
   "execution_count": 11,
   "metadata": {},
   "outputs": [
    {
     "name": "stdout",
     "output_type": "stream",
     "text": [
      "\\-/ \\-/ \\-/ \\-/ \\-/ \n",
      "Linear SVM error: 0.02285714285714291\n",
      "[0.5, 1, 1] DCF:0.20800000000000002 minDCF: 0.109\n",
      "/-\\ /-\\ /-\\ /-\\ /-\\ \n",
      "\\-/ \\-/ \\-/ \\-/ \\-/ \n",
      "Linear SVM error: 0.021848739495798353\n",
      "[0.5, 1, 1] DCF:0.193 minDCF: 0.111\n",
      "/-\\ /-\\ /-\\ /-\\ /-\\ \n",
      "\\-/ \\-/ \\-/ \\-/ \\-/ \n",
      "Linear SVM error: 0.021512605042016797\n",
      "[0.5, 1, 1] DCF:0.19 minDCF: 0.111\n",
      "/-\\ /-\\ /-\\ /-\\ /-\\ \n",
      "\\-/ \\-/ \\-/ \\-/ \\-/ \n",
      "Linear SVM error: 0.02285714285714291\n",
      "[0.5, 1, 1] DCF:0.20800000000000002 minDCF: 0.109\n",
      "/-\\ /-\\ /-\\ /-\\ /-\\ \n",
      "\\-/ \\-/ \\-/ \\-/ \\-/ \n",
      "Linear SVM error: 0.0219607843137255\n",
      "[0.5, 1, 1] DCF:0.194 minDCF: 0.111\n",
      "/-\\ /-\\ /-\\ /-\\ /-\\ \n",
      "\\-/ \\-/ \\-/ \\-/ \\-/ \n",
      "Linear SVM error: 0.02061624649859939\n",
      "[0.5, 1, 1] DCF:0.179 minDCF: 0.13\n",
      "/-\\ /-\\ /-\\ /-\\ /-\\ \n"
     ]
    }
   ],
   "source": [
    "kfold(data_z, labels, 5, [1, 0.1], [0.5, 1, 1])\n",
    "kfold(data_z, labels, 5, [1, 1], [0.5, 1, 1])\n",
    "kfold(data_z, labels, 5, [1, 10], [0.5, 1, 1])\n",
    "kfold(data_z, labels, 5, [10, 0.1], [0.5, 1, 1])\n",
    "kfold(data_z, labels, 5, [10, 1], [0.5, 1, 1])\n",
    "kfold(data_z, labels, 5, [10, 10], [0.5, 1, 1])"
   ]
  },
  {
   "cell_type": "code",
   "execution_count": null,
   "metadata": {},
   "outputs": [],
   "source": []
  }
 ],
 "metadata": {
  "kernelspec": {
   "display_name": "Python 3",
   "language": "python",
   "name": "python3"
  },
  "language_info": {
   "codemirror_mode": {
    "name": "ipython",
    "version": 3
   },
   "file_extension": ".py",
   "mimetype": "text/x-python",
   "name": "python",
   "nbconvert_exporter": "python",
   "pygments_lexer": "ipython3",
   "version": "3.8.5"
  }
 },
 "nbformat": 4,
 "nbformat_minor": 4
}
