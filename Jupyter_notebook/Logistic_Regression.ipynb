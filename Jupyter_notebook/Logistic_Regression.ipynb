{
 "cells": [
  {
   "cell_type": "code",
   "execution_count": 13,
   "metadata": {},
   "outputs": [],
   "source": [
    "import numpy as np\n",
    "import scipy\n",
    "import numpy \n",
    "import matplotlib.pyplot as plt\n",
    "from scipy import linalg, special, stats\n",
    "from numpy import genfromtxt\n",
    "import ML_support as ml\n",
    "from scipy.optimize import fmin_l_bfgs_b"
   ]
  },
  {
   "cell_type": "code",
   "execution_count": 14,
   "metadata": {},
   "outputs": [],
   "source": [
    "def logreg_obj_wrap(DTR, LTR, l):\n",
    "\n",
    "    def logreg_obj(v):\n",
    "        n = DTR.shape[1]\n",
    "        w, b = v[0:-1], v[-1]\n",
    "        w = w.reshape((len(w), 1))\n",
    "        J = 0\n",
    "        x = DTR\n",
    "        for idx in range(n):\n",
    "            if LTR[idx] == 0:\n",
    "                c = 0\n",
    "            else:\n",
    "                c = 1\n",
    "\n",
    "            J += (c * numpy.log1p(numpy.exp(numpy.dot(-w.T, x[:, idx]) - b)) + (1 - c) * numpy.log1p(numpy.exp(numpy.dot(w.T, x[:, idx]) + b)))\n",
    "\n",
    "        return l/2 * ((numpy.linalg.norm(w))**2) + 1/n * J\n",
    "\n",
    "    return logreg_obj"
   ]
  },
  {
   "cell_type": "code",
   "execution_count": 15,
   "metadata": {},
   "outputs": [],
   "source": [
    "def logreg(DTR, LTR, DTE, LTE, l):\n",
    "    logreg_obj = logreg_obj_wrap(DTR, LTR, l)\n",
    "    v = numpy.zeros((DTR.shape[0]+1), dtype='int32')\n",
    "    x, f, d = fmin_l_bfgs_b(logreg_obj, v, approx_grad=True)\n",
    "    w, b = x[0:-1], x[-1]\n",
    "    \n",
    "    w = ml.mcol(w)\n",
    "    S = numpy.zeros((DTE.shape[1]))\n",
    "    for i in range(len(S)):\n",
    "        S[i] = numpy.dot(w.T, DTE[:, i]) + b\n",
    "\n",
    "    PL = numpy.zeros((len(LTE)))\n",
    "\n",
    "    for i in range(len(S)):\n",
    "        if(S[i] > 0):\n",
    "            PL[i] = 1\n",
    "\n",
    "    PL = PL == LTE\n",
    "    correctPred = sum(PL)\n",
    "\n",
    "    e = (len(LTE)-correctPred)/len(LTE)\n",
    "    print(f'| lambda = {l} |{logreg_obj(x)}|   {round(e*100, 1)}%     |\\n')\n",
    "        "
   ]
  },
  {
   "cell_type": "code",
   "execution_count": 16,
   "metadata": {},
   "outputs": [],
   "source": [
    "Data, label = ml.loadFile('../Train.txt')\n",
    "(DTR, LTR), (DTE,LTE) = ml.split_db_2to1(Data, label, seed=42)\n",
    "DTR_g, DTE_g = ml.gaussianize(DTR), ml.gaussianize(DTE)\n",
    "DTR_z, DTE_z = ml.z_normalization(DTR), ml.z_normalization(DTE)\n"
   ]
  },
  {
   "cell_type": "code",
   "execution_count": 5,
   "metadata": {
    "scrolled": true
   },
   "outputs": [
    {
     "name": "stdout",
     "output_type": "stream",
     "text": [
      "| l = 0 |[0.08436835]|   2.4%     |\n",
      "\n"
     ]
    }
   ],
   "source": [
    "logreg(DTR_g, LTR, DTE_g, LTE, 0)"
   ]
  },
  {
   "cell_type": "code",
   "execution_count": 6,
   "metadata": {},
   "outputs": [
    {
     "name": "stdout",
     "output_type": "stream",
     "text": [
      "| l = 0.1 |[0.16196515]|   4.3%     |\n",
      "\n"
     ]
    }
   ],
   "source": [
    "logreg(DTR_g, LTR, DTE_g, LTE, 0.1)"
   ]
  },
  {
   "cell_type": "code",
   "execution_count": 7,
   "metadata": {},
   "outputs": [
    {
     "name": "stdout",
     "output_type": "stream",
     "text": [
      "| l = 0.01 |[0.1075801]|   2.9%     |\n",
      "\n"
     ]
    }
   ],
   "source": [
    "logreg(DTR_g, LTR, DTE_g, LTE, 0.01)"
   ]
  },
  {
   "cell_type": "code",
   "execution_count": 8,
   "metadata": {},
   "outputs": [
    {
     "name": "stdout",
     "output_type": "stream",
     "text": [
      "| l = 0.001 |[0.09114929]|   2.5%     |\n",
      "\n"
     ]
    }
   ],
   "source": [
    "logreg(DTR_g, LTR, DTE_g, LTE, 0.001)"
   ]
  },
  {
   "cell_type": "code",
   "execution_count": 9,
   "metadata": {},
   "outputs": [
    {
     "name": "stdout",
     "output_type": "stream",
     "text": [
      "| l = 1e-05 |[0.08455873]|   2.4%     |\n",
      "\n"
     ]
    }
   ],
   "source": [
    "logreg(DTR_g, LTR, DTE_g, LTE, 0.00001)"
   ]
  },
  {
   "cell_type": "code",
   "execution_count": 11,
   "metadata": {},
   "outputs": [
    {
     "name": "stdout",
     "output_type": "stream",
     "text": [
      "| lambda = 1e-08 |[0.08436856]|   2.4%     |\n",
      "\n"
     ]
    }
   ],
   "source": [
    "logreg(DTR_g, LTR, DTE_g, LTE, 0.00000001)"
   ]
  },
  {
   "cell_type": "code",
   "execution_count": 14,
   "metadata": {},
   "outputs": [
    {
     "name": "stdout",
     "output_type": "stream",
     "text": [
      "| lambda = 0 |[0.07299565]|   2.2%     |\n",
      "\n"
     ]
    }
   ],
   "source": [
    "logreg(DTR_z, LTR, DTE_z, LTE, 0)"
   ]
  },
  {
   "cell_type": "code",
   "execution_count": 15,
   "metadata": {},
   "outputs": [
    {
     "name": "stdout",
     "output_type": "stream",
     "text": [
      "| lambda = 0.1 |[0.14874581]|   4.1%     |\n",
      "\n",
      "| lambda = 0.01 |[0.10062142]|   2.9%     |\n",
      "\n",
      "| lambda = 0.001 |[0.08311847]|   2.5%     |\n",
      "\n",
      "| lambda = 1e-05 |[0.07334328]|   2.2%     |\n",
      "\n"
     ]
    }
   ],
   "source": [
    "logreg(DTR_z, LTR, DTE_z, LTE, 0.1)\n",
    "logreg(DTR_z, LTR, DTE_z, LTE, 0.01)\n",
    "logreg(DTR_z, LTR, DTE_z, LTE, 0.001)\n",
    "logreg(DTR_z, LTR, DTE_z, LTE, 0.00001)"
   ]
  },
  {
   "cell_type": "code",
   "execution_count": 16,
   "metadata": {},
   "outputs": [
    {
     "name": "stdout",
     "output_type": "stream",
     "text": [
      "| lambda = 1e-07 |[0.07299922]|   2.2%     |\n",
      "\n"
     ]
    }
   ],
   "source": [
    "logreg(DTR_z, LTR, DTE_z, LTE, 0.0000001)"
   ]
  },
  {
   "cell_type": "code",
   "execution_count": 17,
   "metadata": {},
   "outputs": [],
   "source": [
    "def logreg_mod1(DTR, LTR, DTE, LTE, l, app, ROC=False):\n",
    "    logreg_obj = logreg_obj_wrap(DTR, LTR, l)\n",
    "    v = numpy.zeros((DTR.shape[0]+1), dtype='int32')\n",
    "    x, f, d = fmin_l_bfgs_b(logreg_obj, v, approx_grad=True)\n",
    "    w, b = x[0:-1], x[-1]\n",
    "    \n",
    "    w = ml.mcol(w)\n",
    "    S = numpy.zeros((DTE.shape[1]))\n",
    "    for i in range(len(S)):\n",
    "        S[i] = numpy.dot(w.T, DTE[:, i]) + b\n",
    "\n",
    "    CM = ml.compute_optimal_B_decision(app, S, LTE)\n",
    "\n",
    "    app_bayes_risk=ml.compute_Bayes_risk(CM, app)\n",
    "    DCF = ml.compute_norm_Bayes(app_bayes_risk, app)\n",
    "\n",
    "    minDCF= ml.compute_min_DCF(S, app, LTE)\n",
    "    error = 1-(CM[0, 0]+CM[1,1])/(len(LTE))\n",
    "    if(ROC == True):\n",
    "        ml.plot_ROC(app, S, LTE)\n",
    "\n",
    "    print(\"\\-/ \\-/ \\-/ \\-/ \\-/ \")\n",
    "    print(\"Logistic Regression error:\", error)\n",
    "    print(app,\"DCF:\", DCF, \"minDCF:\", minDCF)\n",
    "    print('CM\\n', CM)\n",
    "    print(\"/-\\ /-\\ /-\\ /-\\ /-\\ \")\n"
   ]
  },
  {
   "cell_type": "code",
   "execution_count": 6,
   "metadata": {},
   "outputs": [
    {
     "data": {
      "image/png": "[encoded data removed]",
      "text/plain": [
       "<Figure size 432x288 with 1 Axes>"
      ]
     },
     "metadata": {
      "needs_background": "light"
     },
     "output_type": "display_data"
    },
    {
     "name": "stdout",
     "output_type": "stream",
     "text": [
      "\\-/ \\-/ \\-/ \\-/ \\-/ \n",
      "Logistic Regression error: 0.023513604299630453\n",
      "[0.5, 1, 1] DCF: 0.16308996702779088 minDCF: 0.1262620281273131\n",
      "CM\n",
      " [[2674.   42.]\n",
      " [  28.  233.]]\n",
      "/-\\ /-\\ /-\\ /-\\ /-\\ \n"
     ]
    }
   ],
   "source": [
    "logreg_mod1(DTR_g, LTR, DTE_g, LTE, 0, [1/2, 1,1], True)"
   ]
  },
  {
   "cell_type": "code",
   "execution_count": 17,
   "metadata": {},
   "outputs": [
    {
     "name": "stdout",
     "output_type": "stream",
     "text": [
      "\\-/ \\-/ \\-/ \\-/ \\-/ \n",
      "Logistic Regression error: 0.029559959690964033\n",
      "[0.1, 1, 1] DCF: 0.31755601911042325 minDCF: 0.2244788372249512\n",
      "CM\n",
      " [[2694.   80.]\n",
      " [   8.  195.]]\n",
      "/-\\ /-\\ /-\\ /-\\ /-\\ \n"
     ]
    }
   ],
   "source": [
    "logreg_mod1(DTR_z, LTR, DTE_z, LTE, 0, [0.1, 1,1], False)"
   ]
  },
  {
   "cell_type": "code",
   "execution_count": 18,
   "metadata": {},
   "outputs": [
    {
     "name": "stdout",
     "output_type": "stream",
     "text": [
      "\\-/ \\-/ \\-/ \\-/ \\-/ \n",
      "Logistic Regression error: 0.03258313738663088\n",
      "[0.9, 1, 1] DCF: 0.8124715698808965 minDCF: 0.5334149788035798\n",
      "CM\n",
      " [[2629.   24.]\n",
      " [  73.  251.]]\n",
      "/-\\ /-\\ /-\\ /-\\ /-\\ \n"
     ]
    }
   ],
   "source": [
    "logreg_mod1(DTR_z, LTR, DTE_z, LTE, 0, [0.9, 1,1], False)"
   ]
  },
  {
   "cell_type": "code",
   "execution_count": 18,
   "metadata": {},
   "outputs": [],
   "source": [
    "def logreg_mod2(DTR, LTR, DTE, LTE, l):\n",
    "    logreg_obj = logreg_obj_wrap(DTR, LTR, l)\n",
    "    v = numpy.zeros((DTR.shape[0]+1), dtype='int32')\n",
    "    x, f, d = fmin_l_bfgs_b(logreg_obj, v, approx_grad=True)\n",
    "    w, b = x[0:-1], x[-1]\n",
    "    \n",
    "    w = ml.mcol(w)\n",
    "    S = numpy.zeros((DTE.shape[1]))\n",
    "    for i in range(len(S)):\n",
    "        S[i] = numpy.dot(w.T, DTE[:, i]) + b\n",
    "\n",
    "    return list(S)"
   ]
  },
  {
   "cell_type": "code",
   "execution_count": 19,
   "metadata": {},
   "outputs": [],
   "source": [
    "def kfold(D, L, fold, l, app):\n",
    "    error = 0\n",
    "    N = int(D.shape[1]/fold) #numero di elementi per ogni fold\n",
    "    numpy.random.seed(0) #imposto il seed del generatore di numeri casuali -> in tal modo genererò la stessa sequenza di numeri casuali aventi seed uguale\n",
    "    indexes = numpy.random.permutation(D.shape[1]) #genero una sequenza di numeri casuali che vanno da 0 al num_di_campioni\n",
    "    \n",
    "    LTE_final = []\n",
    "    llr_final = []\n",
    "    for j in range(fold):\n",
    "        test_indexes = indexes[(j*N):((j+1)*N)] #selezioni gli indici che identificano i campioni (casuali) del test set\n",
    "        if(j > 0): #se il test set non è preso dalla prima fold (--> il test set è una fold intermedia o l'ultima fold)\n",
    "            left_indexes = indexes[0:(j*N)] #allora prendo tutti gli indici che stanno a sinistra di tale fold\n",
    "        else: #se il test set è preso dalla prima fold\n",
    "            right_indexes = indexes[((j+1)*N):] #prendo tutti gli indici a destra della prima fold\n",
    "\n",
    "        if(j == 0): #se il test set è preso dalla prima fold\n",
    "            train_indexes = right_indexes #assegno agli indici di training quelli che stanno a destra della prima fold\n",
    "        elif(j == fold-1): #se il test set è preso dall'ultima fold\n",
    "            train_indexes = left_indexes #assegno agli indici di training quelli che stanno a sinistra dell'ultima fold\n",
    "        else: #in questo caso il test set è preso da una fold intermedia\n",
    "            train_indexes = numpy.hstack((left_indexes, right_indexes)) #pertanto assegno agli indici di training quelli appartenenti alle fold di sinistra e di destra\n",
    "\n",
    "        DTR = D[:, train_indexes]  #definisco insieme di training e di testing\n",
    "        LTR = L[train_indexes]\n",
    "        DTE = D[:, test_indexes]\n",
    "        LTE = L[test_indexes]\n",
    "        LTE_final.extend(LTE)\n",
    "        llr_final.extend(logreg_mod2(DTR, LTR, DTE, LTE, l))\n",
    "        \n",
    "    CM = ml.compute_optimal_B_decision(app, llr_final, LTE_final)\n",
    "    sensitivity = (1-ml.compute_FNR(CM)) # TPR\n",
    "    specificity = (1-ml.compute_FPR(CM)) # TNR\n",
    "        \n",
    "    app_bayes_risk=ml.compute_Bayes_risk(CM, app)\n",
    "    DCF = ml.compute_norm_Bayes(app_bayes_risk, app)\n",
    "\n",
    "    minDCF= ml.compute_min_DCF(llr_final, app, LTE_final)\n",
    "    error = 1-(CM[0, 0]+CM[1,1])/(len(LTE_final))\n",
    "\n",
    "    print(\"\\-/ \\-/ \\-/ \\-/ \\-/ \")\n",
    "    print(\"Logistic Regression error:\", error)\n",
    "    print(app,\"DCF:\", DCF, \"minDCF:\", minDCF)\n",
    "    print('Sensitivity (TPR):', sensitivity, ' Specificity (TNR): ', specificity)\n",
    "    print('CM\\n', CM)\n",
    "    print(\"/-\\ /-\\ /-\\ /-\\ /-\\ \")"
   ]
  },
  {
   "cell_type": "code",
   "execution_count": 20,
   "metadata": {},
   "outputs": [],
   "source": [
    "d_g = ml.gaussianize(Data)\n",
    "d_z = ml.z_normalization(Data)"
   ]
  },
  {
   "cell_type": "code",
   "execution_count": 8,
   "metadata": {},
   "outputs": [
    {
     "name": "stdout",
     "output_type": "stream",
     "text": [
      "\\-/ \\-/ \\-/ \\-/ \\-/ \n",
      "Logistic Regression error: 0.021848739495798353\n",
      "[0.5, 1, 1] DCF: 0.15979642840395203 minDCF: 0.12756260573566774\n",
      "Sensitivity (TPR): 0.8489646772228989  Specificity (TNR):  0.991238894373149\n",
      "CM\n",
      " [[8033.  124.]\n",
      " [  71.  697.]]\n",
      "/-\\ /-\\ /-\\ /-\\ /-\\ \n"
     ]
    }
   ],
   "source": [
    "kfold(d_g, label, 5, 0, [0.5, 1, 1])"
   ]
  },
  {
   "cell_type": "code",
   "execution_count": 9,
   "metadata": {
    "scrolled": true
   },
   "outputs": [
    {
     "name": "stdout",
     "output_type": "stream",
     "text": [
      "\\-/ \\-/ \\-/ \\-/ \\-/ \n",
      "Logistic Regression error: 0.02140056022408965\n",
      "[0.5, 1, 1] DCF: 0.18338472572753955 minDCF: 0.11256422295782118\n",
      "Sensitivity (TPR): 0.8221680876979294  Specificity (TNR):  0.9944471865745311\n",
      "CM\n",
      " [[8059.  146.]\n",
      " [  45.  675.]]\n",
      "/-\\ /-\\ /-\\ /-\\ /-\\ \n"
     ]
    }
   ],
   "source": [
    "kfold(d_z, label, 5, 0, [0.5, 1, 1])"
   ]
  },
  {
   "cell_type": "code",
   "execution_count": 10,
   "metadata": {},
   "outputs": [
    {
     "name": "stdout",
     "output_type": "stream",
     "text": [
      "\\-/ \\-/ \\-/ \\-/ \\-/ \n",
      "Logistic Regression error: 0.02789915966386558\n",
      "[0.9, 1, 1] DCF: 0.8653166569072221 minDCF: 0.5450333243955258\n",
      "Sensitivity (TPR): 0.9062119366626066  Specificity (TNR):  0.9787759131293189\n",
      "CM\n",
      " [[7932.   77.]\n",
      " [ 172.  744.]]\n",
      "/-\\ /-\\ /-\\ /-\\ /-\\ \n"
     ]
    }
   ],
   "source": [
    "kfold(d_z, label, 5, 0, [0.9, 1, 1])"
   ]
  },
  {
   "cell_type": "code",
   "execution_count": 11,
   "metadata": {},
   "outputs": [
    {
     "name": "stdout",
     "output_type": "stream",
     "text": [
      "\\-/ \\-/ \\-/ \\-/ \\-/ \n",
      "Logistic Regression error: 0.057591036414565866\n",
      "[0.9, 1, 1] DCF: 0.7571115690902556 minDCF: 0.5245061761052722\n",
      "Sensitivity (TPR): 0.9220462850182705  Specificity (TNR):  0.944471865745311\n",
      "CM\n",
      " [[7654.   64.]\n",
      " [ 450.  757.]]\n",
      "/-\\ /-\\ /-\\ /-\\ /-\\ \n"
     ]
    }
   ],
   "source": [
    "kfold(d_g, label, 5, 0, [0.9, 1, 1])"
   ]
  },
  {
   "cell_type": "code",
   "execution_count": 11,
   "metadata": {},
   "outputs": [
    {
     "name": "stdout",
     "output_type": "stream",
     "text": [
      "\\-/ \\-/ \\-/ \\-/ \\-/ \n",
      "Logistic Regression error: 0.050420168067226934\n",
      "[0.1, 1, 1] DCF: 0.547359809684816 minDCF: 0.22719837003245266\n",
      "Sensitivity (TPR): 0.46041412911084045  Specificity (TNR):  0.9991362290227048\n",
      "CM\n",
      " [[8.097e+03 4.430e+02]\n",
      " [7.000e+00 3.780e+02]]\n",
      "/-\\ /-\\ /-\\ /-\\ /-\\ \n"
     ]
    }
   ],
   "source": [
    "kfold(d_g, label, 5, 0, [0.1, 1, 1])"
   ]
  },
  {
   "cell_type": "code",
   "execution_count": 12,
   "metadata": {},
   "outputs": [
    {
     "name": "stdout",
     "output_type": "stream",
     "text": [
      "\\-/ \\-/ \\-/ \\-/ \\-/ \n",
      "Logistic Regression error: 0.029131652661064433\n",
      "[0.1, 1, 1] DCF: 0.3148600772178488 minDCF: 0.2108267011193101\n",
      "Sensitivity (TPR): 0.7040194884287454  Specificity (TNR):  0.9979022704837117\n",
      "CM\n",
      " [[8087.  243.]\n",
      " [  17.  578.]]\n",
      "/-\\ /-\\ /-\\ /-\\ /-\\ \n"
     ]
    }
   ],
   "source": [
    "kfold(d_z, label, 5, 0, [0.1, 1, 1])"
   ]
  },
  {
   "cell_type": "code",
   "execution_count": 7,
   "metadata": {},
   "outputs": [
    {
     "data": {
      "image/png": "[encoded data removed]",
      "text/plain": [
       "<Figure size 432x288 with 1 Axes>"
      ]
     },
     "metadata": {
      "needs_background": "light"
     },
     "output_type": "display_data"
    }
   ],
   "source": [
    "U = ml.PCAplot(Data)"
   ]
  },
  {
   "cell_type": "code",
   "execution_count": 8,
   "metadata": {},
   "outputs": [
    {
     "data": {
      "image/png": "[encoded data removed]",
      "text/plain": [
       "<Figure size 432x288 with 1 Axes>"
      ]
     },
     "metadata": {
      "needs_background": "light"
     },
     "output_type": "display_data"
    }
   ],
   "source": [
    "Data_pca = ml.PCA(Data, label, U, 5)"
   ]
  },
  {
   "cell_type": "code",
   "execution_count": 10,
   "metadata": {},
   "outputs": [
    {
     "name": "stderr",
     "output_type": "stream",
     "text": [
      "<ipython-input-2-273db2ebf8db>:15: RuntimeWarning: overflow encountered in exp\n",
      "  J += (c * numpy.log1p(numpy.exp(numpy.dot(-w.T, x[:, idx]) - b)) + (1 - c) * numpy.log1p(numpy.exp(numpy.dot(w.T, x[:, idx]) + b)))\n",
      "<ipython-input-2-273db2ebf8db>:15: RuntimeWarning: invalid value encountered in multiply\n",
      "  J += (c * numpy.log1p(numpy.exp(numpy.dot(-w.T, x[:, idx]) - b)) + (1 - c) * numpy.log1p(numpy.exp(numpy.dot(w.T, x[:, idx]) + b)))\n"
     ]
    },
    {
     "name": "stdout",
     "output_type": "stream",
     "text": [
      "\\-/ \\-/ \\-/ \\-/ \\-/ \n",
      "Logistic Regression error: 0.09198879551820727\n",
      "[0.1, 1, 1] DCF: 1.0 minDCF: 1.0\n",
      "Sensitivity (TPR): 0.0  Specificity (TNR):  1.0\n",
      "CM\n",
      " [[8104.  821.]\n",
      " [   0.    0.]]\n",
      "/-\\ /-\\ /-\\ /-\\ /-\\ \n"
     ]
    }
   ],
   "source": [
    "kfold(Data_pca, label, 5, 0, [0.1, 1, 1])"
   ]
  },
  {
   "cell_type": "code",
   "execution_count": 21,
   "metadata": {},
   "outputs": [
    {
     "name": "stdout",
     "output_type": "stream",
     "text": [
      "\\-/ \\-/ \\-/ \\-/ \\-/ \n",
      "Logistic Regression error: 0.03966386554621848\n",
      "[0.5, 1, 1] DCF: 0.4224244384511701 minDCF: 0.1666272381092088\n",
      "Sensitivity (TPR): 0.5785627283800243  Specificity (TNR):  0.9990128331688055\n",
      "CM\n",
      " [[8.096e+03 3.460e+02]\n",
      " [8.000e+00 4.750e+02]]\n",
      "/-\\ /-\\ /-\\ /-\\ /-\\ \n",
      "\\-/ \\-/ \\-/ \\-/ \\-/ \n",
      "Logistic Regression error: 0.04112044817927174\n",
      "[0.5, 1, 1] DCF: 0.42512321549455134 minDCF: 0.15794984927970487\n",
      "Sensitivity (TPR): 0.5773447015834348  Specificity (TNR):  0.9975320829220138\n",
      "CM\n",
      " [[8084.  347.]\n",
      " [  20.  474.]]\n",
      "/-\\ /-\\ /-\\ /-\\ /-\\ \n"
     ]
    }
   ],
   "source": [
    "kfold(d_z, label, 5, 0.1, [0.5, 1, 1])\n",
    "kfold(d_g, label, 5, 0.1, [0.5, 1, 1])"
   ]
  },
  {
   "cell_type": "code",
   "execution_count": 22,
   "metadata": {
    "scrolled": true
   },
   "outputs": [
    {
     "name": "stdout",
     "output_type": "stream",
     "text": [
      "\\-/ \\-/ \\-/ \\-/ \\-/ \n",
      "Logistic Regression error: 0.02778711484593832\n",
      "[0.5, 1, 1] DCF: 0.2681370863308055 minDCF: 0.14383492670797296\n",
      "Sensitivity (TPR): 0.7356881851400731  Specificity (TNR):  0.9961747285291214\n",
      "CM\n",
      " [[8073.  217.]\n",
      " [  31.  604.]]\n",
      "/-\\ /-\\ /-\\ /-\\ /-\\ \n",
      "\\-/ \\-/ \\-/ \\-/ \\-/ \n",
      "Logistic Regression error: 0.02577030812324932\n",
      "[0.5, 1, 1] DCF: 0.21556293759686798 minDCF: 0.14748900709774154\n",
      "Sensitivity (TPR): 0.7917174177831913  Specificity (TNR):  0.9927196446199408\n",
      "CM\n",
      " [[8045.  171.]\n",
      " [  59.  650.]]\n",
      "/-\\ /-\\ /-\\ /-\\ /-\\ \n"
     ]
    }
   ],
   "source": [
    "kfold(d_z, label, 5, 0.01, [0.5, 1, 1])\n",
    "kfold(d_g, label, 5, 0.01, [0.5, 1, 1])"
   ]
  },
  {
   "cell_type": "code",
   "execution_count": 23,
   "metadata": {},
   "outputs": [
    {
     "name": "stdout",
     "output_type": "stream",
     "text": [
      "\\-/ \\-/ \\-/ \\-/ \\-/ \n",
      "Logistic Regression error: 0.022296918767507057\n",
      "[0.5, 1, 1] DCF: 0.19312894010025575 minDCF: 0.11157705612662669\n",
      "Sensitivity (TPR): 0.8124238733252132  Specificity (TNR):  0.9944471865745311\n",
      "CM\n",
      " [[8059.  154.]\n",
      " [  45.  667.]]\n",
      "/-\\ /-\\ /-\\ /-\\ /-\\ \n",
      "\\-/ \\-/ \\-/ \\-/ \\-/ \n",
      "Logistic Regression error: 0.022184873949579798\n",
      "[0.5, 1, 1] DCF: 0.16673440162179126 minDCF: 0.129660335251956\n",
      "Sensitivity (TPR): 0.8416565164433618  Specificity (TNR):  0.991609081934847\n",
      "CM\n",
      " [[8036.  130.]\n",
      " [  68.  691.]]\n",
      "/-\\ /-\\ /-\\ /-\\ /-\\ \n"
     ]
    }
   ],
   "source": [
    "kfold(d_z, label, 5, 0.0001, [0.5, 1, 1])\n",
    "kfold(d_g, label, 5, 0.0001, [0.5, 1, 1])"
   ]
  },
  {
   "cell_type": "code",
   "execution_count": 24,
   "metadata": {},
   "outputs": [
    {
     "name": "stdout",
     "output_type": "stream",
     "text": [
      "\\-/ \\-/ \\-/ \\-/ \\-/ \n",
      "Logistic Regression error: 0.09042016806722686\n",
      "[0.1, 1, 1] DCF: 0.9829476248477467 minDCF: 0.28648774818949274\n",
      "Sensitivity (TPR): 0.01705237515225333  Specificity (TNR):  1.0\n",
      "CM\n",
      " [[8104.  807.]\n",
      " [   0.   14.]]\n",
      "/-\\ /-\\ /-\\ /-\\ /-\\ \n",
      "\\-/ \\-/ \\-/ \\-/ \\-/ \n",
      "Logistic Regression error: 0.0654341736694678\n",
      "[0.1, 1, 1] DCF: 0.7111127209852911 minDCF: 0.2675007184314027\n",
      "Sensitivity (TPR): 0.2911084043848965  Specificity (TNR):  0.9997532082922014\n",
      "CM\n",
      " [[8.102e+03 5.820e+02]\n",
      " [2.000e+00 2.390e+02]]\n",
      "/-\\ /-\\ /-\\ /-\\ /-\\ \n",
      "\\-/ \\-/ \\-/ \\-/ \\-/ \n",
      "Logistic Regression error: 0.05120448179271708\n",
      "[0.1, 1, 1] DCF: 0.5558859972609427 minDCF: 0.2301720447820237\n",
      "Sensitivity (TPR): 0.4518879415347138  Specificity (TNR):  0.9991362290227048\n",
      "CM\n",
      " [[8.097e+03 4.500e+02]\n",
      " [7.000e+00 3.710e+02]]\n",
      "/-\\ /-\\ /-\\ /-\\ /-\\ \n"
     ]
    }
   ],
   "source": [
    "kfold(d_g, label, 5, 0.1, [0.1, 1, 1])\n",
    "kfold(d_g, label, 5, 0.01, [0.1, 1, 1])\n",
    "kfold(d_g, label, 5, 0.0001, [0.1, 1, 1])"
   ]
  },
  {
   "cell_type": "code",
   "execution_count": 25,
   "metadata": {},
   "outputs": [
    {
     "name": "stdout",
     "output_type": "stream",
     "text": [
      "\\-/ \\-/ \\-/ \\-/ \\-/ \n",
      "Logistic Regression error: 0.0649859943977591\n",
      "[0.1, 1, 1] DCF: 0.7063480779104288 minDCF: 0.2783198745179896\n",
      "Sensitivity (TPR): 0.29476248477466505  Specificity (TNR):  0.9998766041461007\n",
      "CM\n",
      " [[8.103e+03 5.790e+02]\n",
      " [1.000e+00 2.420e+02]]\n",
      "/-\\ /-\\ /-\\ /-\\ /-\\ \n",
      "\\-/ \\-/ \\-/ \\-/ \\-/ \n",
      "Logistic Regression error: 0.041568627450980444\n",
      "[0.1, 1, 1] DCF: 0.45113569275424353 minDCF: 0.24883638160671323\n",
      "Sensitivity (TPR): 0.556638246041413  Specificity (TNR):  0.9991362290227048\n",
      "CM\n",
      " [[8.097e+03 3.640e+02]\n",
      " [7.000e+00 4.570e+02]]\n",
      "/-\\ /-\\ /-\\ /-\\ /-\\ \n",
      "\\-/ \\-/ \\-/ \\-/ \\-/ \n",
      "Logistic Regression error: 0.03014005602240899\n",
      "[0.1, 1, 1] DCF: 0.3262521748331375 minDCF: 0.21100570777216526\n",
      "Sensitivity (TPR): 0.6881851400730816  Specificity (TNR):  0.998395853899309\n",
      "CM\n",
      " [[8091.  256.]\n",
      " [  13.  565.]]\n",
      "/-\\ /-\\ /-\\ /-\\ /-\\ \n"
     ]
    }
   ],
   "source": [
    "kfold(d_z, label, 5, 0.1, [0.1, 1, 1])\n",
    "kfold(d_z, label, 5, 0.01, [0.1, 1, 1])\n",
    "kfold(d_z, label, 5, 0.0001, [0.1, 1, 1])"
   ]
  },
  {
   "cell_type": "code",
   "execution_count": 26,
   "metadata": {},
   "outputs": [
    {
     "name": "stdout",
     "output_type": "stream",
     "text": [
      "\\-/ \\-/ \\-/ \\-/ \\-/ \n",
      "Logistic Regression error: 0.11731092436974788\n",
      "[0.9, 1, 1] DCF: 0.8553980951648065 minDCF: 0.6057206377987503\n",
      "Sensitivity (TPR): 0.9183922046285018  Specificity (TNR):  0.8790720631786773\n",
      "CM\n",
      " [[7124.   67.]\n",
      " [ 980.  754.]]\n",
      "/-\\ /-\\ /-\\ /-\\ /-\\ \n",
      "\\-/ \\-/ \\-/ \\-/ \\-/ \n",
      "Logistic Regression error: 0.0765266106442577\n",
      "[0.9, 1, 1] DCF: 0.886353921553303 minDCF: 0.532726804886055\n",
      "Sensitivity (TPR): 0.9098660170523751  Specificity (TNR):  0.9248519249753209\n",
      "CM\n",
      " [[7495.   74.]\n",
      " [ 609.  747.]]\n",
      "/-\\ /-\\ /-\\ /-\\ /-\\ \n",
      "\\-/ \\-/ \\-/ \\-/ \\-/ \n",
      "Logistic Regression error: 0.05882352941176472\n",
      "[0.9, 1, 1] DCF: 0.7909854594293673 minDCF: 0.5233756235924457\n",
      "Sensitivity (TPR): 0.9183922046285018  Specificity (TNR):  0.9434846989141165\n",
      "CM\n",
      " [[7646.   67.]\n",
      " [ 458.  754.]]\n",
      "/-\\ /-\\ /-\\ /-\\ /-\\ \n"
     ]
    }
   ],
   "source": [
    "kfold(d_g, label, 5, 0.1, [0.9, 1, 1])\n",
    "kfold(d_g, label, 5, 0.01, [0.9, 1, 1])\n",
    "kfold(d_g, label, 5, 0.0001, [0.9, 1, 1])"
   ]
  },
  {
   "cell_type": "code",
   "execution_count": 27,
   "metadata": {},
   "outputs": [
    {
     "name": "stdout",
     "output_type": "stream",
     "text": [
      "\\-/ \\-/ \\-/ \\-/ \\-/ \n",
      "Logistic Regression error: 0.05647058823529416\n",
      "[0.9, 1, 1] DCF: 1.1243983512750808 minDCF: 0.6162927015786253\n",
      "Sensitivity (TPR): 0.8806333739342266  Specificity (TNR):  0.9499012833168805\n",
      "CM\n",
      " [[7698.   98.]\n",
      " [ 406.  723.]]\n",
      "/-\\ /-\\ /-\\ /-\\ /-\\ \n",
      "\\-/ \\-/ \\-/ \\-/ \\-/ \n",
      "Logistic Regression error: 0.043249299719888\n",
      "[0.9, 1, 1] DCF: 1.0122880326763044 minDCF: 0.567317623633327\n",
      "Sensitivity (TPR): 0.8915956151035322  Specificity (TNR):  0.9633514313919053\n",
      "CM\n",
      " [[7807.   89.]\n",
      " [ 297.  732.]]\n",
      "/-\\ /-\\ /-\\ /-\\ /-\\ \n",
      "\\-/ \\-/ \\-/ \\-/ \\-/ \n",
      "Logistic Regression error: 0.028459383753501433\n",
      "[0.9, 1, 1] DCF: 0.8659336361767187 minDCF: 0.5511031679518273\n",
      "Sensitivity (TPR): 0.9062119366626066  Specificity (TNR):  0.9781589338598223\n",
      "CM\n",
      " [[7927.   77.]\n",
      " [ 177.  744.]]\n",
      "/-\\ /-\\ /-\\ /-\\ /-\\ \n"
     ]
    }
   ],
   "source": [
    "kfold(d_z, label, 5, 0.1, [0.9, 1, 1])\n",
    "kfold(d_z, label, 5, 0.01, [0.9, 1, 1])\n",
    "kfold(d_z, label, 5, 0.0001, [0.9, 1, 1])"
   ]
  },
  {
   "cell_type": "code",
   "execution_count": null,
   "metadata": {},
   "outputs": [],
   "source": []
  }
 ],
 "metadata": {
  "kernelspec": {
   "display_name": "Python 3",
   "language": "python",
   "name": "python3"
  },
  "language_info": {
   "codemirror_mode": {
    "name": "ipython",
    "version": 3
   },
   "file_extension": ".py",
   "mimetype": "text/x-python",
   "name": "python",
   "nbconvert_exporter": "python",
   "pygments_lexer": "ipython3",
   "version": "3.8.5"
  }
 },
 "nbformat": 4,
 "nbformat_minor": 4
}
