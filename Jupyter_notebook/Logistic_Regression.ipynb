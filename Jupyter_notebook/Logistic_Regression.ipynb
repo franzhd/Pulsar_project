{
 "cells": [
  {
   "cell_type": "code",
   "execution_count": 1,
   "metadata": {},
   "outputs": [],
   "source": [
    "import numpy as np\n",
    "import scipy\n",
    "import numpy \n",
    "import matplotlib.pyplot as plt\n",
    "from scipy import linalg, special, stats\n",
    "from numpy import genfromtxt\n",
    "import ML_support as ml\n",
    "from scipy.optimize import fmin_l_bfgs_b"
   ]
  },
  {
   "cell_type": "code",
   "execution_count": 2,
   "metadata": {},
   "outputs": [],
   "source": [
    "def logreg_obj_wrap(DTR, LTR, l):\n",
    "\n",
    "    def logreg_obj(v):\n",
    "        n = DTR.shape[1]\n",
    "        w, b = v[0:-1], v[-1]\n",
    "        w = w.reshape((len(w), 1))\n",
    "        J = 0\n",
    "        x = DTR\n",
    "        for idx in range(n):\n",
    "            if LTR[idx] == 0:\n",
    "                c = 0\n",
    "            else:\n",
    "                c = 1\n",
    "\n",
    "            J += (c * numpy.log1p(numpy.exp(numpy.dot(-w.T, x[:, idx]) - b)) + (1 - c) * numpy.log1p(numpy.exp(numpy.dot(w.T, x[:, idx]) + b)))\n",
    "\n",
    "        return l/2 * ((numpy.linalg.norm(w))**2) + 1/n * J\n",
    "\n",
    "    return logreg_obj"
   ]
  },
  {
   "cell_type": "code",
   "execution_count": 10,
   "metadata": {},
   "outputs": [],
   "source": [
    "def logreg(DTR, LTR, DTE, LTE, l):\n",
    "    logreg_obj = logreg_obj_wrap(DTR, LTR, l)\n",
    "    v = numpy.zeros((DTR.shape[0]+1), dtype='int32')\n",
    "    x, f, d = fmin_l_bfgs_b(logreg_obj, v, approx_grad=True)\n",
    "    w, b = x[0:-1], x[-1]\n",
    "    \n",
    "    w = ml.mcol(w)\n",
    "    S = numpy.zeros((DTE.shape[1]))\n",
    "    for i in range(len(S)):\n",
    "        S[i] = numpy.dot(w.T, DTE[:, i]) + b\n",
    "\n",
    "    PL = numpy.zeros((len(LTE)))\n",
    "\n",
    "    for i in range(len(S)):\n",
    "        if(S[i] > 0):\n",
    "            PL[i] = 1\n",
    "\n",
    "    PL = PL == LTE\n",
    "    correctPred = sum(PL)\n",
    "\n",
    "    e = (len(LTE)-correctPred)/len(LTE)\n",
    "    print(f'| lambda = {l} |{logreg_obj(x)}|   {round(e*100, 1)}%     |\\n')\n",
    "        "
   ]
  },
  {
   "cell_type": "code",
   "execution_count": 4,
   "metadata": {},
   "outputs": [],
   "source": [
    "Data, label = ml.loadFile('../Train.txt')\n",
    "(DTR, LTR), (DTE,LTE) = ml.split_db_2to1(Data, label, seed=42)\n",
    "DTR_g, DTE_g = ml.gaussianize(DTR), ml.gaussianize(DTE)\n",
    "DTR_z, DTE_z = ml.z_normalization(DTR), ml.z_normalization(DTE)\n"
   ]
  },
  {
   "cell_type": "code",
   "execution_count": 5,
   "metadata": {
    "scrolled": true
   },
   "outputs": [
    {
     "name": "stdout",
     "output_type": "stream",
     "text": [
      "| l = 0 |[0.08436835]|   2.4%     |\n",
      "\n"
     ]
    }
   ],
   "source": [
    "logreg(DTR_g, LTR, DTE_g, LTE, 0)"
   ]
  },
  {
   "cell_type": "code",
   "execution_count": 6,
   "metadata": {},
   "outputs": [
    {
     "name": "stdout",
     "output_type": "stream",
     "text": [
      "| l = 0.1 |[0.16196515]|   4.3%     |\n",
      "\n"
     ]
    }
   ],
   "source": [
    "logreg(DTR_g, LTR, DTE_g, LTE, 0.1)"
   ]
  },
  {
   "cell_type": "code",
   "execution_count": 7,
   "metadata": {},
   "outputs": [
    {
     "name": "stdout",
     "output_type": "stream",
     "text": [
      "| l = 0.01 |[0.1075801]|   2.9%     |\n",
      "\n"
     ]
    }
   ],
   "source": [
    "logreg(DTR_g, LTR, DTE_g, LTE, 0.01)"
   ]
  },
  {
   "cell_type": "code",
   "execution_count": 8,
   "metadata": {},
   "outputs": [
    {
     "name": "stdout",
     "output_type": "stream",
     "text": [
      "| l = 0.001 |[0.09114929]|   2.5%     |\n",
      "\n"
     ]
    }
   ],
   "source": [
    "logreg(DTR_g, LTR, DTE_g, LTE, 0.001)"
   ]
  },
  {
   "cell_type": "code",
   "execution_count": 9,
   "metadata": {},
   "outputs": [
    {
     "name": "stdout",
     "output_type": "stream",
     "text": [
      "| l = 1e-05 |[0.08455873]|   2.4%     |\n",
      "\n"
     ]
    }
   ],
   "source": [
    "logreg(DTR_g, LTR, DTE_g, LTE, 0.00001)"
   ]
  },
  {
   "cell_type": "code",
   "execution_count": 11,
   "metadata": {},
   "outputs": [
    {
     "name": "stdout",
     "output_type": "stream",
     "text": [
      "| lambda = 1e-08 |[0.08436856]|   2.4%     |\n",
      "\n"
     ]
    }
   ],
   "source": [
    "logreg(DTR_g, LTR, DTE_g, LTE, 0.00000001)"
   ]
  },
  {
   "cell_type": "code",
   "execution_count": 14,
   "metadata": {},
   "outputs": [
    {
     "name": "stdout",
     "output_type": "stream",
     "text": [
      "| lambda = 0 |[0.07299565]|   2.2%     |\n",
      "\n"
     ]
    }
   ],
   "source": [
    "logreg(DTR_z, LTR, DTE_z, LTE, 0)"
   ]
  },
  {
   "cell_type": "code",
   "execution_count": 15,
   "metadata": {},
   "outputs": [
    {
     "name": "stdout",
     "output_type": "stream",
     "text": [
      "| lambda = 0.1 |[0.14874581]|   4.1%     |\n",
      "\n",
      "| lambda = 0.01 |[0.10062142]|   2.9%     |\n",
      "\n",
      "| lambda = 0.001 |[0.08311847]|   2.5%     |\n",
      "\n",
      "| lambda = 1e-05 |[0.07334328]|   2.2%     |\n",
      "\n"
     ]
    }
   ],
   "source": [
    "logreg(DTR_z, LTR, DTE_z, LTE, 0.1)\n",
    "logreg(DTR_z, LTR, DTE_z, LTE, 0.01)\n",
    "logreg(DTR_z, LTR, DTE_z, LTE, 0.001)\n",
    "logreg(DTR_z, LTR, DTE_z, LTE, 0.00001)"
   ]
  },
  {
   "cell_type": "code",
   "execution_count": 16,
   "metadata": {},
   "outputs": [
    {
     "name": "stdout",
     "output_type": "stream",
     "text": [
      "| lambda = 1e-07 |[0.07299922]|   2.2%     |\n",
      "\n"
     ]
    }
   ],
   "source": [
    "logreg(DTR_z, LTR, DTE_z, LTE, 0.0000001)"
   ]
  },
  {
   "cell_type": "code",
   "execution_count": 5,
   "metadata": {},
   "outputs": [],
   "source": [
    "def logreg_mod1(DTR, LTR, DTE, LTE, l, app, ROC=False):\n",
    "    logreg_obj = logreg_obj_wrap(DTR, LTR, l)\n",
    "    v = numpy.zeros((DTR.shape[0]+1), dtype='int32')\n",
    "    x, f, d = fmin_l_bfgs_b(logreg_obj, v, approx_grad=True)\n",
    "    w, b = x[0:-1], x[-1]\n",
    "    \n",
    "    w = ml.mcol(w)\n",
    "    S = numpy.zeros((DTE.shape[1]))\n",
    "    for i in range(len(S)):\n",
    "        S[i] = numpy.dot(w.T, DTE[:, i]) + b\n",
    "\n",
    "    CM = ml.compute_optimal_B_decision(app, S, LTE)\n",
    "\n",
    "    app_bayes_risk=ml.compute_Bayes_risk(CM, app)\n",
    "    DCF = ml.compute_norm_Bayes(app_bayes_risk, app)\n",
    "\n",
    "    minDCF= ml.compute_min_DCF(S, app, LTE)\n",
    "    error = 1-(CM[0, 0]+CM[1,1])/(len(LTE))\n",
    "    if(ROC == True):\n",
    "        ml.plot_ROC(app, S, LTE)\n",
    "\n",
    "    print(\"\\-/ \\-/ \\-/ \\-/ \\-/ \")\n",
    "    print(\"Logistic Regression error:\", error)\n",
    "    print(app,\"DCF:\", DCF, \"minDCF:\", minDCF)\n",
    "    print('CM\\n', CM)\n",
    "    print(\"/-\\ /-\\ /-\\ /-\\ /-\\ \")\n"
   ]
  },
  {
   "cell_type": "code",
   "execution_count": 6,
   "metadata": {},
   "outputs": [
    {
     "data": {
      "image/png": "[encoded data removed]",
      "text/plain": [
       "<Figure size 432x288 with 1 Axes>"
      ]
     },
     "metadata": {
      "needs_background": "light"
     },
     "output_type": "display_data"
    },
    {
     "name": "stdout",
     "output_type": "stream",
     "text": [
      "\\-/ \\-/ \\-/ \\-/ \\-/ \n",
      "Logistic Regression error: 0.023513604299630453\n",
      "[0.5, 1, 1] DCF: 0.16308996702779088 minDCF: 0.1262620281273131\n",
      "CM\n",
      " [[2674.   42.]\n",
      " [  28.  233.]]\n",
      "/-\\ /-\\ /-\\ /-\\ /-\\ \n"
     ]
    }
   ],
   "source": [
    "logreg_mod1(DTR_g, LTR, DTE_g, LTE, 0, [1/2, 1,1], True)"
   ]
  },
  {
   "cell_type": "code",
   "execution_count": 7,
   "metadata": {},
   "outputs": [
    {
     "data": {
      "image/png": "[encoded data removed]",
      "text/plain": [
       "<Figure size 432x288 with 1 Axes>"
      ]
     },
     "metadata": {
      "needs_background": "light"
     },
     "output_type": "display_data"
    },
    {
     "name": "stdout",
     "output_type": "stream",
     "text": [
      "\\-/ \\-/ \\-/ \\-/ \\-/ \n",
      "Logistic Regression error: 0.028552233792408455\n",
      "[0.7, 1, 1] DCF: 0.2830154991813022 minDCF: 0.22048224659623622\n",
      "CM\n",
      " [[2648.   31.]\n",
      " [  54.  244.]]\n",
      "/-\\ /-\\ /-\\ /-\\ /-\\ \n"
     ]
    }
   ],
   "source": [
    "logreg_mod1(DTR_g, LTR, DTE_g, LTE, 0, [0.7, 1,1], True)"
   ]
  },
  {
   "cell_type": "code",
   "execution_count": 8,
   "metadata": {},
   "outputs": [
    {
     "data": {
      "image/png": "[encoded data removed]",
      "text/plain": [
       "<Figure size 432x288 with 1 Axes>"
      ]
     },
     "metadata": {
      "needs_background": "light"
     },
     "output_type": "display_data"
    },
    {
     "name": "stdout",
     "output_type": "stream",
     "text": [
      "\\-/ \\-/ \\-/ \\-/ \\-/ \n",
      "Logistic Regression error: 0.06785354383607656\n",
      "[0.5, 10, 1] DCF: 0.7586367000874773 minDCF: 0.4797456429580782\n",
      "CM\n",
      " [[2519.   19.]\n",
      " [ 183.  256.]]\n",
      "/-\\ /-\\ /-\\ /-\\ /-\\ \n"
     ]
    }
   ],
   "source": [
    "logreg_mod1(DTR_g, LTR, DTE_g, LTE, 0, [0.5, 10,1], True)"
   ]
  },
  {
   "cell_type": "code",
   "execution_count": 10,
   "metadata": {},
   "outputs": [
    {
     "data": {
      "image/png": "[encoded data removed]",
      "text/plain": [
       "<Figure size 432x288 with 1 Axes>"
      ]
     },
     "metadata": {
      "needs_background": "light"
     },
     "output_type": "display_data"
    },
    {
     "name": "stdout",
     "output_type": "stream",
     "text": [
      "\\-/ \\-/ \\-/ \\-/ \\-/ \n",
      "Logistic Regression error: 0.055424924420557575\n",
      "[0.6, 5, 1] DCF: 0.6260211291299375 minDCF: 0.43429109750353273\n",
      "CM\n",
      " [[2558.   21.]\n",
      " [ 144.  254.]]\n",
      "/-\\ /-\\ /-\\ /-\\ /-\\ \n"
     ]
    }
   ],
   "source": [
    "logreg_mod1(DTR_g, LTR, DTE_g, LTE, 0, [0.6, 5,1], True)"
   ]
  },
  {
   "cell_type": "code",
   "execution_count": 11,
   "metadata": {},
   "outputs": [
    {
     "name": "stdout",
     "output_type": "stream",
     "text": [
      "\\-/ \\-/ \\-/ \\-/ \\-/ \n",
      "Logistic Regression error: 0.09439032583137386\n",
      "[0.9, 2, 1] DCF: 1.2104326761321582 minDCF: 0.5091999192517327\n",
      "CM\n",
      " [[2438.   17.]\n",
      " [ 264.  258.]]\n",
      "/-\\ /-\\ /-\\ /-\\ /-\\ \n"
     ]
    }
   ],
   "source": [
    "logreg_mod1(DTR_g, LTR, DTE_g, LTE, 0, [0.9, 2,1], False)"
   ]
  },
  {
   "cell_type": "code",
   "execution_count": 12,
   "metadata": {},
   "outputs": [
    {
     "data": {
      "image/png": "[encoded data removed]",
      "text/plain": [
       "<Figure size 432x288 with 1 Axes>"
      ]
     },
     "metadata": {
      "needs_background": "light"
     },
     "output_type": "display_data"
    },
    {
     "name": "stdout",
     "output_type": "stream",
     "text": [
      "\\-/ \\-/ \\-/ \\-/ \\-/ \n",
      "Logistic Regression error: 0.022505878401074875\n",
      "[0.7, 1, 1] DCF: 0.3575012897292689 minDCF: 0.2286243635466433\n",
      "CM\n",
      " [[2676.   41.]\n",
      " [  26.  234.]]\n",
      "/-\\ /-\\ /-\\ /-\\ /-\\ \n"
     ]
    }
   ],
   "source": [
    "logreg_mod1(DTR_z, LTR, DTE_z, LTE, 0, [0.7, 1,1], True)"
   ]
  },
  {
   "cell_type": "code",
   "execution_count": 13,
   "metadata": {},
   "outputs": [
    {
     "data": {
      "image/png": "[encoded data removed]",
      "text/plain": [
       "<Figure size 432x288 with 1 Axes>"
      ]
     },
     "metadata": {
      "needs_background": "light"
     },
     "output_type": "display_data"
    },
    {
     "name": "stdout",
     "output_type": "stream",
     "text": [
      "\\-/ \\-/ \\-/ \\-/ \\-/ \n",
      "Logistic Regression error: 0.022169969768223052\n",
      "[0.5, 1, 1] DCF: 0.1877397214184779 minDCF: 0.11428975169907812\n",
      "CM\n",
      " [[2686.   50.]\n",
      " [  16.  225.]]\n",
      "/-\\ /-\\ /-\\ /-\\ /-\\ \n"
     ]
    }
   ],
   "source": [
    "logreg_mod1(DTR_z, LTR, DTE_z, LTE, 0, [0.5, 1,1], True)"
   ]
  },
  {
   "cell_type": "code",
   "execution_count": 15,
   "metadata": {},
   "outputs": [
    {
     "name": "stdout",
     "output_type": "stream",
     "text": [
      "\\-/ \\-/ \\-/ \\-/ \\-/ \n",
      "Logistic Regression error: 0.03527040644944579\n",
      "[0.5, 10, 1] DCF: 0.9027050669537717 minDCF: 0.5443240697126708\n",
      "CM\n",
      " [[2621.   24.]\n",
      " [  81.  251.]]\n",
      "/-\\ /-\\ /-\\ /-\\ /-\\ \n"
     ]
    }
   ],
   "source": [
    "logreg_mod1(DTR_z, LTR, DTE_z, LTE, 0, [0.5, 10,1], False)"
   ]
  },
  {
   "cell_type": "code",
   "execution_count": 16,
   "metadata": {},
   "outputs": [
    {
     "name": "stdout",
     "output_type": "stream",
     "text": [
      "\\-/ \\-/ \\-/ \\-/ \\-/ \n",
      "Logistic Regression error: 0.03157541148807519\n",
      "[0.5, 1, 10] DCF: 0.34233497072875313 minDCF: 0.23408384361752238\n",
      "CM\n",
      " [[2694.   86.]\n",
      " [   8.  189.]]\n",
      "/-\\ /-\\ /-\\ /-\\ /-\\ \n"
     ]
    }
   ],
   "source": [
    "logreg_mod1(DTR_z, LTR, DTE_z, LTE, 0, [0.5, 1,10], False)"
   ]
  },
  {
   "cell_type": "code",
   "execution_count": 17,
   "metadata": {},
   "outputs": [
    {
     "name": "stdout",
     "output_type": "stream",
     "text": [
      "\\-/ \\-/ \\-/ \\-/ \\-/ \n",
      "Logistic Regression error: 0.029559959690964033\n",
      "[0.1, 1, 1] DCF: 0.31755601911042325 minDCF: 0.2244788372249512\n",
      "CM\n",
      " [[2694.   80.]\n",
      " [   8.  195.]]\n",
      "/-\\ /-\\ /-\\ /-\\ /-\\ \n"
     ]
    }
   ],
   "source": [
    "logreg_mod1(DTR_z, LTR, DTE_z, LTE, 0, [0.1, 1,1], False)"
   ]
  },
  {
   "cell_type": "code",
   "execution_count": 18,
   "metadata": {},
   "outputs": [
    {
     "name": "stdout",
     "output_type": "stream",
     "text": [
      "\\-/ \\-/ \\-/ \\-/ \\-/ \n",
      "Logistic Regression error: 0.03258313738663088\n",
      "[0.9, 1, 1] DCF: 0.8124715698808965 minDCF: 0.5334149788035798\n",
      "CM\n",
      " [[2629.   24.]\n",
      " [  73.  251.]]\n",
      "/-\\ /-\\ /-\\ /-\\ /-\\ \n"
     ]
    }
   ],
   "source": [
    "logreg_mod1(DTR_z, LTR, DTE_z, LTE, 0, [0.9, 1,1], False)"
   ]
  },
  {
   "cell_type": "code",
   "execution_count": 19,
   "metadata": {},
   "outputs": [
    {
     "name": "stdout",
     "output_type": "stream",
     "text": [
      "\\-/ \\-/ \\-/ \\-/ \\-/ \n",
      "Logistic Regression error: 0.04030903594222368\n",
      "[0.8, 3, 1] DCF: 1.0828019648745042 minDCF: 0.5661422515308525\n",
      "CM\n",
      " [[2606.   24.]\n",
      " [  96.  251.]]\n",
      "/-\\ /-\\ /-\\ /-\\ /-\\ \n"
     ]
    }
   ],
   "source": [
    "logreg_mod1(DTR_z, LTR, DTE_z, LTE, 0, [0.8, 3,1], False)"
   ]
  },
  {
   "cell_type": "code",
   "execution_count": 20,
   "metadata": {},
   "outputs": [
    {
     "name": "stdout",
     "output_type": "stream",
     "text": [
      "\\-/ \\-/ \\-/ \\-/ \\-/ \n",
      "Logistic Regression error: 0.023513604299630453\n",
      "[0.8, 1, 1] DCF: 0.5078689186461209 minDCF: 0.3302092725926923\n",
      "CM\n",
      " [[2666.   34.]\n",
      " [  36.  241.]]\n",
      "/-\\ /-\\ /-\\ /-\\ /-\\ \n"
     ]
    }
   ],
   "source": [
    "logreg_mod1(DTR_z, LTR, DTE_z, LTE, 0, [0.8,1,1], False)"
   ]
  },
  {
   "cell_type": "code",
   "execution_count": 21,
   "metadata": {},
   "outputs": [
    {
     "name": "stdout",
     "output_type": "stream",
     "text": [
      "\\-/ \\-/ \\-/ \\-/ \\-/ \n",
      "Logistic Regression error: 0.022169969768223052\n",
      "[0.8, 1, 3] DCF: 0.23043222753067316 minDCF: 0.14338066078998724\n",
      "CM\n",
      " [[2682.   46.]\n",
      " [  20.  229.]]\n",
      "/-\\ /-\\ /-\\ /-\\ /-\\ \n"
     ]
    }
   ],
   "source": [
    "logreg_mod1(DTR_z, LTR, DTE_z, LTE, 0, [0.8,1,3], False)"
   ]
  },
  {
   "cell_type": "code",
   "execution_count": null,
   "metadata": {},
   "outputs": [],
   "source": []
  }
 ],
 "metadata": {
  "kernelspec": {
   "display_name": "Python 3",
   "language": "python",
   "name": "python3"
  },
  "language_info": {
   "codemirror_mode": {
    "name": "ipython",
    "version": 3
   },
   "file_extension": ".py",
   "mimetype": "text/x-python",
   "name": "python",
   "nbconvert_exporter": "python",
   "pygments_lexer": "ipython3",
   "version": "3.8.5"
  }
 },
 "nbformat": 4,
 "nbformat_minor": 4
}
