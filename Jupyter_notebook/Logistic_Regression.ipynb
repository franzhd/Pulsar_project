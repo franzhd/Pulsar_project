{
 "cells": [
  {
   "cell_type": "code",
   "execution_count": 1,
   "metadata": {},
   "outputs": [],
   "source": [
    "import numpy as np\n",
    "import scipy\n",
    "import numpy \n",
    "import matplotlib.pyplot as plt\n",
    "from scipy import linalg, special, stats\n",
    "from numpy import genfromtxt\n",
    "import ML_support as ml\n",
    "from scipy.optimize import fmin_l_bfgs_b"
   ]
  },
  {
   "cell_type": "code",
   "execution_count": 2,
   "metadata": {},
   "outputs": [],
   "source": [
    "def logreg_obj_wrap(DTR, LTR, l):\n",
    "\n",
    "    def logreg_obj(v):\n",
    "        n = DTR.shape[1]\n",
    "        w, b = v[0:-1], v[-1]\n",
    "        w = w.reshape((len(w), 1))\n",
    "        J = 0\n",
    "        x = DTR\n",
    "        for idx in range(n):\n",
    "            if LTR[idx] == 0:\n",
    "                c = 0\n",
    "            else:\n",
    "                c = 1\n",
    "\n",
    "            J += (c * numpy.log1p(numpy.exp(numpy.dot(-w.T, x[:, idx]) - b)) + (1 - c) * numpy.log1p(numpy.exp(numpy.dot(w.T, x[:, idx]) + b)))\n",
    "\n",
    "        return l/2 * ((numpy.linalg.norm(w))**2) + 1/n * J\n",
    "\n",
    "    return logreg_obj"
   ]
  },
  {
   "cell_type": "code",
   "execution_count": 10,
   "metadata": {},
   "outputs": [],
   "source": [
    "def logreg(DTR, LTR, DTE, LTE, l):\n",
    "    logreg_obj = logreg_obj_wrap(DTR, LTR, l)\n",
    "    v = numpy.zeros((DTR.shape[0]+1), dtype='int32')\n",
    "    x, f, d = fmin_l_bfgs_b(logreg_obj, v, approx_grad=True)\n",
    "    w, b = x[0:-1], x[-1]\n",
    "    \n",
    "    w = ml.mcol(w)\n",
    "    S = numpy.zeros((DTE.shape[1]))\n",
    "    for i in range(len(S)):\n",
    "        S[i] = numpy.dot(w.T, DTE[:, i]) + b\n",
    "\n",
    "    PL = numpy.zeros((len(LTE)))\n",
    "\n",
    "    for i in range(len(S)):\n",
    "        if(S[i] > 0):\n",
    "            PL[i] = 1\n",
    "\n",
    "    PL = PL == LTE\n",
    "    correctPred = sum(PL)\n",
    "\n",
    "    e = (len(LTE)-correctPred)/len(LTE)\n",
    "    print(f'| lambda = {l} |{logreg_obj(x)}|   {round(e*100, 1)}%     |\\n')\n",
    "        "
   ]
  },
  {
   "cell_type": "code",
   "execution_count": 13,
   "metadata": {},
   "outputs": [],
   "source": [
    "Data, label = ml.loadFile('../Train.txt')\n",
    "(DTR, LTR), (DTE,LTE) = ml.split_db_2to1(Data, label, seed=42)\n",
    "DTR_g, DTE_g = ml.gaussianize(DTR), ml.gaussianize(DTE)\n",
    "DTR_z, DTE_z = ml.z_normalization(DTR), ml.z_normalization(DTE)\n"
   ]
  },
  {
   "cell_type": "code",
   "execution_count": 5,
   "metadata": {
    "scrolled": true
   },
   "outputs": [
    {
     "name": "stdout",
     "output_type": "stream",
     "text": [
      "| l = 0 |[0.08436835]|   2.4%     |\n",
      "\n"
     ]
    }
   ],
   "source": [
    "logreg(DTR_g, LTR, DTE_g, LTE, 0)"
   ]
  },
  {
   "cell_type": "code",
   "execution_count": 6,
   "metadata": {},
   "outputs": [
    {
     "name": "stdout",
     "output_type": "stream",
     "text": [
      "| l = 0.1 |[0.16196515]|   4.3%     |\n",
      "\n"
     ]
    }
   ],
   "source": [
    "logreg(DTR_g, LTR, DTE_g, LTE, 0.1)"
   ]
  },
  {
   "cell_type": "code",
   "execution_count": 7,
   "metadata": {},
   "outputs": [
    {
     "name": "stdout",
     "output_type": "stream",
     "text": [
      "| l = 0.01 |[0.1075801]|   2.9%     |\n",
      "\n"
     ]
    }
   ],
   "source": [
    "logreg(DTR_g, LTR, DTE_g, LTE, 0.01)"
   ]
  },
  {
   "cell_type": "code",
   "execution_count": 8,
   "metadata": {},
   "outputs": [
    {
     "name": "stdout",
     "output_type": "stream",
     "text": [
      "| l = 0.001 |[0.09114929]|   2.5%     |\n",
      "\n"
     ]
    }
   ],
   "source": [
    "logreg(DTR_g, LTR, DTE_g, LTE, 0.001)"
   ]
  },
  {
   "cell_type": "code",
   "execution_count": 9,
   "metadata": {},
   "outputs": [
    {
     "name": "stdout",
     "output_type": "stream",
     "text": [
      "| l = 1e-05 |[0.08455873]|   2.4%     |\n",
      "\n"
     ]
    }
   ],
   "source": [
    "logreg(DTR_g, LTR, DTE_g, LTE, 0.00001)"
   ]
  },
  {
   "cell_type": "code",
   "execution_count": 11,
   "metadata": {},
   "outputs": [
    {
     "name": "stdout",
     "output_type": "stream",
     "text": [
      "| lambda = 1e-08 |[0.08436856]|   2.4%     |\n",
      "\n"
     ]
    }
   ],
   "source": [
    "logreg(DTR_g, LTR, DTE_g, LTE, 0.00000001)"
   ]
  },
  {
   "cell_type": "code",
   "execution_count": 14,
   "metadata": {},
   "outputs": [
    {
     "name": "stdout",
     "output_type": "stream",
     "text": [
      "| lambda = 0 |[0.07299565]|   2.2%     |\n",
      "\n"
     ]
    }
   ],
   "source": [
    "logreg(DTR_z, LTR, DTE_z, LTE, 0)"
   ]
  },
  {
   "cell_type": "code",
   "execution_count": 15,
   "metadata": {},
   "outputs": [
    {
     "name": "stdout",
     "output_type": "stream",
     "text": [
      "| lambda = 0.1 |[0.14874581]|   4.1%     |\n",
      "\n",
      "| lambda = 0.01 |[0.10062142]|   2.9%     |\n",
      "\n",
      "| lambda = 0.001 |[0.08311847]|   2.5%     |\n",
      "\n",
      "| lambda = 1e-05 |[0.07334328]|   2.2%     |\n",
      "\n"
     ]
    }
   ],
   "source": [
    "logreg(DTR_z, LTR, DTE_z, LTE, 0.1)\n",
    "logreg(DTR_z, LTR, DTE_z, LTE, 0.01)\n",
    "logreg(DTR_z, LTR, DTE_z, LTE, 0.001)\n",
    "logreg(DTR_z, LTR, DTE_z, LTE, 0.00001)"
   ]
  },
  {
   "cell_type": "code",
   "execution_count": 16,
   "metadata": {},
   "outputs": [
    {
     "name": "stdout",
     "output_type": "stream",
     "text": [
      "| lambda = 1e-07 |[0.07299922]|   2.2%     |\n",
      "\n"
     ]
    }
   ],
   "source": [
    "logreg(DTR_z, LTR, DTE_z, LTE, 0.0000001)"
   ]
  },
  {
   "cell_type": "code",
   "execution_count": null,
   "metadata": {},
   "outputs": [],
   "source": []
  }
 ],
 "metadata": {
  "kernelspec": {
   "display_name": "Python 3",
   "language": "python",
   "name": "python3"
  },
  "language_info": {
   "codemirror_mode": {
    "name": "ipython",
    "version": 3
   },
   "file_extension": ".py",
   "mimetype": "text/x-python",
   "name": "python",
   "nbconvert_exporter": "python",
   "pygments_lexer": "ipython3",
   "version": "3.8.5"
  }
 },
 "nbformat": 4,
 "nbformat_minor": 4
}
